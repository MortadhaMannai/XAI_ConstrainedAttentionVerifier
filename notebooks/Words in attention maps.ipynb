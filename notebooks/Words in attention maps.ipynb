{
 "cells": [
  {
   "cell_type": "markdown",
   "id": "9d2be4fd-0daf-418d-a30e-3f940a1fbc04",
   "metadata": {},
   "source": [
    "# What is attended\n",
    "\n",
    "This notebook is to analyze what the attention map is looking at"
   ]
  },
  {
   "cell_type": "code",
   "execution_count": 1,
   "id": "2d331b68-e62f-4c31-a6d0-a3a68f8d4e6f",
   "metadata": {},
   "outputs": [],
   "source": [
    "%load_ext autoreload\n",
    "%autoreload 2\n",
    "# Autoreload allows to get the auto-updated codes\n",
    "\n",
    "# Display html for notebook\n",
    "from IPython.display import display, HTML\n",
    "\n",
    "# Everything is needed\n",
    "import sys\n",
    "import os\n",
    "from os import path\n",
    "\n",
    "sys.path.append(\"./../src\") # to load packages used for models in src/\n",
    "cache_path = path.join('.cache') # notebook cache\n",
    "os.makedirs(cache_path, exist_ok=True) # create cache"
   ]
  },
  {
   "cell_type": "code",
   "execution_count": 2,
   "id": "68bcfa87-e4c0-4814-bc0f-2522a6d73b74",
   "metadata": {},
   "outputs": [],
   "source": [
    "from modules.logger import init_logging\n",
    "\n",
    "init_logging(color=True)"
   ]
  },
  {
   "cell_type": "markdown",
   "id": "4e8da3aa-1bf8-4723-abcb-aa16118517c4",
   "metadata": {},
   "source": [
    "Load inference files"
   ]
  },
  {
   "cell_type": "code",
   "execution_count": null,
   "id": "049f97ac-7c2c-4716-a8ae-dcde423bacad",
   "metadata": {},
   "outputs": [],
   "source": []
  },
  {
   "cell_type": "code",
   "execution_count": null,
   "id": "9f8d7037-9184-486e-aafa-21f7d40570ff",
   "metadata": {},
   "outputs": [],
   "source": []
  }
 ],
 "metadata": {
  "kernelspec": {
   "display_name": "Python 3 (ipykernel)",
   "language": "python",
   "name": "python3"
  },
  "language_info": {
   "codemirror_mode": {
    "name": "ipython",
    "version": 3
   },
   "file_extension": ".py",
   "mimetype": "text/x-python",
   "name": "python",
   "nbconvert_exporter": "python",
   "pygments_lexer": "ipython3",
   "version": "3.8.5"
  }
 },
 "nbformat": 4,
 "nbformat_minor": 5
}
