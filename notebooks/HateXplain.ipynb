{
 "cells": [
  {
   "cell_type": "markdown",
   "id": "42291469-df9d-43bc-8e04-550994f2f37b",
   "metadata": {
    "pycharm": {
     "name": "#%% md\n"
    }
   },
   "source": [
    "# Study on HateXplain"
   ]
  },
  {
   "cell_type": "code",
   "execution_count": 10,
   "id": "8e5a77f3-37ef-489d-bbb7-73be05cfc3ad",
   "metadata": {
    "pycharm": {
     "name": "#%%\n"
    }
   },
   "outputs": [
    {
     "name": "stdout",
     "output_type": "stream",
     "text": [
      "The autoreload extension is already loaded. To reload it, use:\n",
      "  %reload_ext autoreload\n"
     ]
    }
   ],
   "source": [
    "%load_ext autoreload\n",
    "%autoreload 2\n",
    "\n",
    "from IPython.display import display, HTML\n",
    "import os\n",
    "from os import path\n",
    "\n",
    "import sys\n",
    "sys.path.append(\"./../src\")\n",
    "\n",
    "cache_path = path.join(os.getcwd(), '..', '.cache')\n",
    "dataset_path = path.join(cache_path, 'dataset')\n",
    "tmp_path = path.join('.cache', '2022-07-27')\n",
    "os.makedirs(tmp_path,exist_ok=True)"
   ]
  },
  {
   "cell_type": "code",
   "execution_count": 11,
   "id": "4d048668-dfda-4895-b3a7-0305ecfb6b6a",
   "metadata": {
    "pycharm": {
     "name": "#%%\n"
    }
   },
   "outputs": [
    {
     "name": "stderr",
     "output_type": "stream",
     "text": [
      "Reusing dataset hatexplain (/Users/dunguyen/Projects/explanation_on_pair_sequences_task/notebooks/../.cache/dataset/hatexplain/plain_text/1.0.0/df474d8d8667d89ef30649bf66e9c856ad8305bef4bc147e8e31cbdf1b8e0249)\n"
     ]
    },
    {
     "data": {
      "application/vnd.jupyter.widget-view+json": {
       "model_id": "9ff8ab9cc1ff483ca727effa26985823",
       "version_major": 2,
       "version_minor": 0
      },
      "text/plain": [
       "  0%|          | 0/3 [00:00<?, ?it/s]"
      ]
     },
     "metadata": {},
     "output_type": "display_data"
    }
   ],
   "source": [
    "from datasets import load_dataset\n",
    "import shutil\n",
    "\n",
    "dataset = load_dataset(\"hatexplain\", cache_dir=path.join(cache_path, 'dataset'))\n",
    "\n",
    "shutil.rmtree(path.join(dataset_path, 'downloads'), ignore_errors=True)\n",
    "for fname in os.listdir(dataset_path):\n",
    "    if fname.endswith('.lock'): os.remove(os.path.join( dataset_path, fname ))"
   ]
  },
  {
   "cell_type": "code",
   "execution_count": 12,
   "id": "9f08c876-628f-4d93-a7b2-e2f079aa53c9",
   "metadata": {
    "pycharm": {
     "name": "#%%\n"
    }
   },
   "outputs": [],
   "source": [
    "train_set = dataset['train']"
   ]
  },
  {
   "cell_type": "code",
   "execution_count": 4,
   "id": "4e824499-d464-4789-83fd-b88319078e78",
   "metadata": {
    "pycharm": {
     "name": "#%%\n"
    }
   },
   "outputs": [
    {
     "name": "stdout",
     "output_type": "stream",
     "text": [
      "Taille de vocab: 24991\n",
      "exemple de vocab: ['the', 'a', 'to', 'and', 'i', '<user>', 'you', 'of', 'is', 'not', 'in', 'are', 'that', 'it', 'white', 'they', 'for', '<number>', 'be', 'have', 'this', 'with', 'on', 'all', 'do', 'nigger', 'like', 'but', 'so', 'my', 'if', 'was', 'as', 'he', 'just', 'will', 'people', 'we', 'who', 'can', 'your', 'or', 'by', 'their', 'about', 'no', 'what', 'women', 'me', 'from', 'am', 'them', 'up', 'out', 'at', 'get', 'jews', 'one', 'how', 'there', 'when', 'bitch', 'muslim', 'kike', 'would', 'fucking', 'an', 'ghetto', 'his', 'she', 'retarded', 'black', 'more', 'why', 'shit', 'because', 'fuck', 'hate', 'only', 'has', 'some', '’', 'being', 'now', 'know', 'niggers', 'gay', 'these', 'raped', 'her', 'should', 'us', 'did', 'our', 'were', 'want', 'immigrants', 'than', 'think', 'too']\n"
     ]
    }
   ],
   "source": [
    "from torchtext.vocab import build_vocab_from_iterator\n",
    "\n",
    "vocab = build_vocab_from_iterator(iter(doc for doc in train_set['post_tokens']))\n",
    "print('Taille de vocab:', len(vocab))\n",
    "print('exemple de vocab:', vocab.get_itos()[:100])"
   ]
  },
  {
   "cell_type": "code",
   "execution_count": 5,
   "id": "09f14cb6-81ab-4c35-9d01-5a9205bff0c3",
   "metadata": {
    "pycharm": {
     "name": "#%%\n"
    }
   },
   "outputs": [
    {
     "data": {
      "text/html": [
       "<div>\n",
       "<style scoped>\n",
       "    .dataframe tbody tr th:only-of-type {\n",
       "        vertical-align: middle;\n",
       "    }\n",
       "\n",
       "    .dataframe tbody tr th {\n",
       "        vertical-align: top;\n",
       "    }\n",
       "\n",
       "    .dataframe thead th {\n",
       "        text-align: right;\n",
       "    }\n",
       "</style>\n",
       "<table border=\"1\" class=\"dataframe\">\n",
       "  <thead>\n",
       "    <tr style=\"text-align: right;\">\n",
       "      <th></th>\n",
       "      <th>id</th>\n",
       "      <th>annotators</th>\n",
       "      <th>rationales</th>\n",
       "      <th>post_tokens</th>\n",
       "      <th>count_rationales</th>\n",
       "      <th>labels</th>\n",
       "    </tr>\n",
       "  </thead>\n",
       "  <tbody>\n",
       "    <tr>\n",
       "      <th>0</th>\n",
       "      <td>23107796_gab</td>\n",
       "      <td>{'label': [0, 2, 2], 'annotator_id': [203, 204...</td>\n",
       "      <td>[[0, 0, 0, 0, 0, 0, 0, 0, 1, 0, 0, 0, 0, 0, 0,...</td>\n",
       "      <td>[u, really, think, i, would, not, have, been, ...</td>\n",
       "      <td>2</td>\n",
       "      <td>[0, 2, 2]</td>\n",
       "    </tr>\n",
       "    <tr>\n",
       "      <th>1</th>\n",
       "      <td>9995600_gab</td>\n",
       "      <td>{'label': [2, 2, 0], 'annotator_id': [27, 6, 4...</td>\n",
       "      <td>[[0, 0, 0, 0, 0, 0, 0, 0, 0, 0, 0, 0, 0, 0, 0,...</td>\n",
       "      <td>[the, uk, has, threatened, to, return, radioac...</td>\n",
       "      <td>3</td>\n",
       "      <td>[2, 2, 0]</td>\n",
       "    </tr>\n",
       "    <tr>\n",
       "      <th>2</th>\n",
       "      <td>1227920812235051008_twitter</td>\n",
       "      <td>{'label': [2, 2, 2], 'annotator_id': [209, 203...</td>\n",
       "      <td>[[0, 0, 0, 0, 0, 0, 0, 0, 0, 0, 0, 0, 0, 1, 1,...</td>\n",
       "      <td>[if, english, is, not, imposition, then, hindi...</td>\n",
       "      <td>2</td>\n",
       "      <td>[2, 2, 2]</td>\n",
       "    </tr>\n",
       "    <tr>\n",
       "      <th>3</th>\n",
       "      <td>1204931715778543624_twitter</td>\n",
       "      <td>{'label': [2, 2, 2], 'annotator_id': [235, 222...</td>\n",
       "      <td>[[0, 0, 0, 0, 0, 0, 0, 0, 0, 1, 1], [0, 0, 0, ...</td>\n",
       "      <td>[no, liberal, congratulated, hindu, refugees, ...</td>\n",
       "      <td>2</td>\n",
       "      <td>[2, 2, 2]</td>\n",
       "    </tr>\n",
       "    <tr>\n",
       "      <th>4</th>\n",
       "      <td>1179102559241244672_twitter</td>\n",
       "      <td>{'label': [2, 2, 2], 'annotator_id': [51, 25, ...</td>\n",
       "      <td>[[0, 0, 0, 0, 0, 0, 0, 1, 0, 0, 0, 0, 0, 0, 0,...</td>\n",
       "      <td>[he, said, bro, even, your, texts, sound, redn...</td>\n",
       "      <td>3</td>\n",
       "      <td>[2, 2, 2]</td>\n",
       "    </tr>\n",
       "    <tr>\n",
       "      <th>...</th>\n",
       "      <td>...</td>\n",
       "      <td>...</td>\n",
       "      <td>...</td>\n",
       "      <td>...</td>\n",
       "      <td>...</td>\n",
       "      <td>...</td>\n",
       "    </tr>\n",
       "    <tr>\n",
       "      <th>15378</th>\n",
       "      <td>1125944647509917699_twitter</td>\n",
       "      <td>{'label': [2, 2, 1], 'annotator_id': [217, 206...</td>\n",
       "      <td>[[0, 0, 0, 0, 0, 0, 0, 0, 0, 0, 1, 1, 0, 0, 0,...</td>\n",
       "      <td>[thanks, for, coming, to, my, ted, talk, p.s.,...</td>\n",
       "      <td>2</td>\n",
       "      <td>[2, 2, 1]</td>\n",
       "    </tr>\n",
       "    <tr>\n",
       "      <th>15379</th>\n",
       "      <td>1191705189587341312_twitter</td>\n",
       "      <td>{'label': [1, 1, 2], 'annotator_id': [209, 200...</td>\n",
       "      <td>[]</td>\n",
       "      <td>[&lt;user&gt;, &lt;user&gt;, iran, has, the, 2, n, biggest...</td>\n",
       "      <td>0</td>\n",
       "      <td>[1, 1, 2]</td>\n",
       "    </tr>\n",
       "    <tr>\n",
       "      <th>15380</th>\n",
       "      <td>1178822728511606786_twitter</td>\n",
       "      <td>{'label': [1, 1, 1], 'annotator_id': [127, 17,...</td>\n",
       "      <td>[]</td>\n",
       "      <td>[or, maybe, those, were, not, meant, to, be, h...</td>\n",
       "      <td>0</td>\n",
       "      <td>[1, 1, 1]</td>\n",
       "    </tr>\n",
       "    <tr>\n",
       "      <th>15381</th>\n",
       "      <td>1179009825432358913_twitter</td>\n",
       "      <td>{'label': [1, 1, 1], 'annotator_id': [49, 18, ...</td>\n",
       "      <td>[]</td>\n",
       "      <td>[good, morning, ados, black, women, only]</td>\n",
       "      <td>0</td>\n",
       "      <td>[1, 1, 1]</td>\n",
       "    </tr>\n",
       "    <tr>\n",
       "      <th>15382</th>\n",
       "      <td>24503772_gab</td>\n",
       "      <td>{'label': [0, 0, 0], 'annotator_id': [9, 1, 64...</td>\n",
       "      <td>[[0, 0, 0, 0, 0, 0, 0, 0, 0, 0, 0, 0, 0, 0, 0,...</td>\n",
       "      <td>[the, main, reason, you, do, not, come, here, ...</td>\n",
       "      <td>3</td>\n",
       "      <td>[0, 0, 0]</td>\n",
       "    </tr>\n",
       "  </tbody>\n",
       "</table>\n",
       "<p>15383 rows × 6 columns</p>\n",
       "</div>"
      ],
      "text/plain": [
       "                                id  \\\n",
       "0                     23107796_gab   \n",
       "1                      9995600_gab   \n",
       "2      1227920812235051008_twitter   \n",
       "3      1204931715778543624_twitter   \n",
       "4      1179102559241244672_twitter   \n",
       "...                            ...   \n",
       "15378  1125944647509917699_twitter   \n",
       "15379  1191705189587341312_twitter   \n",
       "15380  1178822728511606786_twitter   \n",
       "15381  1179009825432358913_twitter   \n",
       "15382                 24503772_gab   \n",
       "\n",
       "                                              annotators  \\\n",
       "0      {'label': [0, 2, 2], 'annotator_id': [203, 204...   \n",
       "1      {'label': [2, 2, 0], 'annotator_id': [27, 6, 4...   \n",
       "2      {'label': [2, 2, 2], 'annotator_id': [209, 203...   \n",
       "3      {'label': [2, 2, 2], 'annotator_id': [235, 222...   \n",
       "4      {'label': [2, 2, 2], 'annotator_id': [51, 25, ...   \n",
       "...                                                  ...   \n",
       "15378  {'label': [2, 2, 1], 'annotator_id': [217, 206...   \n",
       "15379  {'label': [1, 1, 2], 'annotator_id': [209, 200...   \n",
       "15380  {'label': [1, 1, 1], 'annotator_id': [127, 17,...   \n",
       "15381  {'label': [1, 1, 1], 'annotator_id': [49, 18, ...   \n",
       "15382  {'label': [0, 0, 0], 'annotator_id': [9, 1, 64...   \n",
       "\n",
       "                                              rationales  \\\n",
       "0      [[0, 0, 0, 0, 0, 0, 0, 0, 1, 0, 0, 0, 0, 0, 0,...   \n",
       "1      [[0, 0, 0, 0, 0, 0, 0, 0, 0, 0, 0, 0, 0, 0, 0,...   \n",
       "2      [[0, 0, 0, 0, 0, 0, 0, 0, 0, 0, 0, 0, 0, 1, 1,...   \n",
       "3      [[0, 0, 0, 0, 0, 0, 0, 0, 0, 1, 1], [0, 0, 0, ...   \n",
       "4      [[0, 0, 0, 0, 0, 0, 0, 1, 0, 0, 0, 0, 0, 0, 0,...   \n",
       "...                                                  ...   \n",
       "15378  [[0, 0, 0, 0, 0, 0, 0, 0, 0, 0, 1, 1, 0, 0, 0,...   \n",
       "15379                                                 []   \n",
       "15380                                                 []   \n",
       "15381                                                 []   \n",
       "15382  [[0, 0, 0, 0, 0, 0, 0, 0, 0, 0, 0, 0, 0, 0, 0,...   \n",
       "\n",
       "                                             post_tokens  count_rationales  \\\n",
       "0      [u, really, think, i, would, not, have, been, ...                 2   \n",
       "1      [the, uk, has, threatened, to, return, radioac...                 3   \n",
       "2      [if, english, is, not, imposition, then, hindi...                 2   \n",
       "3      [no, liberal, congratulated, hindu, refugees, ...                 2   \n",
       "4      [he, said, bro, even, your, texts, sound, redn...                 3   \n",
       "...                                                  ...               ...   \n",
       "15378  [thanks, for, coming, to, my, ted, talk, p.s.,...                 2   \n",
       "15379  [<user>, <user>, iran, has, the, 2, n, biggest...                 0   \n",
       "15380  [or, maybe, those, were, not, meant, to, be, h...                 0   \n",
       "15381          [good, morning, ados, black, women, only]                 0   \n",
       "15382  [the, main, reason, you, do, not, come, here, ...                 3   \n",
       "\n",
       "          labels  \n",
       "0      [0, 2, 2]  \n",
       "1      [2, 2, 0]  \n",
       "2      [2, 2, 2]  \n",
       "3      [2, 2, 2]  \n",
       "4      [2, 2, 2]  \n",
       "...          ...  \n",
       "15378  [2, 2, 1]  \n",
       "15379  [1, 1, 2]  \n",
       "15380  [1, 1, 1]  \n",
       "15381  [1, 1, 1]  \n",
       "15382  [0, 0, 0]  \n",
       "\n",
       "[15383 rows x 6 columns]"
      ]
     },
     "execution_count": 5,
     "metadata": {},
     "output_type": "execute_result"
    }
   ],
   "source": [
    "df = train_set.to_pandas()\n",
    "df['count_rationales'] = df['rationales'].apply(lambda x: len(x))\n",
    "df['labels'] = df['annotators'].apply(lambda x: x['label'])\n",
    "df"
   ]
  },
  {
   "cell_type": "code",
   "execution_count": 6,
   "id": "6ca3f411-a62b-4250-aefe-e179d6b063d4",
   "metadata": {
    "pycharm": {
     "name": "#%%\n"
    }
   },
   "outputs": [
    {
     "data": {
      "text/plain": [
       "23.465253851654424"
      ]
     },
     "execution_count": 6,
     "metadata": {},
     "output_type": "execute_result"
    }
   ],
   "source": [
    "df['post_tokens'].str.len().mean()"
   ]
  },
  {
   "cell_type": "code",
   "execution_count": 7,
   "id": "9aaaef9a-dbe6-4f2b-b0f6-a9ab0c25ef6b",
   "metadata": {
    "pycharm": {
     "name": "#%%\n"
    }
   },
   "outputs": [
    {
     "data": {
      "text/plain": [
       "13.804274752488313"
      ]
     },
     "execution_count": 7,
     "metadata": {},
     "output_type": "execute_result"
    }
   ],
   "source": [
    "df['post_tokens'].str.len().std()"
   ]
  },
  {
   "cell_type": "code",
   "execution_count": 8,
   "id": "50714c43-f4ed-43a7-b625-1df91e9921ce",
   "metadata": {
    "pycharm": {
     "name": "#%%\n"
    }
   },
   "outputs": [
    {
     "data": {
      "text/plain": [
       "165"
      ]
     },
     "execution_count": 8,
     "metadata": {},
     "output_type": "execute_result"
    }
   ],
   "source": [
    "df['post_tokens'].str.len().max()"
   ]
  },
  {
   "cell_type": "code",
   "execution_count": 9,
   "id": "eb112a99-b268-4f1e-9a82-0f66784d0b1e",
   "metadata": {
    "pycharm": {
     "name": "#%%\n"
    }
   },
   "outputs": [
    {
     "data": {
      "text/plain": [
       "2"
      ]
     },
     "execution_count": 9,
     "metadata": {},
     "output_type": "execute_result"
    }
   ],
   "source": [
    "df['post_tokens'].str.len().min()"
   ]
  },
  {
   "cell_type": "markdown",
   "id": "af1f38c5-247a-472b-acee-7ee4f5cd2665",
   "metadata": {
    "pycharm": {
     "name": "#%% md\n"
    }
   },
   "source": [
    "<div class=\"alert alert-block alert-info\">\n",
    "    <b>Note:</b> Les raisonnements ne sont pas donnés systématiques par les 3 annotateurs\n",
    "</div>    "
   ]
  },
  {
   "cell_type": "code",
   "execution_count": 10,
   "id": "3b1f69f0-9cc1-42d9-a3f5-e43d3a9d00fb",
   "metadata": {
    "pycharm": {
     "name": "#%%\n"
    }
   },
   "outputs": [
    {
     "data": {
      "text/html": [
       "<div>\n",
       "<style scoped>\n",
       "    .dataframe tbody tr th:only-of-type {\n",
       "        vertical-align: middle;\n",
       "    }\n",
       "\n",
       "    .dataframe tbody tr th {\n",
       "        vertical-align: top;\n",
       "    }\n",
       "\n",
       "    .dataframe thead th {\n",
       "        text-align: right;\n",
       "    }\n",
       "</style>\n",
       "<table border=\"1\" class=\"dataframe\">\n",
       "  <thead>\n",
       "    <tr style=\"text-align: right;\">\n",
       "      <th></th>\n",
       "      <th>id</th>\n",
       "      <th>annotators</th>\n",
       "      <th>rationales</th>\n",
       "      <th>post_tokens</th>\n",
       "      <th>count_rationales</th>\n",
       "      <th>labels</th>\n",
       "      <th>is_harmful</th>\n",
       "      <th>harmful_has_explaination</th>\n",
       "    </tr>\n",
       "  </thead>\n",
       "  <tbody>\n",
       "    <tr>\n",
       "      <th>0</th>\n",
       "      <td>23107796_gab</td>\n",
       "      <td>{'label': [0, 2, 2], 'annotator_id': [203, 204...</td>\n",
       "      <td>[[0, 0, 0, 0, 0, 0, 0, 0, 1, 0, 0, 0, 0, 0, 0,...</td>\n",
       "      <td>[u, really, think, i, would, not, have, been, ...</td>\n",
       "      <td>2</td>\n",
       "      <td>[0, 2, 2]</td>\n",
       "      <td>True</td>\n",
       "      <td>True</td>\n",
       "    </tr>\n",
       "    <tr>\n",
       "      <th>1</th>\n",
       "      <td>9995600_gab</td>\n",
       "      <td>{'label': [2, 2, 0], 'annotator_id': [27, 6, 4...</td>\n",
       "      <td>[[0, 0, 0, 0, 0, 0, 0, 0, 0, 0, 0, 0, 0, 0, 0,...</td>\n",
       "      <td>[the, uk, has, threatened, to, return, radioac...</td>\n",
       "      <td>3</td>\n",
       "      <td>[2, 2, 0]</td>\n",
       "      <td>True</td>\n",
       "      <td>True</td>\n",
       "    </tr>\n",
       "    <tr>\n",
       "      <th>2</th>\n",
       "      <td>1227920812235051008_twitter</td>\n",
       "      <td>{'label': [2, 2, 2], 'annotator_id': [209, 203...</td>\n",
       "      <td>[[0, 0, 0, 0, 0, 0, 0, 0, 0, 0, 0, 0, 0, 1, 1,...</td>\n",
       "      <td>[if, english, is, not, imposition, then, hindi...</td>\n",
       "      <td>2</td>\n",
       "      <td>[2, 2, 2]</td>\n",
       "      <td>True</td>\n",
       "      <td>True</td>\n",
       "    </tr>\n",
       "    <tr>\n",
       "      <th>3</th>\n",
       "      <td>1204931715778543624_twitter</td>\n",
       "      <td>{'label': [2, 2, 2], 'annotator_id': [235, 222...</td>\n",
       "      <td>[[0, 0, 0, 0, 0, 0, 0, 0, 0, 1, 1], [0, 0, 0, ...</td>\n",
       "      <td>[no, liberal, congratulated, hindu, refugees, ...</td>\n",
       "      <td>2</td>\n",
       "      <td>[2, 2, 2]</td>\n",
       "      <td>True</td>\n",
       "      <td>True</td>\n",
       "    </tr>\n",
       "    <tr>\n",
       "      <th>4</th>\n",
       "      <td>1179102559241244672_twitter</td>\n",
       "      <td>{'label': [2, 2, 2], 'annotator_id': [51, 25, ...</td>\n",
       "      <td>[[0, 0, 0, 0, 0, 0, 0, 1, 0, 0, 0, 0, 0, 0, 0,...</td>\n",
       "      <td>[he, said, bro, even, your, texts, sound, redn...</td>\n",
       "      <td>3</td>\n",
       "      <td>[2, 2, 2]</td>\n",
       "      <td>True</td>\n",
       "      <td>True</td>\n",
       "    </tr>\n",
       "    <tr>\n",
       "      <th>...</th>\n",
       "      <td>...</td>\n",
       "      <td>...</td>\n",
       "      <td>...</td>\n",
       "      <td>...</td>\n",
       "      <td>...</td>\n",
       "      <td>...</td>\n",
       "      <td>...</td>\n",
       "      <td>...</td>\n",
       "    </tr>\n",
       "    <tr>\n",
       "      <th>15378</th>\n",
       "      <td>1125944647509917699_twitter</td>\n",
       "      <td>{'label': [2, 2, 1], 'annotator_id': [217, 206...</td>\n",
       "      <td>[[0, 0, 0, 0, 0, 0, 0, 0, 0, 0, 1, 1, 0, 0, 0,...</td>\n",
       "      <td>[thanks, for, coming, to, my, ted, talk, p.s.,...</td>\n",
       "      <td>2</td>\n",
       "      <td>[2, 2, 1]</td>\n",
       "      <td>False</td>\n",
       "      <td>True</td>\n",
       "    </tr>\n",
       "    <tr>\n",
       "      <th>15379</th>\n",
       "      <td>1191705189587341312_twitter</td>\n",
       "      <td>{'label': [1, 1, 2], 'annotator_id': [209, 200...</td>\n",
       "      <td>[]</td>\n",
       "      <td>[&lt;user&gt;, &lt;user&gt;, iran, has, the, 2, n, biggest...</td>\n",
       "      <td>0</td>\n",
       "      <td>[1, 1, 2]</td>\n",
       "      <td>False</td>\n",
       "      <td>True</td>\n",
       "    </tr>\n",
       "    <tr>\n",
       "      <th>15380</th>\n",
       "      <td>1178822728511606786_twitter</td>\n",
       "      <td>{'label': [1, 1, 1], 'annotator_id': [127, 17,...</td>\n",
       "      <td>[]</td>\n",
       "      <td>[or, maybe, those, were, not, meant, to, be, h...</td>\n",
       "      <td>0</td>\n",
       "      <td>[1, 1, 1]</td>\n",
       "      <td>False</td>\n",
       "      <td>True</td>\n",
       "    </tr>\n",
       "    <tr>\n",
       "      <th>15381</th>\n",
       "      <td>1179009825432358913_twitter</td>\n",
       "      <td>{'label': [1, 1, 1], 'annotator_id': [49, 18, ...</td>\n",
       "      <td>[]</td>\n",
       "      <td>[good, morning, ados, black, women, only]</td>\n",
       "      <td>0</td>\n",
       "      <td>[1, 1, 1]</td>\n",
       "      <td>False</td>\n",
       "      <td>True</td>\n",
       "    </tr>\n",
       "    <tr>\n",
       "      <th>15382</th>\n",
       "      <td>24503772_gab</td>\n",
       "      <td>{'label': [0, 0, 0], 'annotator_id': [9, 1, 64...</td>\n",
       "      <td>[[0, 0, 0, 0, 0, 0, 0, 0, 0, 0, 0, 0, 0, 0, 0,...</td>\n",
       "      <td>[the, main, reason, you, do, not, come, here, ...</td>\n",
       "      <td>3</td>\n",
       "      <td>[0, 0, 0]</td>\n",
       "      <td>True</td>\n",
       "      <td>True</td>\n",
       "    </tr>\n",
       "  </tbody>\n",
       "</table>\n",
       "<p>15383 rows × 8 columns</p>\n",
       "</div>"
      ],
      "text/plain": [
       "                                id  \\\n",
       "0                     23107796_gab   \n",
       "1                      9995600_gab   \n",
       "2      1227920812235051008_twitter   \n",
       "3      1204931715778543624_twitter   \n",
       "4      1179102559241244672_twitter   \n",
       "...                            ...   \n",
       "15378  1125944647509917699_twitter   \n",
       "15379  1191705189587341312_twitter   \n",
       "15380  1178822728511606786_twitter   \n",
       "15381  1179009825432358913_twitter   \n",
       "15382                 24503772_gab   \n",
       "\n",
       "                                              annotators  \\\n",
       "0      {'label': [0, 2, 2], 'annotator_id': [203, 204...   \n",
       "1      {'label': [2, 2, 0], 'annotator_id': [27, 6, 4...   \n",
       "2      {'label': [2, 2, 2], 'annotator_id': [209, 203...   \n",
       "3      {'label': [2, 2, 2], 'annotator_id': [235, 222...   \n",
       "4      {'label': [2, 2, 2], 'annotator_id': [51, 25, ...   \n",
       "...                                                  ...   \n",
       "15378  {'label': [2, 2, 1], 'annotator_id': [217, 206...   \n",
       "15379  {'label': [1, 1, 2], 'annotator_id': [209, 200...   \n",
       "15380  {'label': [1, 1, 1], 'annotator_id': [127, 17,...   \n",
       "15381  {'label': [1, 1, 1], 'annotator_id': [49, 18, ...   \n",
       "15382  {'label': [0, 0, 0], 'annotator_id': [9, 1, 64...   \n",
       "\n",
       "                                              rationales  \\\n",
       "0      [[0, 0, 0, 0, 0, 0, 0, 0, 1, 0, 0, 0, 0, 0, 0,...   \n",
       "1      [[0, 0, 0, 0, 0, 0, 0, 0, 0, 0, 0, 0, 0, 0, 0,...   \n",
       "2      [[0, 0, 0, 0, 0, 0, 0, 0, 0, 0, 0, 0, 0, 1, 1,...   \n",
       "3      [[0, 0, 0, 0, 0, 0, 0, 0, 0, 1, 1], [0, 0, 0, ...   \n",
       "4      [[0, 0, 0, 0, 0, 0, 0, 1, 0, 0, 0, 0, 0, 0, 0,...   \n",
       "...                                                  ...   \n",
       "15378  [[0, 0, 0, 0, 0, 0, 0, 0, 0, 0, 1, 1, 0, 0, 0,...   \n",
       "15379                                                 []   \n",
       "15380                                                 []   \n",
       "15381                                                 []   \n",
       "15382  [[0, 0, 0, 0, 0, 0, 0, 0, 0, 0, 0, 0, 0, 0, 0,...   \n",
       "\n",
       "                                             post_tokens  count_rationales  \\\n",
       "0      [u, really, think, i, would, not, have, been, ...                 2   \n",
       "1      [the, uk, has, threatened, to, return, radioac...                 3   \n",
       "2      [if, english, is, not, imposition, then, hindi...                 2   \n",
       "3      [no, liberal, congratulated, hindu, refugees, ...                 2   \n",
       "4      [he, said, bro, even, your, texts, sound, redn...                 3   \n",
       "...                                                  ...               ...   \n",
       "15378  [thanks, for, coming, to, my, ted, talk, p.s.,...                 2   \n",
       "15379  [<user>, <user>, iran, has, the, 2, n, biggest...                 0   \n",
       "15380  [or, maybe, those, were, not, meant, to, be, h...                 0   \n",
       "15381          [good, morning, ados, black, women, only]                 0   \n",
       "15382  [the, main, reason, you, do, not, come, here, ...                 3   \n",
       "\n",
       "          labels  is_harmful  harmful_has_explaination  \n",
       "0      [0, 2, 2]        True                      True  \n",
       "1      [2, 2, 0]        True                      True  \n",
       "2      [2, 2, 2]        True                      True  \n",
       "3      [2, 2, 2]        True                      True  \n",
       "4      [2, 2, 2]        True                      True  \n",
       "...          ...         ...                       ...  \n",
       "15378  [2, 2, 1]       False                      True  \n",
       "15379  [1, 1, 2]       False                      True  \n",
       "15380  [1, 1, 1]       False                      True  \n",
       "15381  [1, 1, 1]       False                      True  \n",
       "15382  [0, 0, 0]        True                      True  \n",
       "\n",
       "[15383 rows x 8 columns]"
      ]
     },
     "metadata": {},
     "output_type": "display_data"
    },
    {
     "name": "stdout",
     "output_type": "stream",
     "text": [
      "Consistent:  True\n"
     ]
    }
   ],
   "source": [
    "df['is_harmful'] = df['labels'].apply(lambda x: 1 not in x)\n",
    "df['harmful_has_explaination'] = (df['count_rationales'] > 0 & df['is_harmful']) | (df['count_rationales'] == 0 & ~df['is_harmful'])\n",
    "display(df)\n",
    "print('Consistent: ',df['harmful_has_explaination'].all())"
   ]
  },
  {
   "cell_type": "markdown",
   "id": "0d93c520-284b-47a1-bb88-4ef2dd8cf556",
   "metadata": {
    "pycharm": {
     "name": "#%% md\n"
    }
   },
   "source": [
    "<div class=\"alert alert-block alert-info\">\n",
    "    <b>Note:</b> Dans les cas où personne ne trouve le commentaire nuisible, aucun raisonnement est fourni.\n",
    "</div>    "
   ]
  },
  {
   "cell_type": "code",
   "execution_count": 11,
   "id": "75c5746c-8a5e-4a67-9b40-e92138e79b08",
   "metadata": {
    "pycharm": {
     "name": "#%%\n"
    }
   },
   "outputs": [
    {
     "data": {
      "text/html": [
       "<div>\n",
       "<style scoped>\n",
       "    .dataframe tbody tr th:only-of-type {\n",
       "        vertical-align: middle;\n",
       "    }\n",
       "\n",
       "    .dataframe tbody tr th {\n",
       "        vertical-align: top;\n",
       "    }\n",
       "\n",
       "    .dataframe thead th {\n",
       "        text-align: right;\n",
       "    }\n",
       "</style>\n",
       "<table border=\"1\" class=\"dataframe\">\n",
       "  <thead>\n",
       "    <tr style=\"text-align: right;\">\n",
       "      <th></th>\n",
       "      <th>id</th>\n",
       "      <th>annotators</th>\n",
       "      <th>rationales</th>\n",
       "      <th>post_tokens</th>\n",
       "      <th>count_rationales</th>\n",
       "      <th>labels</th>\n",
       "      <th>is_harmful</th>\n",
       "      <th>harmful_has_explaination</th>\n",
       "      <th>count_harmful</th>\n",
       "    </tr>\n",
       "  </thead>\n",
       "  <tbody>\n",
       "    <tr>\n",
       "      <th>0</th>\n",
       "      <td>23107796_gab</td>\n",
       "      <td>{'label': [0, 2, 2], 'annotator_id': [203, 204...</td>\n",
       "      <td>[[0, 0, 0, 0, 0, 0, 0, 0, 1, 0, 0, 0, 0, 0, 0,...</td>\n",
       "      <td>[u, really, think, i, would, not, have, been, ...</td>\n",
       "      <td>2</td>\n",
       "      <td>[0, 2, 2]</td>\n",
       "      <td>True</td>\n",
       "      <td>True</td>\n",
       "      <td>3</td>\n",
       "    </tr>\n",
       "    <tr>\n",
       "      <th>1</th>\n",
       "      <td>9995600_gab</td>\n",
       "      <td>{'label': [2, 2, 0], 'annotator_id': [27, 6, 4...</td>\n",
       "      <td>[[0, 0, 0, 0, 0, 0, 0, 0, 0, 0, 0, 0, 0, 0, 0,...</td>\n",
       "      <td>[the, uk, has, threatened, to, return, radioac...</td>\n",
       "      <td>3</td>\n",
       "      <td>[2, 2, 0]</td>\n",
       "      <td>True</td>\n",
       "      <td>True</td>\n",
       "      <td>3</td>\n",
       "    </tr>\n",
       "    <tr>\n",
       "      <th>2</th>\n",
       "      <td>1227920812235051008_twitter</td>\n",
       "      <td>{'label': [2, 2, 2], 'annotator_id': [209, 203...</td>\n",
       "      <td>[[0, 0, 0, 0, 0, 0, 0, 0, 0, 0, 0, 0, 0, 1, 1,...</td>\n",
       "      <td>[if, english, is, not, imposition, then, hindi...</td>\n",
       "      <td>2</td>\n",
       "      <td>[2, 2, 2]</td>\n",
       "      <td>True</td>\n",
       "      <td>True</td>\n",
       "      <td>3</td>\n",
       "    </tr>\n",
       "    <tr>\n",
       "      <th>3</th>\n",
       "      <td>1204931715778543624_twitter</td>\n",
       "      <td>{'label': [2, 2, 2], 'annotator_id': [235, 222...</td>\n",
       "      <td>[[0, 0, 0, 0, 0, 0, 0, 0, 0, 1, 1], [0, 0, 0, ...</td>\n",
       "      <td>[no, liberal, congratulated, hindu, refugees, ...</td>\n",
       "      <td>2</td>\n",
       "      <td>[2, 2, 2]</td>\n",
       "      <td>True</td>\n",
       "      <td>True</td>\n",
       "      <td>3</td>\n",
       "    </tr>\n",
       "    <tr>\n",
       "      <th>4</th>\n",
       "      <td>1179102559241244672_twitter</td>\n",
       "      <td>{'label': [2, 2, 2], 'annotator_id': [51, 25, ...</td>\n",
       "      <td>[[0, 0, 0, 0, 0, 0, 0, 1, 0, 0, 0, 0, 0, 0, 0,...</td>\n",
       "      <td>[he, said, bro, even, your, texts, sound, redn...</td>\n",
       "      <td>3</td>\n",
       "      <td>[2, 2, 2]</td>\n",
       "      <td>True</td>\n",
       "      <td>True</td>\n",
       "      <td>3</td>\n",
       "    </tr>\n",
       "    <tr>\n",
       "      <th>...</th>\n",
       "      <td>...</td>\n",
       "      <td>...</td>\n",
       "      <td>...</td>\n",
       "      <td>...</td>\n",
       "      <td>...</td>\n",
       "      <td>...</td>\n",
       "      <td>...</td>\n",
       "      <td>...</td>\n",
       "      <td>...</td>\n",
       "    </tr>\n",
       "    <tr>\n",
       "      <th>15378</th>\n",
       "      <td>1125944647509917699_twitter</td>\n",
       "      <td>{'label': [2, 2, 1], 'annotator_id': [217, 206...</td>\n",
       "      <td>[[0, 0, 0, 0, 0, 0, 0, 0, 0, 0, 1, 1, 0, 0, 0,...</td>\n",
       "      <td>[thanks, for, coming, to, my, ted, talk, p.s.,...</td>\n",
       "      <td>2</td>\n",
       "      <td>[2, 2, 1]</td>\n",
       "      <td>False</td>\n",
       "      <td>True</td>\n",
       "      <td>2</td>\n",
       "    </tr>\n",
       "    <tr>\n",
       "      <th>15379</th>\n",
       "      <td>1191705189587341312_twitter</td>\n",
       "      <td>{'label': [1, 1, 2], 'annotator_id': [209, 200...</td>\n",
       "      <td>[]</td>\n",
       "      <td>[&lt;user&gt;, &lt;user&gt;, iran, has, the, 2, n, biggest...</td>\n",
       "      <td>0</td>\n",
       "      <td>[1, 1, 2]</td>\n",
       "      <td>False</td>\n",
       "      <td>True</td>\n",
       "      <td>1</td>\n",
       "    </tr>\n",
       "    <tr>\n",
       "      <th>15380</th>\n",
       "      <td>1178822728511606786_twitter</td>\n",
       "      <td>{'label': [1, 1, 1], 'annotator_id': [127, 17,...</td>\n",
       "      <td>[]</td>\n",
       "      <td>[or, maybe, those, were, not, meant, to, be, h...</td>\n",
       "      <td>0</td>\n",
       "      <td>[1, 1, 1]</td>\n",
       "      <td>False</td>\n",
       "      <td>True</td>\n",
       "      <td>0</td>\n",
       "    </tr>\n",
       "    <tr>\n",
       "      <th>15381</th>\n",
       "      <td>1179009825432358913_twitter</td>\n",
       "      <td>{'label': [1, 1, 1], 'annotator_id': [49, 18, ...</td>\n",
       "      <td>[]</td>\n",
       "      <td>[good, morning, ados, black, women, only]</td>\n",
       "      <td>0</td>\n",
       "      <td>[1, 1, 1]</td>\n",
       "      <td>False</td>\n",
       "      <td>True</td>\n",
       "      <td>0</td>\n",
       "    </tr>\n",
       "    <tr>\n",
       "      <th>15382</th>\n",
       "      <td>24503772_gab</td>\n",
       "      <td>{'label': [0, 0, 0], 'annotator_id': [9, 1, 64...</td>\n",
       "      <td>[[0, 0, 0, 0, 0, 0, 0, 0, 0, 0, 0, 0, 0, 0, 0,...</td>\n",
       "      <td>[the, main, reason, you, do, not, come, here, ...</td>\n",
       "      <td>3</td>\n",
       "      <td>[0, 0, 0]</td>\n",
       "      <td>True</td>\n",
       "      <td>True</td>\n",
       "      <td>3</td>\n",
       "    </tr>\n",
       "  </tbody>\n",
       "</table>\n",
       "<p>15383 rows × 9 columns</p>\n",
       "</div>"
      ],
      "text/plain": [
       "                                id  \\\n",
       "0                     23107796_gab   \n",
       "1                      9995600_gab   \n",
       "2      1227920812235051008_twitter   \n",
       "3      1204931715778543624_twitter   \n",
       "4      1179102559241244672_twitter   \n",
       "...                            ...   \n",
       "15378  1125944647509917699_twitter   \n",
       "15379  1191705189587341312_twitter   \n",
       "15380  1178822728511606786_twitter   \n",
       "15381  1179009825432358913_twitter   \n",
       "15382                 24503772_gab   \n",
       "\n",
       "                                              annotators  \\\n",
       "0      {'label': [0, 2, 2], 'annotator_id': [203, 204...   \n",
       "1      {'label': [2, 2, 0], 'annotator_id': [27, 6, 4...   \n",
       "2      {'label': [2, 2, 2], 'annotator_id': [209, 203...   \n",
       "3      {'label': [2, 2, 2], 'annotator_id': [235, 222...   \n",
       "4      {'label': [2, 2, 2], 'annotator_id': [51, 25, ...   \n",
       "...                                                  ...   \n",
       "15378  {'label': [2, 2, 1], 'annotator_id': [217, 206...   \n",
       "15379  {'label': [1, 1, 2], 'annotator_id': [209, 200...   \n",
       "15380  {'label': [1, 1, 1], 'annotator_id': [127, 17,...   \n",
       "15381  {'label': [1, 1, 1], 'annotator_id': [49, 18, ...   \n",
       "15382  {'label': [0, 0, 0], 'annotator_id': [9, 1, 64...   \n",
       "\n",
       "                                              rationales  \\\n",
       "0      [[0, 0, 0, 0, 0, 0, 0, 0, 1, 0, 0, 0, 0, 0, 0,...   \n",
       "1      [[0, 0, 0, 0, 0, 0, 0, 0, 0, 0, 0, 0, 0, 0, 0,...   \n",
       "2      [[0, 0, 0, 0, 0, 0, 0, 0, 0, 0, 0, 0, 0, 1, 1,...   \n",
       "3      [[0, 0, 0, 0, 0, 0, 0, 0, 0, 1, 1], [0, 0, 0, ...   \n",
       "4      [[0, 0, 0, 0, 0, 0, 0, 1, 0, 0, 0, 0, 0, 0, 0,...   \n",
       "...                                                  ...   \n",
       "15378  [[0, 0, 0, 0, 0, 0, 0, 0, 0, 0, 1, 1, 0, 0, 0,...   \n",
       "15379                                                 []   \n",
       "15380                                                 []   \n",
       "15381                                                 []   \n",
       "15382  [[0, 0, 0, 0, 0, 0, 0, 0, 0, 0, 0, 0, 0, 0, 0,...   \n",
       "\n",
       "                                             post_tokens  count_rationales  \\\n",
       "0      [u, really, think, i, would, not, have, been, ...                 2   \n",
       "1      [the, uk, has, threatened, to, return, radioac...                 3   \n",
       "2      [if, english, is, not, imposition, then, hindi...                 2   \n",
       "3      [no, liberal, congratulated, hindu, refugees, ...                 2   \n",
       "4      [he, said, bro, even, your, texts, sound, redn...                 3   \n",
       "...                                                  ...               ...   \n",
       "15378  [thanks, for, coming, to, my, ted, talk, p.s.,...                 2   \n",
       "15379  [<user>, <user>, iran, has, the, 2, n, biggest...                 0   \n",
       "15380  [or, maybe, those, were, not, meant, to, be, h...                 0   \n",
       "15381          [good, morning, ados, black, women, only]                 0   \n",
       "15382  [the, main, reason, you, do, not, come, here, ...                 3   \n",
       "\n",
       "          labels  is_harmful  harmful_has_explaination  count_harmful  \n",
       "0      [0, 2, 2]        True                      True              3  \n",
       "1      [2, 2, 0]        True                      True              3  \n",
       "2      [2, 2, 2]        True                      True              3  \n",
       "3      [2, 2, 2]        True                      True              3  \n",
       "4      [2, 2, 2]        True                      True              3  \n",
       "...          ...         ...                       ...            ...  \n",
       "15378  [2, 2, 1]       False                      True              2  \n",
       "15379  [1, 1, 2]       False                      True              1  \n",
       "15380  [1, 1, 1]       False                      True              0  \n",
       "15381  [1, 1, 1]       False                      True              0  \n",
       "15382  [0, 0, 0]        True                      True              3  \n",
       "\n",
       "[15383 rows x 9 columns]"
      ]
     },
     "metadata": {},
     "output_type": "display_data"
    },
    {
     "name": "stdout",
     "output_type": "stream",
     "text": [
      "Annotators fournissent automatiquement l'explication?  False\n"
     ]
    }
   ],
   "source": [
    "df['count_harmful'] = df['labels'].apply(lambda x: sum(x != 1))\n",
    "display(df)\n",
    "print('Annotators fournissent automatiquement l\\'explication? ', (df['count_rationales'] == df['count_harmful']).all())"
   ]
  },
  {
   "cell_type": "markdown",
   "id": "4e03d254-edee-4f7c-b9ad-cea27752b083",
   "metadata": {
    "pycharm": {
     "name": "#%% md\n"
    }
   },
   "source": [
    "<div class=\"alert alert-block alert-info\">\n",
    "    <b>Note:</b> Là où les annotateurs donnes son label comme <i>hatespeech</i> ou <i>offensive</i> ne donne pas systématiquement son raisonnement\n",
    "</div>    "
   ]
  },
  {
   "cell_type": "code",
   "execution_count": 14,
   "id": "4b514282-ab14-4a8b-b2c7-549cb62fdd5b",
   "metadata": {
    "pycharm": {
     "name": "#%%\n"
    }
   },
   "outputs": [
    {
     "data": {
      "text/html": [
       "<div>\n",
       "<style scoped>\n",
       "    .dataframe tbody tr th:only-of-type {\n",
       "        vertical-align: middle;\n",
       "    }\n",
       "\n",
       "    .dataframe tbody tr th {\n",
       "        vertical-align: top;\n",
       "    }\n",
       "\n",
       "    .dataframe thead th {\n",
       "        text-align: right;\n",
       "    }\n",
       "</style>\n",
       "<table border=\"1\" class=\"dataframe\">\n",
       "  <thead>\n",
       "    <tr style=\"text-align: right;\">\n",
       "      <th></th>\n",
       "      <th>id</th>\n",
       "      <th>annotators</th>\n",
       "      <th>rationales</th>\n",
       "      <th>post_tokens</th>\n",
       "      <th>count_rationales</th>\n",
       "      <th>labels</th>\n",
       "      <th>is_harmful</th>\n",
       "      <th>harmful_has_explaination</th>\n",
       "      <th>count_harmful</th>\n",
       "      <th>label</th>\n",
       "    </tr>\n",
       "  </thead>\n",
       "  <tbody>\n",
       "    <tr>\n",
       "      <th>0</th>\n",
       "      <td>23107796_gab</td>\n",
       "      <td>{'label': [0, 2, 2], 'annotator_id': [203, 204...</td>\n",
       "      <td>[[0, 0, 0, 0, 0, 0, 0, 0, 1, 0, 0, 0, 0, 0, 0,...</td>\n",
       "      <td>[u, really, think, i, would, not, have, been, ...</td>\n",
       "      <td>2</td>\n",
       "      <td>[0, 2, 2]</td>\n",
       "      <td>True</td>\n",
       "      <td>True</td>\n",
       "      <td>3</td>\n",
       "      <td>2</td>\n",
       "    </tr>\n",
       "    <tr>\n",
       "      <th>1</th>\n",
       "      <td>9995600_gab</td>\n",
       "      <td>{'label': [2, 2, 0], 'annotator_id': [27, 6, 4...</td>\n",
       "      <td>[[0, 0, 0, 0, 0, 0, 0, 0, 0, 0, 0, 0, 0, 0, 0,...</td>\n",
       "      <td>[the, uk, has, threatened, to, return, radioac...</td>\n",
       "      <td>3</td>\n",
       "      <td>[2, 2, 0]</td>\n",
       "      <td>True</td>\n",
       "      <td>True</td>\n",
       "      <td>3</td>\n",
       "      <td>2</td>\n",
       "    </tr>\n",
       "    <tr>\n",
       "      <th>2</th>\n",
       "      <td>1227920812235051008_twitter</td>\n",
       "      <td>{'label': [2, 2, 2], 'annotator_id': [209, 203...</td>\n",
       "      <td>[[0, 0, 0, 0, 0, 0, 0, 0, 0, 0, 0, 0, 0, 1, 1,...</td>\n",
       "      <td>[if, english, is, not, imposition, then, hindi...</td>\n",
       "      <td>2</td>\n",
       "      <td>[2, 2, 2]</td>\n",
       "      <td>True</td>\n",
       "      <td>True</td>\n",
       "      <td>3</td>\n",
       "      <td>2</td>\n",
       "    </tr>\n",
       "    <tr>\n",
       "      <th>3</th>\n",
       "      <td>1204931715778543624_twitter</td>\n",
       "      <td>{'label': [2, 2, 2], 'annotator_id': [235, 222...</td>\n",
       "      <td>[[0, 0, 0, 0, 0, 0, 0, 0, 0, 1, 1], [0, 0, 0, ...</td>\n",
       "      <td>[no, liberal, congratulated, hindu, refugees, ...</td>\n",
       "      <td>2</td>\n",
       "      <td>[2, 2, 2]</td>\n",
       "      <td>True</td>\n",
       "      <td>True</td>\n",
       "      <td>3</td>\n",
       "      <td>2</td>\n",
       "    </tr>\n",
       "    <tr>\n",
       "      <th>4</th>\n",
       "      <td>1179102559241244672_twitter</td>\n",
       "      <td>{'label': [2, 2, 2], 'annotator_id': [51, 25, ...</td>\n",
       "      <td>[[0, 0, 0, 0, 0, 0, 0, 1, 0, 0, 0, 0, 0, 0, 0,...</td>\n",
       "      <td>[he, said, bro, even, your, texts, sound, redn...</td>\n",
       "      <td>3</td>\n",
       "      <td>[2, 2, 2]</td>\n",
       "      <td>True</td>\n",
       "      <td>True</td>\n",
       "      <td>3</td>\n",
       "      <td>2</td>\n",
       "    </tr>\n",
       "    <tr>\n",
       "      <th>...</th>\n",
       "      <td>...</td>\n",
       "      <td>...</td>\n",
       "      <td>...</td>\n",
       "      <td>...</td>\n",
       "      <td>...</td>\n",
       "      <td>...</td>\n",
       "      <td>...</td>\n",
       "      <td>...</td>\n",
       "      <td>...</td>\n",
       "      <td>...</td>\n",
       "    </tr>\n",
       "    <tr>\n",
       "      <th>15378</th>\n",
       "      <td>1125944647509917699_twitter</td>\n",
       "      <td>{'label': [2, 2, 1], 'annotator_id': [217, 206...</td>\n",
       "      <td>[[0, 0, 0, 0, 0, 0, 0, 0, 0, 0, 1, 1, 0, 0, 0,...</td>\n",
       "      <td>[thanks, for, coming, to, my, ted, talk, p.s.,...</td>\n",
       "      <td>2</td>\n",
       "      <td>[2, 2, 1]</td>\n",
       "      <td>False</td>\n",
       "      <td>True</td>\n",
       "      <td>2</td>\n",
       "      <td>2</td>\n",
       "    </tr>\n",
       "    <tr>\n",
       "      <th>15379</th>\n",
       "      <td>1191705189587341312_twitter</td>\n",
       "      <td>{'label': [1, 1, 2], 'annotator_id': [209, 200...</td>\n",
       "      <td>[]</td>\n",
       "      <td>[&lt;user&gt;, &lt;user&gt;, iran, has, the, 2, n, biggest...</td>\n",
       "      <td>0</td>\n",
       "      <td>[1, 1, 2]</td>\n",
       "      <td>False</td>\n",
       "      <td>True</td>\n",
       "      <td>1</td>\n",
       "      <td>1</td>\n",
       "    </tr>\n",
       "    <tr>\n",
       "      <th>15380</th>\n",
       "      <td>1178822728511606786_twitter</td>\n",
       "      <td>{'label': [1, 1, 1], 'annotator_id': [127, 17,...</td>\n",
       "      <td>[]</td>\n",
       "      <td>[or, maybe, those, were, not, meant, to, be, h...</td>\n",
       "      <td>0</td>\n",
       "      <td>[1, 1, 1]</td>\n",
       "      <td>False</td>\n",
       "      <td>True</td>\n",
       "      <td>0</td>\n",
       "      <td>1</td>\n",
       "    </tr>\n",
       "    <tr>\n",
       "      <th>15381</th>\n",
       "      <td>1179009825432358913_twitter</td>\n",
       "      <td>{'label': [1, 1, 1], 'annotator_id': [49, 18, ...</td>\n",
       "      <td>[]</td>\n",
       "      <td>[good, morning, ados, black, women, only]</td>\n",
       "      <td>0</td>\n",
       "      <td>[1, 1, 1]</td>\n",
       "      <td>False</td>\n",
       "      <td>True</td>\n",
       "      <td>0</td>\n",
       "      <td>1</td>\n",
       "    </tr>\n",
       "    <tr>\n",
       "      <th>15382</th>\n",
       "      <td>24503772_gab</td>\n",
       "      <td>{'label': [0, 0, 0], 'annotator_id': [9, 1, 64...</td>\n",
       "      <td>[[0, 0, 0, 0, 0, 0, 0, 0, 0, 0, 0, 0, 0, 0, 0,...</td>\n",
       "      <td>[the, main, reason, you, do, not, come, here, ...</td>\n",
       "      <td>3</td>\n",
       "      <td>[0, 0, 0]</td>\n",
       "      <td>True</td>\n",
       "      <td>True</td>\n",
       "      <td>3</td>\n",
       "      <td>0</td>\n",
       "    </tr>\n",
       "  </tbody>\n",
       "</table>\n",
       "<p>15383 rows × 10 columns</p>\n",
       "</div>"
      ],
      "text/plain": [
       "                                id  \\\n",
       "0                     23107796_gab   \n",
       "1                      9995600_gab   \n",
       "2      1227920812235051008_twitter   \n",
       "3      1204931715778543624_twitter   \n",
       "4      1179102559241244672_twitter   \n",
       "...                            ...   \n",
       "15378  1125944647509917699_twitter   \n",
       "15379  1191705189587341312_twitter   \n",
       "15380  1178822728511606786_twitter   \n",
       "15381  1179009825432358913_twitter   \n",
       "15382                 24503772_gab   \n",
       "\n",
       "                                              annotators  \\\n",
       "0      {'label': [0, 2, 2], 'annotator_id': [203, 204...   \n",
       "1      {'label': [2, 2, 0], 'annotator_id': [27, 6, 4...   \n",
       "2      {'label': [2, 2, 2], 'annotator_id': [209, 203...   \n",
       "3      {'label': [2, 2, 2], 'annotator_id': [235, 222...   \n",
       "4      {'label': [2, 2, 2], 'annotator_id': [51, 25, ...   \n",
       "...                                                  ...   \n",
       "15378  {'label': [2, 2, 1], 'annotator_id': [217, 206...   \n",
       "15379  {'label': [1, 1, 2], 'annotator_id': [209, 200...   \n",
       "15380  {'label': [1, 1, 1], 'annotator_id': [127, 17,...   \n",
       "15381  {'label': [1, 1, 1], 'annotator_id': [49, 18, ...   \n",
       "15382  {'label': [0, 0, 0], 'annotator_id': [9, 1, 64...   \n",
       "\n",
       "                                              rationales  \\\n",
       "0      [[0, 0, 0, 0, 0, 0, 0, 0, 1, 0, 0, 0, 0, 0, 0,...   \n",
       "1      [[0, 0, 0, 0, 0, 0, 0, 0, 0, 0, 0, 0, 0, 0, 0,...   \n",
       "2      [[0, 0, 0, 0, 0, 0, 0, 0, 0, 0, 0, 0, 0, 1, 1,...   \n",
       "3      [[0, 0, 0, 0, 0, 0, 0, 0, 0, 1, 1], [0, 0, 0, ...   \n",
       "4      [[0, 0, 0, 0, 0, 0, 0, 1, 0, 0, 0, 0, 0, 0, 0,...   \n",
       "...                                                  ...   \n",
       "15378  [[0, 0, 0, 0, 0, 0, 0, 0, 0, 0, 1, 1, 0, 0, 0,...   \n",
       "15379                                                 []   \n",
       "15380                                                 []   \n",
       "15381                                                 []   \n",
       "15382  [[0, 0, 0, 0, 0, 0, 0, 0, 0, 0, 0, 0, 0, 0, 0,...   \n",
       "\n",
       "                                             post_tokens  count_rationales  \\\n",
       "0      [u, really, think, i, would, not, have, been, ...                 2   \n",
       "1      [the, uk, has, threatened, to, return, radioac...                 3   \n",
       "2      [if, english, is, not, imposition, then, hindi...                 2   \n",
       "3      [no, liberal, congratulated, hindu, refugees, ...                 2   \n",
       "4      [he, said, bro, even, your, texts, sound, redn...                 3   \n",
       "...                                                  ...               ...   \n",
       "15378  [thanks, for, coming, to, my, ted, talk, p.s.,...                 2   \n",
       "15379  [<user>, <user>, iran, has, the, 2, n, biggest...                 0   \n",
       "15380  [or, maybe, those, were, not, meant, to, be, h...                 0   \n",
       "15381          [good, morning, ados, black, women, only]                 0   \n",
       "15382  [the, main, reason, you, do, not, come, here, ...                 3   \n",
       "\n",
       "          labels  is_harmful  harmful_has_explaination  count_harmful  label  \n",
       "0      [0, 2, 2]        True                      True              3      2  \n",
       "1      [2, 2, 0]        True                      True              3      2  \n",
       "2      [2, 2, 2]        True                      True              3      2  \n",
       "3      [2, 2, 2]        True                      True              3      2  \n",
       "4      [2, 2, 2]        True                      True              3      2  \n",
       "...          ...         ...                       ...            ...    ...  \n",
       "15378  [2, 2, 1]       False                      True              2      2  \n",
       "15379  [1, 1, 2]       False                      True              1      1  \n",
       "15380  [1, 1, 1]       False                      True              0      1  \n",
       "15381  [1, 1, 1]       False                      True              0      1  \n",
       "15382  [0, 0, 0]        True                      True              3      0  \n",
       "\n",
       "[15383 rows x 10 columns]"
      ]
     },
     "metadata": {},
     "output_type": "display_data"
    },
    {
     "name": "stdout",
     "output_type": "stream",
     "text": [
      "Il y a-t'il des commentaires négatifs sans raisonnement?  False\n"
     ]
    }
   ],
   "source": [
    "import numpy as np\n",
    "df['label'] = df['annotators'].apply(lambda x: np.bincount(x['label']).argmax())\n",
    "display(df)\n",
    "print('Il y a-t\\'il des commentaires négatifs sans raisonnement? ', ((df['label'] != 1) & (df['count_rationales'] == 0)).any())"
   ]
  },
  {
   "cell_type": "markdown",
   "id": "73bed02a-818c-4238-9c5b-2d9504aa5311",
   "metadata": {
    "pycharm": {
     "name": "#%% md\n"
    }
   },
   "source": [
    "<div class=\"alert alert-block alert-info\">\n",
    "    <b>Note:</b> Si la vote donne un négatif (0 ou 2), on a au moins une explication (<i>rationales</i>)\n",
    "</div>    "
   ]
  },
  {
   "cell_type": "code",
   "execution_count": 15,
   "id": "ceecbb04-373a-4744-9ee5-c9daa2bd9e67",
   "metadata": {
    "pycharm": {
     "name": "#%%\n"
    }
   },
   "outputs": [
    {
     "name": "stdout",
     "output_type": "stream",
     "text": [
      "Does all rationale has equal length? False\n",
      "How many comments that have this problem? 1\n"
     ]
    },
    {
     "data": {
      "text/html": [
       "<div>\n",
       "<style scoped>\n",
       "    .dataframe tbody tr th:only-of-type {\n",
       "        vertical-align: middle;\n",
       "    }\n",
       "\n",
       "    .dataframe tbody tr th {\n",
       "        vertical-align: top;\n",
       "    }\n",
       "\n",
       "    .dataframe thead th {\n",
       "        text-align: right;\n",
       "    }\n",
       "</style>\n",
       "<table border=\"1\" class=\"dataframe\">\n",
       "  <thead>\n",
       "    <tr style=\"text-align: right;\">\n",
       "      <th></th>\n",
       "      <th>id</th>\n",
       "      <th>annotators</th>\n",
       "      <th>rationales</th>\n",
       "      <th>post_tokens</th>\n",
       "      <th>count_rationales</th>\n",
       "      <th>labels</th>\n",
       "      <th>is_harmful</th>\n",
       "      <th>harmful_has_explaination</th>\n",
       "      <th>count_harmful</th>\n",
       "      <th>label</th>\n",
       "      <th>length_rationale_consistent</th>\n",
       "    </tr>\n",
       "  </thead>\n",
       "  <tbody>\n",
       "    <tr>\n",
       "      <th>1997</th>\n",
       "      <td>24439295_gab</td>\n",
       "      <td>{'label': [2, 2, 0], 'annotator_id': [222, 209...</td>\n",
       "      <td>[[0, 0, 0, 0, 0, 0, 0, 0, 0, 0, 0, 0, 0, 0, 0,...</td>\n",
       "      <td>[my, rhymes, pass, any, bar, exam, they, call,...</td>\n",
       "      <td>2</td>\n",
       "      <td>[2, 2, 0]</td>\n",
       "      <td>True</td>\n",
       "      <td>True</td>\n",
       "      <td>3</td>\n",
       "      <td>2</td>\n",
       "      <td>False</td>\n",
       "    </tr>\n",
       "  </tbody>\n",
       "</table>\n",
       "</div>"
      ],
      "text/plain": [
       "                id                                         annotators  \\\n",
       "1997  24439295_gab  {'label': [2, 2, 0], 'annotator_id': [222, 209...   \n",
       "\n",
       "                                             rationales  \\\n",
       "1997  [[0, 0, 0, 0, 0, 0, 0, 0, 0, 0, 0, 0, 0, 0, 0,...   \n",
       "\n",
       "                                            post_tokens  count_rationales  \\\n",
       "1997  [my, rhymes, pass, any, bar, exam, they, call,...                 2   \n",
       "\n",
       "         labels  is_harmful  harmful_has_explaination  count_harmful  label  \\\n",
       "1997  [2, 2, 0]        True                      True              3      2   \n",
       "\n",
       "      length_rationale_consistent  \n",
       "1997                        False  "
      ]
     },
     "metadata": {},
     "output_type": "display_data"
    },
    {
     "name": "stdout",
     "output_type": "stream",
     "text": [
      "Rationale length:  [47, 48] // Token length: 47\n"
     ]
    }
   ],
   "source": [
    "df['length_rationale_consistent'] = df['rationales'].apply(lambda x: len(set([_x.shape[0] for _x in x])) == 1 or len(x) == 0)\n",
    "print('Does all rationale has equal length?', df['length_rationale_consistent'].all())\n",
    "print('How many comments that have this problem?', (~df['length_rationale_consistent']).sum())\n",
    "insconsistent = df[~df['length_rationale_consistent']]\n",
    "display(insconsistent)\n",
    "for idx in insconsistent.index:\n",
    "    rationales = df.loc[idx, 'rationales']\n",
    "    print('Rationale length: ', [len(l) for l in rationales], '// Token length:', len(df.loc[idx, 'post_tokens']))"
   ]
  },
  {
   "cell_type": "markdown",
   "id": "365b06b5-d17d-43ff-b4f4-30fba650552c",
   "metadata": {
    "pycharm": {
     "name": "#%% md\n"
    }
   },
   "source": [
    "Is this the case for test and val?"
   ]
  },
  {
   "cell_type": "code",
   "execution_count": 16,
   "id": "76e87bf2-00b4-47fe-98f1-061054a33b1f",
   "metadata": {
    "pycharm": {
     "name": "#%%\n"
    }
   },
   "outputs": [
    {
     "name": "stdout",
     "output_type": "stream",
     "text": [
      "In train :\n",
      "Does all rationale has equal length? False\n",
      "How many comments that have this problem? 1\n",
      "In validation :\n",
      "Does all rationale has equal length? True\n",
      "How many comments that have this problem? 0\n",
      "In test :\n",
      "Does all rationale has equal length? True\n",
      "How many comments that have this problem? 0\n"
     ]
    }
   ],
   "source": [
    "for split, splitset in dataset.items():\n",
    "    print('In',split,':')\n",
    "    df = splitset.to_pandas()\n",
    "    df['length_rationale_consistent'] = df['rationales'].apply(lambda x: len(set([_x.shape[0] for _x in x])) == 1 or len(x) == 0)\n",
    "    print('Does all rationale has equal length?', df['length_rationale_consistent'].all())\n",
    "    print('How many comments that have this problem?', (~df['length_rationale_consistent']).sum())"
   ]
  },
  {
   "cell_type": "markdown",
   "id": "cf2a88b2-f98a-422b-9b76-cccfc09eeb43",
   "metadata": {
    "pycharm": {
     "name": "#%% md\n"
    }
   },
   "source": [
    "<div class=\"alert alert-block alert-info\">\n",
    "    <b>Note:</b> Juste un cas particulier dans l'explication du train set\n",
    "</div>    "
   ]
  },
  {
   "cell_type": "code",
   "execution_count": 17,
   "id": "4c8ad1bc-51a7-4b9d-ba10-f1d43be65b45",
   "metadata": {
    "pycharm": {
     "name": "#%%\n"
    }
   },
   "outputs": [
    {
     "data": {
      "text/html": [
       "<div>\n",
       "<style scoped>\n",
       "    .dataframe tbody tr th:only-of-type {\n",
       "        vertical-align: middle;\n",
       "    }\n",
       "\n",
       "    .dataframe tbody tr th {\n",
       "        vertical-align: top;\n",
       "    }\n",
       "\n",
       "    .dataframe thead th {\n",
       "        text-align: right;\n",
       "    }\n",
       "</style>\n",
       "<table border=\"1\" class=\"dataframe\">\n",
       "  <thead>\n",
       "    <tr style=\"text-align: right;\">\n",
       "      <th></th>\n",
       "      <th>post_tokens</th>\n",
       "      <th>rationale</th>\n",
       "      <th>label</th>\n",
       "    </tr>\n",
       "  </thead>\n",
       "  <tbody>\n",
       "    <tr>\n",
       "      <th>0</th>\n",
       "      <td>[u, really, think, i, would, not, have, been, ...</td>\n",
       "      <td>[0, 0, 0, 0, 0, 0, 0, 0, 1, 0, 1, 1, 0, 1, 0, ...</td>\n",
       "      <td>offensive</td>\n",
       "    </tr>\n",
       "    <tr>\n",
       "      <th>1</th>\n",
       "      <td>[the, uk, has, threatened, to, return, radioac...</td>\n",
       "      <td>[0, 0, 0, 0, 0, 0, 0, 0, 0, 0, 0, 0, 0, 0, 0, ...</td>\n",
       "      <td>offensive</td>\n",
       "    </tr>\n",
       "    <tr>\n",
       "      <th>2</th>\n",
       "      <td>[if, english, is, not, imposition, then, hindi...</td>\n",
       "      <td>[0, 0, 0, 0, 0, 0, 0, 0, 0, 0, 0, 0, 0, 1, 1, 1]</td>\n",
       "      <td>offensive</td>\n",
       "    </tr>\n",
       "    <tr>\n",
       "      <th>3</th>\n",
       "      <td>[no, liberal, congratulated, hindu, refugees, ...</td>\n",
       "      <td>[0, 0, 0, 0, 0, 0, 0, 0, 0, 1, 1]</td>\n",
       "      <td>offensive</td>\n",
       "    </tr>\n",
       "    <tr>\n",
       "      <th>4</th>\n",
       "      <td>[he, said, bro, even, your, texts, sound, redn...</td>\n",
       "      <td>[0, 0, 0, 0, 0, 0, 0, 1, 0, 0, 0, 0, 0, 0, 0, ...</td>\n",
       "      <td>offensive</td>\n",
       "    </tr>\n",
       "    <tr>\n",
       "      <th>...</th>\n",
       "      <td>...</td>\n",
       "      <td>...</td>\n",
       "      <td>...</td>\n",
       "    </tr>\n",
       "    <tr>\n",
       "      <th>15378</th>\n",
       "      <td>[thanks, for, coming, to, my, ted, talk, p.s.,...</td>\n",
       "      <td>[0, 0, 0, 0, 0, 0, 0, 0, 0, 0, 1, 1, 0, 0, 0, ...</td>\n",
       "      <td>offensive</td>\n",
       "    </tr>\n",
       "    <tr>\n",
       "      <th>15379</th>\n",
       "      <td>[&lt;user&gt;, &lt;user&gt;, iran, has, the, 2, n, biggest...</td>\n",
       "      <td>[]</td>\n",
       "      <td>normal</td>\n",
       "    </tr>\n",
       "    <tr>\n",
       "      <th>15380</th>\n",
       "      <td>[or, maybe, those, were, not, meant, to, be, h...</td>\n",
       "      <td>[]</td>\n",
       "      <td>normal</td>\n",
       "    </tr>\n",
       "    <tr>\n",
       "      <th>15381</th>\n",
       "      <td>[good, morning, ados, black, women, only]</td>\n",
       "      <td>[]</td>\n",
       "      <td>normal</td>\n",
       "    </tr>\n",
       "    <tr>\n",
       "      <th>15382</th>\n",
       "      <td>[the, main, reason, you, do, not, come, here, ...</td>\n",
       "      <td>[0, 0, 0, 0, 0, 0, 0, 0, 0, 0, 0, 0, 0, 0, 0, ...</td>\n",
       "      <td>hatespeech</td>\n",
       "    </tr>\n",
       "  </tbody>\n",
       "</table>\n",
       "<p>15383 rows × 3 columns</p>\n",
       "</div>"
      ],
      "text/plain": [
       "                                             post_tokens  \\\n",
       "0      [u, really, think, i, would, not, have, been, ...   \n",
       "1      [the, uk, has, threatened, to, return, radioac...   \n",
       "2      [if, english, is, not, imposition, then, hindi...   \n",
       "3      [no, liberal, congratulated, hindu, refugees, ...   \n",
       "4      [he, said, bro, even, your, texts, sound, redn...   \n",
       "...                                                  ...   \n",
       "15378  [thanks, for, coming, to, my, ted, talk, p.s.,...   \n",
       "15379  [<user>, <user>, iran, has, the, 2, n, biggest...   \n",
       "15380  [or, maybe, those, were, not, meant, to, be, h...   \n",
       "15381          [good, morning, ados, black, women, only]   \n",
       "15382  [the, main, reason, you, do, not, come, here, ...   \n",
       "\n",
       "                                               rationale       label  \n",
       "0      [0, 0, 0, 0, 0, 0, 0, 0, 1, 0, 1, 1, 0, 1, 0, ...   offensive  \n",
       "1      [0, 0, 0, 0, 0, 0, 0, 0, 0, 0, 0, 0, 0, 0, 0, ...   offensive  \n",
       "2       [0, 0, 0, 0, 0, 0, 0, 0, 0, 0, 0, 0, 0, 1, 1, 1]   offensive  \n",
       "3                      [0, 0, 0, 0, 0, 0, 0, 0, 0, 1, 1]   offensive  \n",
       "4      [0, 0, 0, 0, 0, 0, 0, 1, 0, 0, 0, 0, 0, 0, 0, ...   offensive  \n",
       "...                                                  ...         ...  \n",
       "15378  [0, 0, 0, 0, 0, 0, 0, 0, 0, 0, 1, 1, 0, 0, 0, ...   offensive  \n",
       "15379                                                 []      normal  \n",
       "15380                                                 []      normal  \n",
       "15381                                                 []      normal  \n",
       "15382  [0, 0, 0, 0, 0, 0, 0, 0, 0, 0, 0, 0, 0, 0, 0, ...  hatespeech  \n",
       "\n",
       "[15383 rows x 3 columns]"
      ]
     },
     "execution_count": 17,
     "metadata": {},
     "output_type": "execute_result"
    }
   ],
   "source": [
    "# Correct the example\n",
    "df = train_set.to_pandas()\n",
    "rationales = df.loc[1997, 'rationales']\n",
    "L = len(df.loc[1997, 'post_tokens'])\n",
    "rationales = [r[:L] for r in rationales]\n",
    "df.loc[1997, 'rationales'] = rationales\n",
    "\n",
    "df['rationale']  = df['rationales'].apply(lambda x: (np.mean([r.astype(float) for r in x], axis=0) >= 0.5).astype(int) if len(x) > 0 else x)\n",
    "df['label'] = df['annotators'].apply(lambda x: np.bincount(x['label']).argmax())\n",
    "df = df.drop(columns=['annotators', 'rationales', 'id'])\n",
    "\n",
    "int2str = ['hatespeech', 'normal', 'offensive'] # label from huggingface\n",
    "\n",
    "df['label'] = df['label'].apply(lambda x: int2str[x]).astype('category')\n",
    "df"
   ]
  },
  {
   "cell_type": "code",
   "execution_count": 21,
   "id": "523b9de2-3b66-4887-8519-54d68861ed4f",
   "metadata": {
    "pycharm": {
     "name": "#%%\n"
    }
   },
   "outputs": [
    {
     "data": {
      "text/plain": [
       "Dataset({\n",
       "    features: ['id', 'annotators', 'rationales', 'post_tokens'],\n",
       "    num_rows: 15383\n",
       "})"
      ]
     },
     "execution_count": 21,
     "metadata": {},
     "output_type": "execute_result"
    }
   ],
   "source": [
    "train_set"
   ]
  },
  {
   "cell_type": "markdown",
   "id": "411934f1-7079-408b-a832-74daedccd487",
   "metadata": {
    "pycharm": {
     "name": "#%% md\n"
    }
   },
   "source": [
    "## Checking problem with dataset"
   ]
  },
  {
   "cell_type": "markdown",
   "id": "8eaf7357-6cdb-4038-a028-6b83e5251020",
   "metadata": {},
   "source": [
    "<div class=\"alert alert-block alert-info\">\n",
    "    <b>Note:</b> Check if #tokens != #rationale\n",
    "</div>    "
   ]
  },
  {
   "cell_type": "code",
   "execution_count": 23,
   "id": "2e8c9c6a-d986-4dc8-995e-88522f431f3f",
   "metadata": {
    "pycharm": {
     "name": "#%%\n"
    }
   },
   "outputs": [
    {
     "name": "stdout",
     "output_type": "stream",
     "text": [
      "train > False\n",
      "val > False\n",
      "test > False\n"
     ]
    }
   ],
   "source": [
    "from data.hatexplain.dataset import HateXPlain\n",
    "\n",
    "for split in ['train', 'val', 'test']:\n",
    "    dataset = HateXPlain(root=dataset_path, split=split)\n",
    "    dataset.data['count_tokens'] = dataset.data['post_tokens'].str.len()\n",
    "    dataset.data['count_rationale'] = dataset.data['rationale'].str.len()\n",
    "    print(split,'>', ((dataset.data['count_tokens'] != dataset.data['count_rationale']) & (dataset.data['count_rationale'] > 0)).any())"
   ]
  },
  {
   "cell_type": "code",
   "execution_count": 24,
   "id": "ce9d5740-1322-40d5-bf5e-ca26698bb484",
   "metadata": {
    "pycharm": {
     "name": "#%%\n"
    }
   },
   "outputs": [
    {
     "data": {
      "text/html": [
       "<div>\n",
       "<style scoped>\n",
       "    .dataframe tbody tr th:only-of-type {\n",
       "        vertical-align: middle;\n",
       "    }\n",
       "\n",
       "    .dataframe tbody tr th {\n",
       "        vertical-align: top;\n",
       "    }\n",
       "\n",
       "    .dataframe thead th {\n",
       "        text-align: right;\n",
       "    }\n",
       "</style>\n",
       "<table border=\"1\" class=\"dataframe\">\n",
       "  <thead>\n",
       "    <tr style=\"text-align: right;\">\n",
       "      <th></th>\n",
       "      <th>post_tokens</th>\n",
       "      <th>label</th>\n",
       "      <th>rationale</th>\n",
       "      <th>heuristic</th>\n",
       "      <th>count_tokens</th>\n",
       "      <th>count_rationale</th>\n",
       "    </tr>\n",
       "  </thead>\n",
       "  <tbody>\n",
       "  </tbody>\n",
       "</table>\n",
       "</div>"
      ],
      "text/plain": [
       "Empty DataFrame\n",
       "Columns: [post_tokens, label, rationale, heuristic, count_tokens, count_rationale]\n",
       "Index: []"
      ]
     },
     "execution_count": 24,
     "metadata": {},
     "output_type": "execute_result"
    }
   ],
   "source": [
    "dataset.data[(dataset.data['count_tokens'] != dataset.data['count_rationale']) & (dataset.data['count_rationale'] > 0)]"
   ]
  },
  {
   "cell_type": "markdown",
   "id": "e07d62b8-210b-42c8-87be-0b0dbf6759e5",
   "metadata": {},
   "source": [
    "## Checking if there are hateful/offensive contents having no rationale"
   ]
  },
  {
   "cell_type": "code",
   "execution_count": 33,
   "id": "d6441b4b-f0cc-450d-a94b-370f303ebc2d",
   "metadata": {},
   "outputs": [],
   "source": [
    "dataset.data['sum_rationale'] = dataset.data['rationale'].map(sum)"
   ]
  },
  {
   "cell_type": "code",
   "execution_count": 35,
   "id": "cdc955d1-3617-4ec9-988e-fc0e4d85d87f",
   "metadata": {},
   "outputs": [
    {
     "data": {
      "text/plain": [
       "783"
      ]
     },
     "execution_count": 35,
     "metadata": {},
     "output_type": "execute_result"
    }
   ],
   "source": [
    "(dataset.data['sum_rationale'] == 0).sum()"
   ]
  },
  {
   "cell_type": "code",
   "execution_count": 44,
   "id": "8ab1327f-8531-413a-9a60-df19049fe4af",
   "metadata": {},
   "outputs": [
    {
     "name": "stdout",
     "output_type": "stream",
     "text": [
      "Split : train\n",
      "Number of post that has 0 rationale :  3 / 9132 ( 0.03 %)\n"
     ]
    },
    {
     "data": {
      "text/html": [
       "<div>\n",
       "<style scoped>\n",
       "    .dataframe tbody tr th:only-of-type {\n",
       "        vertical-align: middle;\n",
       "    }\n",
       "\n",
       "    .dataframe tbody tr th {\n",
       "        vertical-align: top;\n",
       "    }\n",
       "\n",
       "    .dataframe thead th {\n",
       "        text-align: right;\n",
       "    }\n",
       "</style>\n",
       "<table border=\"1\" class=\"dataframe\">\n",
       "  <thead>\n",
       "    <tr style=\"text-align: right;\">\n",
       "      <th></th>\n",
       "      <th>post_tokens</th>\n",
       "      <th>label</th>\n",
       "      <th>rationale</th>\n",
       "      <th>heuristic</th>\n",
       "      <th>sum_rationale</th>\n",
       "    </tr>\n",
       "  </thead>\n",
       "  <tbody>\n",
       "    <tr>\n",
       "      <th>626</th>\n",
       "      <td>[muslims, have, been, enslaving, and, raping, ...</td>\n",
       "      <td>offensive</td>\n",
       "      <td>[0, 0, 0, 0, 0, 0, 0, 0, 0, 0, 0, 0, 0, 0, 0, ...</td>\n",
       "      <td>[0.0, 0.0, 0.0, 0.0, 0.0, 0.0, 0.0102198993099...</td>\n",
       "      <td>0</td>\n",
       "    </tr>\n",
       "    <tr>\n",
       "      <th>2594</th>\n",
       "      <td>[&lt;user&gt;, not, good, good, vs, bad, more, like,...</td>\n",
       "      <td>hatespeech</td>\n",
       "      <td>[0, 0, 0, 0, 0, 0, 0, 0, 0, 0, 0, 0, 0, 0, 0, ...</td>\n",
       "      <td>[0.0, 0.0, 0.0009191050386161296, 0.0009191050...</td>\n",
       "      <td>0</td>\n",
       "    </tr>\n",
       "    <tr>\n",
       "      <th>5947</th>\n",
       "      <td>[boo, sorry, did, i, scare, you, wassup, gurl,...</td>\n",
       "      <td>offensive</td>\n",
       "      <td>[0, 0, 0, 0, 0, 0, 0, 0, 0, 0, 0, 0, 0, 0, 0, ...</td>\n",
       "      <td>[0.0, 5.487194260394804e-05, 0.0, 0.0, 0.0, 0....</td>\n",
       "      <td>0</td>\n",
       "    </tr>\n",
       "  </tbody>\n",
       "</table>\n",
       "</div>"
      ],
      "text/plain": [
       "                                            post_tokens       label  \\\n",
       "626   [muslims, have, been, enslaving, and, raping, ...   offensive   \n",
       "2594  [<user>, not, good, good, vs, bad, more, like,...  hatespeech   \n",
       "5947  [boo, sorry, did, i, scare, you, wassup, gurl,...   offensive   \n",
       "\n",
       "                                              rationale  \\\n",
       "626   [0, 0, 0, 0, 0, 0, 0, 0, 0, 0, 0, 0, 0, 0, 0, ...   \n",
       "2594  [0, 0, 0, 0, 0, 0, 0, 0, 0, 0, 0, 0, 0, 0, 0, ...   \n",
       "5947  [0, 0, 0, 0, 0, 0, 0, 0, 0, 0, 0, 0, 0, 0, 0, ...   \n",
       "\n",
       "                                              heuristic  sum_rationale  \n",
       "626   [0.0, 0.0, 0.0, 0.0, 0.0, 0.0, 0.0102198993099...              0  \n",
       "2594  [0.0, 0.0, 0.0009191050386161296, 0.0009191050...              0  \n",
       "5947  [0.0, 5.487194260394804e-05, 0.0, 0.0, 0.0, 0....              0  "
      ]
     },
     "metadata": {},
     "output_type": "display_data"
    },
    {
     "name": "stdout",
     "output_type": "stream",
     "text": [
      "===============\n",
      "Split : val\n",
      "Number of post that has 0 rationale :  0 / 1141 ( 0.0 %)\n"
     ]
    },
    {
     "data": {
      "text/html": [
       "<div>\n",
       "<style scoped>\n",
       "    .dataframe tbody tr th:only-of-type {\n",
       "        vertical-align: middle;\n",
       "    }\n",
       "\n",
       "    .dataframe tbody tr th {\n",
       "        vertical-align: top;\n",
       "    }\n",
       "\n",
       "    .dataframe thead th {\n",
       "        text-align: right;\n",
       "    }\n",
       "</style>\n",
       "<table border=\"1\" class=\"dataframe\">\n",
       "  <thead>\n",
       "    <tr style=\"text-align: right;\">\n",
       "      <th></th>\n",
       "      <th>post_tokens</th>\n",
       "      <th>label</th>\n",
       "      <th>rationale</th>\n",
       "      <th>heuristic</th>\n",
       "      <th>sum_rationale</th>\n",
       "    </tr>\n",
       "  </thead>\n",
       "  <tbody>\n",
       "  </tbody>\n",
       "</table>\n",
       "</div>"
      ],
      "text/plain": [
       "Empty DataFrame\n",
       "Columns: [post_tokens, label, rationale, heuristic, sum_rationale]\n",
       "Index: []"
      ]
     },
     "metadata": {},
     "output_type": "display_data"
    },
    {
     "name": "stdout",
     "output_type": "stream",
     "text": [
      "===============\n",
      "Split : test\n",
      "Number of post that has 0 rationale :  1 / 1142 ( 0.09 %)\n"
     ]
    },
    {
     "data": {
      "text/html": [
       "<div>\n",
       "<style scoped>\n",
       "    .dataframe tbody tr th:only-of-type {\n",
       "        vertical-align: middle;\n",
       "    }\n",
       "\n",
       "    .dataframe tbody tr th {\n",
       "        vertical-align: top;\n",
       "    }\n",
       "\n",
       "    .dataframe thead th {\n",
       "        text-align: right;\n",
       "    }\n",
       "</style>\n",
       "<table border=\"1\" class=\"dataframe\">\n",
       "  <thead>\n",
       "    <tr style=\"text-align: right;\">\n",
       "      <th></th>\n",
       "      <th>post_tokens</th>\n",
       "      <th>label</th>\n",
       "      <th>rationale</th>\n",
       "      <th>heuristic</th>\n",
       "      <th>sum_rationale</th>\n",
       "    </tr>\n",
       "  </thead>\n",
       "  <tbody>\n",
       "    <tr>\n",
       "      <th>513</th>\n",
       "      <td>[i, think, ancestry, com, only, exists, to, tr...</td>\n",
       "      <td>hatespeech</td>\n",
       "      <td>[0, 0, 0, 0, 0, 0, 0, 0, 0, 0, 0, 0, 0, 0, 0, ...</td>\n",
       "      <td>[0.0, 0.0, 0.0, 0.0, 0.0, 0.0, 0.0, 0.0, 0.010...</td>\n",
       "      <td>0</td>\n",
       "    </tr>\n",
       "  </tbody>\n",
       "</table>\n",
       "</div>"
      ],
      "text/plain": [
       "                                           post_tokens       label  \\\n",
       "513  [i, think, ancestry, com, only, exists, to, tr...  hatespeech   \n",
       "\n",
       "                                             rationale  \\\n",
       "513  [0, 0, 0, 0, 0, 0, 0, 0, 0, 0, 0, 0, 0, 0, 0, ...   \n",
       "\n",
       "                                             heuristic  sum_rationale  \n",
       "513  [0.0, 0.0, 0.0, 0.0, 0.0, 0.0, 0.0, 0.0, 0.010...              0  "
      ]
     },
     "metadata": {},
     "output_type": "display_data"
    },
    {
     "name": "stdout",
     "output_type": "stream",
     "text": [
      "===============\n"
     ]
    }
   ],
   "source": [
    "for split in ['train', 'val', 'test']:\n",
    "    print('Split :', split)\n",
    "    dataset = HateXPlain(root=dataset_path, split=split)\n",
    "    data = dataset.data.copy()\n",
    "    data = data[data['label'] != 'normal']\n",
    "    data['sum_rationale'] = data['rationale'].apply(sum)\n",
    "    nb_0_rationale = (data['sum_rationale'] == 0).sum()\n",
    "    print('Number of post that has 0 rationale : ', nb_0_rationale,'/', len(data), '(', round(nb_0_rationale*100/len(data), 2),'%)')\n",
    "    display(data[data['sum_rationale'] == 0])\n",
    "    \n",
    "    print('='*15)"
   ]
  },
  {
   "cell_type": "markdown",
   "id": "9da0eea7-ffff-4f64-a3cc-f94d4ae257ec",
   "metadata": {},
   "source": [
    "## Check label order in test set"
   ]
  },
  {
   "cell_type": "code",
   "execution_count": null,
   "id": "438c93df-3287-440c-8d4e-3f1046586aaa",
   "metadata": {},
   "outputs": [],
   "source": []
  },
  {
   "cell_type": "code",
   "execution_count": null,
   "id": "725a8fdd-426e-4a01-a80e-816d59dd277a",
   "metadata": {},
   "outputs": [],
   "source": []
  },
  {
   "cell_type": "markdown",
   "id": "e04d0ce2-642c-4c98-9c5f-4834fbb732b5",
   "metadata": {
    "pycharm": {
     "name": "#%% md\n"
    }
   },
   "source": [
    "## Find words statistics for class prediction"
   ]
  },
  {
   "cell_type": "code",
   "execution_count": 96,
   "id": "c53eb771-dacc-4d74-948c-9d6bd23d90cc",
   "metadata": {
    "pycharm": {
     "name": "#%%\n"
    }
   },
   "outputs": [],
   "source": [
    "from data.hatexplain.dataset import HateXPlain\n",
    "\n",
    "# Load dataset\n",
    "dataset = HateXPlain(root=dataset_path, split='test')\n",
    "tokens = dataset.data['post_tokens']\n",
    "rationale = dataset.data['rationale']\n",
    "\n",
    "# Add punctuation to separate sentences\n",
    "for i in range(len(tokens)):\n",
    "    tokens[i].append('.')\n",
    "    rationale[i].append(0)\n",
    "\n",
    "\n",
    "# Find postag\n",
    "from spacy.tokens import Doc\n",
    "import spacy\n",
    "\n",
    "flatten_token = [tk for sent in tokens for tk in sent]\n",
    "flatten_rationale = [r for sent in rationale for r in sent]\n",
    "\n",
    "nlp = spacy.load('en_core_web_sm')\n",
    "doc = Doc(nlp.vocab, words=flatten_token)\n",
    "pos = [tk.pos_ for tk in nlp(doc)]"
   ]
  },
  {
   "cell_type": "code",
   "execution_count": 37,
   "id": "3a2f63dd-3948-4f9f-8bb5-cb454fd71dfc",
   "metadata": {
    "pycharm": {
     "name": "#%%\n"
    }
   },
   "outputs": [
    {
     "data": {
      "application/vnd.jupyter.widget-view+json": {
       "model_id": "c83d26ef204f49b7bb2a8687af6617c2",
       "version_major": 2,
       "version_minor": 0
      },
      "text/plain": [
       "  0%|          | 0/46443 [00:00<?, ?it/s]"
      ]
     },
     "metadata": {},
     "output_type": "display_data"
    }
   ],
   "source": [
    "from tqdm.notebook import tqdm\n",
    "\n",
    "cnt_pos = dict()\n",
    "cnt_tok = dict()\n",
    "cnt_pos_total = dict()\n",
    "cnt_tok_total = dict()\n",
    "\n",
    "for p, r, t in tqdm(zip(pos, flatten_rationale, flatten_token), total=len(flatten_rationale)):\n",
    "    \n",
    "    cnt_pos_total[p] = cnt_pos_total.get(p, 0) +1\n",
    "    cnt_tok_total[t] = cnt_tok_total.get(t, 0) +1\n",
    "    \n",
    "    if r > 0:\n",
    "        cnt_pos[p] = cnt_pos.get(p, 0) + 1\n",
    "        cnt_tok[t] = cnt_tok.get(t, 0) + 1"
   ]
  },
  {
   "cell_type": "code",
   "execution_count": 38,
   "id": "af3233b6-eafa-47da-9346-3c8a7250c712",
   "metadata": {
    "pycharm": {
     "name": "#%%\n"
    }
   },
   "outputs": [
    {
     "name": "stdout",
     "output_type": "stream",
     "text": [
      "POS of annotations\n",
      "{'NOUN': 2517, 'VERB': 1191, 'ADJ': 1018, 'PRON': 755, 'PROPN': 707, 'ADP': 637, 'DET': 574, 'AUX': 484, 'ADV': 340, 'CCONJ': 236, 'PART': 185, 'SCONJ': 173, 'INTJ': 36, 'NUM': 26, 'X': 13, 'PUNCT': 12, 'SPACE': 2}\n",
      "POS in total\n",
      "{'NOUN': 9360, 'VERB': 6116, 'PRON': 4826, 'ADJ': 4109, 'ADP': 3922, 'DET': 3438, 'PROPN': 3022, 'AUX': 2885, 'ADV': 2145, 'PUNCT': 2052, 'CCONJ': 1258, 'PART': 1152, 'SCONJ': 1098, 'INTJ': 638, 'NUM': 197, 'X': 184, 'SPACE': 34, 'SYM': 7}\n"
     ]
    }
   ],
   "source": [
    "cnt_pos = {k: v for k, v in sorted(cnt_pos.items(), key=lambda item: -item[1])}\n",
    "\n",
    "print('POS of annotations')\n",
    "print(cnt_pos)\n",
    "\n",
    "cnt_pos_total = {k: v for k, v in sorted(cnt_pos_total.items(), key=lambda item: -item[1])}\n",
    "\n",
    "print('POS in total')\n",
    "print(cnt_pos_total)"
   ]
  },
  {
   "cell_type": "code",
   "execution_count": 99,
   "id": "8693426d-cfbc-4347-9f6f-daacea8c00cd",
   "metadata": {
    "pycharm": {
     "name": "#%%\n"
    }
   },
   "outputs": [
    {
     "data": {
      "image/png": "[encoded data removed]",
      "text/plain": [
       "<Figure size 720x720 with 1 Axes>"
      ]
     },
     "metadata": {
      "needs_background": "light"
     },
     "output_type": "display_data"
    }
   ],
   "source": [
    "import matplotlib.pyplot as plt\n",
    "\n",
    "plt.rcParams[\"figure.figsize\"] = (10,10)\n",
    "\n",
    "fig, ax = plt.subplots()\n",
    "\n",
    "ax.barh(width=cnt_pos_total.values(), y=list(cnt_pos_total.keys()))\n",
    "ax.barh(width=cnt_pos.values(), y=list(cnt_pos.keys()))\n",
    "\n",
    "ax.invert_yaxis()\n",
    "\n",
    "ax.set_xlabel('Frequency')\n",
    "ax.set_title('POS tag in annotation - HateXPlain')\n",
    "\n",
    "plt.savefig(path.join(tmp_path, 'posfreq_hatexplain_test'), dpi=600)"
   ]
  },
  {
   "cell_type": "code",
   "execution_count": 39,
   "id": "13b22059-7b1e-423a-81f7-d11a97821db6",
   "metadata": {
    "pycharm": {
     "name": "#%%\n"
    }
   },
   "outputs": [
    {
     "data": {
      "application/vnd.jupyter.widget-view+json": {
       "model_id": "62ab4d5eb8c44a8598c94d52187f0a69",
       "version_major": 2,
       "version_minor": 0
      },
      "text/plain": [
       "test:   0%|          | 0/46443 [00:00<?, ?it/s]"
      ]
     },
     "metadata": {},
     "output_type": "display_data"
    },
    {
     "data": {
      "application/vnd.jupyter.widget-view+json": {
       "model_id": "18780f7d96ef4949b8d4e94eb780e31c",
       "version_major": 2,
       "version_minor": 0
      },
      "text/plain": [
       "val:   0%|          | 0/47014 [00:00<?, ?it/s]"
      ]
     },
     "metadata": {},
     "output_type": "display_data"
    },
    {
     "data": {
      "application/vnd.jupyter.widget-view+json": {
       "model_id": "421914bd8d00458481429600cc5ce39e",
       "version_major": 2,
       "version_minor": 0
      },
      "text/plain": [
       "train:   0%|          | 0/376349 [00:00<?, ?it/s]"
      ]
     },
     "metadata": {},
     "output_type": "display_data"
    }
   ],
   "source": [
    "from data.hatexplain.dataset import HateXPlain\n",
    "\n",
    "cnt = dict()\n",
    "\n",
    "for split in ['test', 'val', 'train']:\n",
    "    \n",
    "    # Load dataset\n",
    "    dataset = HateXPlain(root=dataset_path, split=split)\n",
    "    tokens = dataset.data['post_tokens']\n",
    "    rationale = dataset.data['rationale']\n",
    "\n",
    "    # Add punctuation to separate sentences\n",
    "    for i in range(len(tokens)):\n",
    "        tokens[i].append('.')\n",
    "        rationale[i].append(0)\n",
    "\n",
    "    flatten_token = [tk for sent in tokens for tk in sent]\n",
    "    flatten_rationale = [r for sent in rationale for r in sent]\n",
    "\n",
    "    nlp = spacy.load('en_core_web_sm')\n",
    "    doc = Doc(nlp.vocab, words=flatten_token)\n",
    "    pos = [tk.pos_ for tk in nlp(doc)]\n",
    "    \n",
    "    # Start counting\n",
    "    cnt_pos = dict()\n",
    "    cnt_tok = dict()\n",
    "    cnt_pos_total = dict()\n",
    "    cnt_tok_total = dict()\n",
    "    \n",
    "    for p, r, t in tqdm(zip(pos, flatten_rationale, flatten_token), total=len(flatten_rationale), desc=split):\n",
    "    \n",
    "        cnt_pos_total[p] = cnt_pos_total.get(p, 0) +1\n",
    "        cnt_tok_total[t] = cnt_tok_total.get(t, 0) +1\n",
    "\n",
    "        if r > 0:\n",
    "            cnt_pos[p] = cnt_pos.get(p, 0) + 1\n",
    "            cnt_tok[t] = cnt_tok.get(t, 0) + 1\n",
    "            \n",
    "    cnt[split] = {\n",
    "        'pos' : cnt_pos,\n",
    "        'tok' : cnt_tok,\n",
    "        'pos_total': cnt_pos_total,\n",
    "        'tok_total': cnt_tok_total\n",
    "    }    "
   ]
  },
  {
   "cell_type": "code",
   "execution_count": 40,
   "id": "3a7d7104-ec55-48ea-b07b-3439b8ebc72f",
   "metadata": {
    "pycharm": {
     "name": "#%%\n"
    }
   },
   "outputs": [
    {
     "data": {
      "text/plain": [
       "{'ADJ': 1018,\n",
       " 'PRON': 755,\n",
       " 'PUNCT': 12,\n",
       " 'PROPN': 707,\n",
       " 'SCONJ': 173,\n",
       " 'ADP': 637,\n",
       " 'NOUN': 2517,\n",
       " 'VERB': 1191,\n",
       " 'DET': 574,\n",
       " 'AUX': 484,\n",
       " 'CCONJ': 236,\n",
       " 'PART': 185,\n",
       " 'ADV': 340,\n",
       " 'NUM': 26,\n",
       " 'INTJ': 36,\n",
       " 'X': 13,\n",
       " 'SPACE': 2}"
      ]
     },
     "execution_count": 40,
     "metadata": {},
     "output_type": "execute_result"
    }
   ],
   "source": [
    "cnt['test']['pos']"
   ]
  },
  {
   "cell_type": "code",
   "execution_count": 41,
   "id": "81f0d579-76e2-47f4-b0c3-1173e9d313f0",
   "metadata": {
    "pycharm": {
     "name": "#%%\n"
    }
   },
   "outputs": [
    {
     "data": {
      "text/plain": [
       "{'VERB': 9379,\n",
       " 'ADJ': 9133,\n",
       " 'NOUN': 20988,\n",
       " 'PROPN': 5608,\n",
       " 'ADV': 2710,\n",
       " 'AUX': 3994,\n",
       " 'DET': 4710,\n",
       " 'SCONJ': 1286,\n",
       " 'ADP': 5335,\n",
       " 'PRON': 5635,\n",
       " 'CCONJ': 1876,\n",
       " 'NUM': 244,\n",
       " 'PUNCT': 94,\n",
       " 'PART': 1543,\n",
       " 'INTJ': 268,\n",
       " 'X': 76,\n",
       " 'SPACE': 13,\n",
       " 'SYM': 5}"
      ]
     },
     "execution_count": 41,
     "metadata": {},
     "output_type": "execute_result"
    }
   ],
   "source": [
    "cnt['train']['pos']"
   ]
  },
  {
   "cell_type": "code",
   "execution_count": 103,
   "id": "cace6615-d0b3-45ed-98c0-0d231211f004",
   "metadata": {
    "pycharm": {
     "name": "#%%\n"
    }
   },
   "outputs": [
    {
     "data": {
      "image/png": "[encoded data removed]",
      "text/plain": [
       "<Figure size 2160x720 with 3 Axes>"
      ]
     },
     "metadata": {
      "needs_background": "light"
     },
     "output_type": "display_data"
    }
   ],
   "source": [
    "import matplotlib.pyplot as plt\n",
    "\n",
    "plt.rcParams[\"figure.figsize\"] = (30,10)\n",
    "\n",
    "fig, axes = plt.subplots(1, 3, sharey=True)\n",
    "\n",
    "fig.suptitle('POS tag in annotation - HateXPlain', fontsize='xx-large', fontweight='black')\n",
    "\n",
    "for ax, pos_freq, split in zip(axes, cnt.values(), cnt.keys()):\n",
    "    \n",
    "    cnt_pos_total = pos_freq['pos_total']\n",
    "    cnt_pos = pos_freq['pos']\n",
    "\n",
    "    ax.barh(width=cnt_pos_total.values(), y=list(cnt_pos_total.keys()))\n",
    "    ax.barh(width=cnt_pos.values(), y=list(cnt_pos.keys()))\n",
    "\n",
    "    ax.invert_yaxis()\n",
    "\n",
    "    ax.set_xlabel('Frequency')\n",
    "    ax.set_title(split, fontweight='bold')\n",
    "\n",
    "plt.savefig(path.join(tmp_path, 'posfreq_hatexplain'), dpi=600)"
   ]
  },
  {
   "cell_type": "code",
   "execution_count": 105,
   "id": "7db0b400-56a6-4d6b-9fae-a58b51bb1c31",
   "metadata": {
    "pycharm": {
     "name": "#%%\n"
    }
   },
   "outputs": [
    {
     "data": {
      "text/plain": [
       "0.5418604332139868"
      ]
     },
     "execution_count": 105,
     "metadata": {},
     "output_type": "execute_result"
    }
   ],
   "source": [
    "(cnt_pos['VERB'] + cnt_pos['NOUN'] + cnt_pos['ADJ']) / sum(cnt_pos.values())"
   ]
  },
  {
   "cell_type": "markdown",
   "id": "88b2e029-3d59-494f-ad93-068d4f9ab252",
   "metadata": {
    "pycharm": {
     "name": "#%% md\n"
    }
   },
   "source": [
    "#### Check most frequent pos"
   ]
  },
  {
   "cell_type": "code",
   "execution_count": 68,
   "id": "69a63e7b-8643-423b-ae73-ab7098405e3a",
   "metadata": {
    "pycharm": {
     "name": "#%%\n"
    }
   },
   "outputs": [
    {
     "name": "stdout",
     "output_type": "stream",
     "text": [
      "=== Most frequent pos in test ===\n"
     ]
    },
    {
     "data": {
      "text/plain": [
       "{'NOUN': 0.2826184594655289,\n",
       " 'NOUN+VERB': 0.4163485290815181,\n",
       " 'NOUN+VERB+ADJ': 0.5306534920278464,\n",
       " 'NOUN+VERB+ADJ+PRON': 0.6154278014821468,\n",
       " 'NOUN+VERB+ADJ+PRON+PROPN': 0.6948124859645183,\n",
       " 'NOUN+VERB+ADJ+PRON+PROPN+ADP': 0.7663373006961599}"
      ]
     },
     "metadata": {},
     "output_type": "display_data"
    },
    {
     "name": "stdout",
     "output_type": "stream",
     "text": [
      "\n",
      "=== Most frequent pos in val ===\n"
     ]
    },
    {
     "data": {
      "text/plain": [
       "{'NOUN': 0.2856370322301536,\n",
       " 'NOUN+VERB': 0.41964092580575385,\n",
       " 'NOUN+VERB+ADJ': 0.5337443218689163,\n",
       " 'NOUN+VERB+ADJ+PROPN': 0.6151849448410124,\n",
       " 'NOUN+VERB+ADJ+PROPN+PRON': 0.6952195544019035,\n",
       " 'NOUN+VERB+ADJ+PROPN+PRON+ADP': 0.7669262383733506}"
      ]
     },
     "metadata": {},
     "output_type": "display_data"
    },
    {
     "name": "stdout",
     "output_type": "stream",
     "text": [
      "\n",
      "=== Most frequent pos in train ===\n"
     ]
    },
    {
     "data": {
      "text/plain": [
       "{'NOUN': 0.28791308284291534,\n",
       " 'NOUN+VERB': 0.4165740702635225,\n",
       " 'NOUN+VERB+ADJ': 0.5418604332139869,\n",
       " 'NOUN+VERB+ADJ+PRON': 0.6191612823572987,\n",
       " 'NOUN+VERB+ADJ+PRON+PROPN': 0.6960917458880339,\n",
       " 'NOUN+VERB+ADJ+PRON+PROPN+ADP': 0.7692771993360497}"
      ]
     },
     "metadata": {},
     "output_type": "display_data"
    },
    {
     "name": "stdout",
     "output_type": "stream",
     "text": [
      "\n"
     ]
    }
   ],
   "source": [
    "for split in cnt:\n",
    "    print('=== Most frequent pos in', split,\"===\")\n",
    "    _count = cnt[split]['pos']\n",
    "    total = sum(_count.values())\n",
    "    percentage = {k: c/total for k, c in _count.items()}\n",
    "    sorted_percentage = sorted(percentage.items(), key=lambda item: -item[1])\n",
    "    sorted_key = [p[0] for p in sorted_percentage]\n",
    "    sorted_values = [p[1] for p in sorted_percentage]\n",
    "    cumulated_percentage = {'+'.join(sorted_key[:i]): sum(sorted_values[:i]) for i in range(1, len(sorted_percentage)) }\n",
    "    cumulated_percentage = {k: v for k, v in cumulated_percentage.items() if v < 0.8}\n",
    "    display(cumulated_percentage)\n",
    "    print()"
   ]
  },
  {
   "cell_type": "code",
   "execution_count": 71,
   "id": "b9e6f82b-1561-447d-a0e5-0a6861ede5b3",
   "metadata": {
    "pycharm": {
     "name": "#%%\n"
    }
   },
   "outputs": [
    {
     "name": "stdout",
     "output_type": "stream",
     "text": [
      "=== Most 10 frequent highlighted tokens in test ===\n"
     ]
    },
    {
     "data": {
      "text/plain": [
       "[('the', 0.028744666516954863),\n",
       " ('and', 0.019986525937570176),\n",
       " ('nigger', 0.019425106669660904),\n",
       " ('a', 0.018639119694587918),\n",
       " ('to', 0.015158320233550416),\n",
       " ('of', 0.014484617112059285),\n",
       " ('are', 0.013361778576240737),\n",
       " ('you', 0.013361778576240737),\n",
       " ('kike', 0.011902088479676623),\n",
       " ('white', 0.010779249943858073)]"
      ]
     },
     "metadata": {},
     "output_type": "display_data"
    },
    {
     "name": "stdout",
     "output_type": "stream",
     "text": [
      "\n",
      "=== Most 10 frequent highlighted tokens in val ===\n"
     ]
    },
    {
     "data": {
      "text/plain": [
       "[('the', 0.02963443651308674),\n",
       " ('and', 0.02119835604585767),\n",
       " ('to', 0.018061864590093013),\n",
       " ('nigger', 0.017412935323383085),\n",
       " ('a', 0.016655851178888167),\n",
       " ('are', 0.014384598745403418),\n",
       " ('white', 0.012329656067488644),\n",
       " ('of', 0.012221501189703656),\n",
       " ('you', 0.010382868267358857),\n",
       " ('in', 0.01027471338957387)]"
      ]
     },
     "metadata": {},
     "output_type": "display_data"
    },
    {
     "name": "stdout",
     "output_type": "stream",
     "text": [
      "\n",
      "=== Most 10 frequent highlighted tokens in train ===\n"
     ]
    },
    {
     "data": {
      "text/plain": [
       "[('the', 0.02980918281959477),\n",
       " ('nigger', 0.020700440347339397),\n",
       " ('and', 0.01982248926567623),\n",
       " ('a', 0.018601588542738384),\n",
       " ('to', 0.018464408686228513),\n",
       " ('of', 0.014349012990932412),\n",
       " ('are', 0.01293606046888075),\n",
       " ('you', 0.011660287803338958),\n",
       " ('kike', 0.0104531050660521),\n",
       " ('is', 0.010425669094750126)]"
      ]
     },
     "metadata": {},
     "output_type": "display_data"
    },
    {
     "name": "stdout",
     "output_type": "stream",
     "text": [
      "\n"
     ]
    }
   ],
   "source": [
    "for split in cnt:\n",
    "    print('=== Most 10 frequent highlighted tokens in', split,\"===\")\n",
    "    _count = cnt[split]['tok']\n",
    "    total = sum(_count.values())\n",
    "    percentage = {k: c/total for k, c in _count.items()}\n",
    "    sorted_percentage = sorted(percentage.items(), key=lambda item: -item[1])\n",
    "    display(sorted_percentage[:10])\n",
    "    print()"
   ]
  },
  {
   "cell_type": "markdown",
   "id": "466a76b7-00e5-4245-ae22-5bec9a486ec1",
   "metadata": {
    "pycharm": {
     "name": "#%% md\n"
    }
   },
   "source": [
    "## Making of heuristic"
   ]
  },
  {
   "cell_type": "code",
   "execution_count": 5,
   "id": "ea577d1a-1bb3-43df-972d-142706c33335",
   "metadata": {
    "pycharm": {
     "name": "#%%\n"
    }
   },
   "outputs": [
    {
     "ename": "NameError",
     "evalue": "name 'tokenized_docs' is not defined",
     "output_type": "error",
     "traceback": [
      "\u001b[0;31m---------------------------------------------------------------------------\u001b[0m",
      "\u001b[0;31mNameError\u001b[0m                                 Traceback (most recent call last)",
      "Input \u001b[0;32mIn [5]\u001b[0m, in \u001b[0;36m<cell line: 21>\u001b[0;34m()\u001b[0m\n\u001b[1;32m     18\u001b[0m pos \u001b[38;5;241m=\u001b[39m [tk\u001b[38;5;241m.\u001b[39mpos_ \u001b[38;5;28;01mfor\u001b[39;00m tk \u001b[38;5;129;01min\u001b[39;00m nlp(doc)]\n\u001b[1;32m     20\u001b[0m \u001b[38;5;66;03m# build mask\u001b[39;00m\n\u001b[0;32m---> 21\u001b[0m pos_filter \u001b[38;5;241m=\u001b[39m [[tk\u001b[38;5;241m.\u001b[39mpos_ \u001b[38;5;129;01min\u001b[39;00m [\u001b[38;5;124m'\u001b[39m\u001b[38;5;124mADJ\u001b[39m\u001b[38;5;124m'\u001b[39m] \u001b[38;5;28;01mfor\u001b[39;00m tk \u001b[38;5;129;01min\u001b[39;00m d] \u001b[38;5;28;01mfor\u001b[39;00m d \u001b[38;5;129;01min\u001b[39;00m \u001b[43mtokenized_docs\u001b[49m]\n\u001b[1;32m     22\u001b[0m stop_filter \u001b[38;5;241m=\u001b[39m [[\u001b[38;5;129;01mnot\u001b[39;00m tk\u001b[38;5;241m.\u001b[39mis_stop \u001b[38;5;28;01mfor\u001b[39;00m tk \u001b[38;5;129;01min\u001b[39;00m d] \u001b[38;5;28;01mfor\u001b[39;00m d \u001b[38;5;129;01min\u001b[39;00m tokenized_docs]\n\u001b[1;32m     23\u001b[0m mask \u001b[38;5;241m=\u001b[39m [pos_ \u001b[38;5;129;01mand\u001b[39;00m stop_ \u001b[38;5;28;01mfor\u001b[39;00m pos_, stop_ \u001b[38;5;129;01min\u001b[39;00m \u001b[38;5;28mzip\u001b[39m(pos_filter, stop_filter)]\n",
      "\u001b[0;31mNameError\u001b[0m: name 'tokenized_docs' is not defined"
     ]
    }
   ],
   "source": [
    "from data.hatexplain.dataset import HateXPlain\n",
    "import spacy\n",
    "from spacy.tokens import Doc\n",
    "from modules.utils import hightlight\n",
    "import torch\n",
    "\n",
    "# Load dataset\n",
    "dataset = HateXPlain(root=dataset_path, split='test')\n",
    "tokens = dataset.data['post_tokens'].tolist()\n",
    "rationale = dataset.data['rationale'].tolist()\n",
    "\n",
    "flatten_token = [tk for sent in tokens for tk in sent]\n",
    "flatten_rationale = [r for sent in rationale for r in sent]\n",
    "\n",
    "nlp = spacy.load('en_core_web_sm')\n",
    "\n",
    "doc = Doc(nlp.vocab, words=flatten_token)\n",
    "pos = [tk.pos_ for tk in nlp(doc)]\n",
    "\n",
    "# build mask\n",
    "pos_filter = [[tk.pos_ in ['ADJ'] for tk in d] for d in tokenized_docs]\n",
    "stop_filter = [[not tk.is_stop for tk in d] for d in tokenized_docs]\n",
    "mask = [pos_ and stop_ for pos_, stop_ in zip(pos_filter, stop_filter)]\n",
    "\n",
    "# Count frequence\n",
    "token_freq = dict()\n",
    "flatten_token = [tk for sent in tokens for tk in sent]\n",
    "flatten_rationale = [r for sent in rationale for r in sent]\n",
    "\n",
    "for t, r in zip(flatten_token, flatten_rationale):\n",
    "    if r: token_freq[t] = token_freq.get(t, 0) + 1\n",
    "\n",
    "total_freq = sum(token_freq.values())\n",
    "token_freq = {k: v/total_freq for k, v in token_freq.items()}\n",
    "\n",
    "# Making of heuristic\n",
    "heuristics = []\n",
    "for sent_tokens, sent_mask in zip(tokens, mask):\n",
    "    heuris_map = [token_freq.get(tk, 0) for tk in sent_tokens]\n",
    "    heuris_map = [h * float(m) for h, m in zip(heuris_map, sent_mask)]\n",
    "    heuristics.append(heuris_map)\n",
    "\n",
    "tensor_heuristics = [torch.tensor(h) for h in heuristics]\n",
    "for i in range(20):\n",
    "    display(HTML(hightlight(tokens[i], tensor_heuristics[i])))"
   ]
  },
  {
   "cell_type": "code",
   "execution_count": null,
   "id": "f9e6cb89-d26f-40ad-9af1-4bc64a192d73",
   "metadata": {
    "pycharm": {
     "name": "#%%\n"
    }
   },
   "outputs": [],
   "source": [
    "heuristic = dataset.data['heuristic']\n",
    "rationale = dataset.data['rationale']\n",
    "\n",
    "from sklearn.metrics import roc_auc_score\n",
    "roc_score = roc_auc_score(rationale, heuristic)\n",
    "roc_score"
   ]
  },
  {
   "cell_type": "code",
   "execution_count": null,
   "id": "51c82d58-ec66-4e76-989a-16065afcbcc9",
   "metadata": {
    "pycharm": {
     "name": "#%%\n"
    }
   },
   "outputs": [],
   "source": [
    "dataset = HateXPlain(root=path.join(cache_path, 'dataset'), split='val')\n",
    "dataset.data.head()"
   ]
  },
  {
   "cell_type": "code",
   "execution_count": null,
   "id": "8ffeabd1-f2d2-4b62-b37d-2f1636c45863",
   "metadata": {
    "pycharm": {
     "name": "#%%\n"
    }
   },
   "outputs": [],
   "source": [
    "for i in range(10):\n",
    "    display(HTML(hightlight(dataset.data.loc[i, 'post_tokens'], torch.tensor(dataset.data.loc[i, 'heuristic']))))"
   ]
  },
  {
   "cell_type": "code",
   "execution_count": null,
   "id": "91017aa2-ac82-4c3a-88d3-0d19c25b1535",
   "metadata": {
    "pycharm": {
     "name": "#%%\n"
    }
   },
   "outputs": [],
   "source": [
    "heuristic = dataset.data['heuristic']\n",
    "rationale = dataset.data['rationale']\n",
    "\n",
    "heuristic = [h_value for h_vector in heuristic for h_value in h_vector]\n",
    "rationale = [r_value for r_vector in rationale for r_value in r_vector]"
   ]
  },
  {
   "cell_type": "code",
   "execution_count": null,
   "id": "4f2fb7ba-ce16-4810-81cf-7a907ec1a788",
   "metadata": {
    "pycharm": {
     "name": "#%%\n"
    }
   },
   "outputs": [],
   "source": [
    "from sklearn.metrics import roc_auc_score\n",
    "roc_score = roc_auc_score(rationale, heuristic)\n",
    "roc_score"
   ]
  },
  {
   "cell_type": "code",
   "execution_count": null,
   "id": "fcf51a01-7ae3-4418-b78b-d36f84602da3",
   "metadata": {
    "pycharm": {
     "name": "#%%\n"
    }
   },
   "outputs": [],
   "source": [
    "for split in ['train', 'val', 'test']:\n",
    "    dataset = HateXPlain(root=path.join(cache_path, 'dataset'), split=split)\n",
    "    heuristic = dataset.data['heuristic']\n",
    "    rationale = dataset.data['rationale']\n",
    "\n",
    "    heuristic = [h_value for h_vector in heuristic for h_value in h_vector]\n",
    "    rationale = [r_value for r_vector in rationale for r_value in r_vector]\n",
    "    roc_score = roc_auc_score(rationale, heuristic)\n",
    "    print(split, ':', roc_score)"
   ]
  },
  {
   "cell_type": "code",
   "execution_count": null,
   "id": "6a3e3c15-ce20-4b98-849e-2eaa2d8f6d4f",
   "metadata": {
    "pycharm": {
     "name": "#%%\n"
    }
   },
   "outputs": [],
   "source": [
    "dataset = HateXPlain(root=path.join(cache_path, 'dataset'), split='test')\n",
    "heuristic = dataset.data['heuristic']\n",
    "rationale = dataset.data['rationale']\n",
    "\n",
    "for i in range(10):\n",
    "    display(HTML(hightlight(dataset.data.loc[i, 'post_tokens'], torch.tensor(dataset.data.loc[i, 'heuristic']))))\n",
    "    \n",
    "roc_score = roc_auc_score(rationale, heuristic)\n",
    "print('AUROC = ', roc_score)"
   ]
  },
  {
   "cell_type": "code",
   "execution_count": null,
   "id": "b00d6005-de6e-4e13-ade1-eae47c513c92",
   "metadata": {
    "pycharm": {
     "name": "#%%\n"
    }
   },
   "outputs": [],
   "source": []
  },
  {
   "cell_type": "code",
   "execution_count": 8,
   "id": "6722f373-579b-47a1-9083-ebf9fbe16c67",
   "metadata": {
    "pycharm": {
     "name": "#%%\n"
    }
   },
   "outputs": [
    {
     "data": {
      "text/html": [
       "<div>\n",
       "<style scoped>\n",
       "    .dataframe tbody tr th:only-of-type {\n",
       "        vertical-align: middle;\n",
       "    }\n",
       "\n",
       "    .dataframe tbody tr th {\n",
       "        vertical-align: top;\n",
       "    }\n",
       "\n",
       "    .dataframe thead th {\n",
       "        text-align: right;\n",
       "    }\n",
       "</style>\n",
       "<table border=\"1\" class=\"dataframe\">\n",
       "  <thead>\n",
       "    <tr style=\"text-align: right;\">\n",
       "      <th></th>\n",
       "      <th>post_tokens</th>\n",
       "      <th>label</th>\n",
       "      <th>rationale</th>\n",
       "      <th>heuristic</th>\n",
       "    </tr>\n",
       "  </thead>\n",
       "  <tbody>\n",
       "    <tr>\n",
       "      <th>0</th>\n",
       "      <td>[u, really, think, i, would, not, have, been, ...</td>\n",
       "      <td>offensive</td>\n",
       "      <td>[0, 0, 0, 0, 0, 0, 0, 0, 1, 0, 1, 1, 0, 1, 0, ...</td>\n",
       "      <td>[0.0007682071964552725, 0.0, 0.000905387052965...</td>\n",
       "    </tr>\n",
       "    <tr>\n",
       "      <th>1</th>\n",
       "      <td>[the, uk, has, threatened, to, return, radioac...</td>\n",
       "      <td>offensive</td>\n",
       "      <td>[0, 0, 0, 0, 0, 0, 0, 0, 0, 0, 0, 0, 0, 0, 0, ...</td>\n",
       "      <td>[0.0, 0.00032923165562368824, 0.0, 1.371798565...</td>\n",
       "    </tr>\n",
       "    <tr>\n",
       "      <th>2</th>\n",
       "      <td>[if, english, is, not, imposition, then, hindi...</td>\n",
       "      <td>offensive</td>\n",
       "      <td>[0, 0, 0, 0, 0, 0, 0, 0, 0, 0, 0, 0, 0, 1, 1, 1]</td>\n",
       "      <td>[0.0, 0.0001508978421608571, 0.0, 0.0, 1.37179...</td>\n",
       "    </tr>\n",
       "    <tr>\n",
       "      <th>3</th>\n",
       "      <td>[no, liberal, congratulated, hindu, refugees, ...</td>\n",
       "      <td>offensive</td>\n",
       "      <td>[0, 0, 0, 0, 0, 0, 0, 0, 0, 1, 1]</td>\n",
       "      <td>[0.0, 0.0005624374116904674, 0.0, 9.6025899556...</td>\n",
       "    </tr>\n",
       "    <tr>\n",
       "      <th>4</th>\n",
       "      <td>[he, said, bro, even, your, texts, sound, redn...</td>\n",
       "      <td>offensive</td>\n",
       "      <td>[0, 0, 0, 0, 0, 0, 0, 1, 0, 0, 0, 0, 0, 0, 0, ...</td>\n",
       "      <td>[0.0, 0.0004252575551805973, 1.371798565098701...</td>\n",
       "    </tr>\n",
       "    <tr>\n",
       "      <th>...</th>\n",
       "      <td>...</td>\n",
       "      <td>...</td>\n",
       "      <td>...</td>\n",
       "      <td>...</td>\n",
       "    </tr>\n",
       "    <tr>\n",
       "      <th>15378</th>\n",
       "      <td>[thanks, for, coming, to, my, ted, talk, p.s.,...</td>\n",
       "      <td>offensive</td>\n",
       "      <td>[0, 0, 0, 0, 0, 0, 0, 0, 0, 0, 1, 1, 0, 0, 0, ...</td>\n",
       "      <td>[5.487194260394804e-05, 0.0, 0.000205769784764...</td>\n",
       "    </tr>\n",
       "    <tr>\n",
       "      <th>15379</th>\n",
       "      <td>[&lt;user&gt;, &lt;user&gt;, iran, has, the, 2, n, biggest...</td>\n",
       "      <td>normal</td>\n",
       "      <td>[0, 0, 0, 0, 0, 0, 0, 0, 0, 0, 0, 0, 0, 0, 0, ...</td>\n",
       "      <td>[0.0004938474834355323, 0.0004938474834355323,...</td>\n",
       "    </tr>\n",
       "    <tr>\n",
       "      <th>15380</th>\n",
       "      <td>[or, maybe, those, were, not, meant, to, be, h...</td>\n",
       "      <td>normal</td>\n",
       "      <td>[0, 0, 0, 0, 0, 0, 0, 0, 0, 0, 0, 0, 0, 0, 0, ...</td>\n",
       "      <td>[0.0, 0.0003703856125766492, 0.0, 0.0, 0.0, 5....</td>\n",
       "    </tr>\n",
       "    <tr>\n",
       "      <th>15381</th>\n",
       "      <td>[good, morning, ados, black, women, only]</td>\n",
       "      <td>normal</td>\n",
       "      <td>[0, 0, 0, 0, 0, 0]</td>\n",
       "      <td>[0.0009191050386161296, 4.115395695296103e-05,...</td>\n",
       "    </tr>\n",
       "    <tr>\n",
       "      <th>15382</th>\n",
       "      <td>[the, main, reason, you, do, not, come, here, ...</td>\n",
       "      <td>hatespeech</td>\n",
       "      <td>[0, 0, 0, 0, 0, 0, 0, 0, 0, 0, 0, 0, 0, 0, 0, ...</td>\n",
       "      <td>[0.0, 5.487194260394804e-05, 0.000233205756066...</td>\n",
       "    </tr>\n",
       "  </tbody>\n",
       "</table>\n",
       "<p>15383 rows × 4 columns</p>\n",
       "</div>"
      ],
      "text/plain": [
       "                                             post_tokens       label  \\\n",
       "0      [u, really, think, i, would, not, have, been, ...   offensive   \n",
       "1      [the, uk, has, threatened, to, return, radioac...   offensive   \n",
       "2      [if, english, is, not, imposition, then, hindi...   offensive   \n",
       "3      [no, liberal, congratulated, hindu, refugees, ...   offensive   \n",
       "4      [he, said, bro, even, your, texts, sound, redn...   offensive   \n",
       "...                                                  ...         ...   \n",
       "15378  [thanks, for, coming, to, my, ted, talk, p.s.,...   offensive   \n",
       "15379  [<user>, <user>, iran, has, the, 2, n, biggest...      normal   \n",
       "15380  [or, maybe, those, were, not, meant, to, be, h...      normal   \n",
       "15381          [good, morning, ados, black, women, only]      normal   \n",
       "15382  [the, main, reason, you, do, not, come, here, ...  hatespeech   \n",
       "\n",
       "                                               rationale  \\\n",
       "0      [0, 0, 0, 0, 0, 0, 0, 0, 1, 0, 1, 1, 0, 1, 0, ...   \n",
       "1      [0, 0, 0, 0, 0, 0, 0, 0, 0, 0, 0, 0, 0, 0, 0, ...   \n",
       "2       [0, 0, 0, 0, 0, 0, 0, 0, 0, 0, 0, 0, 0, 1, 1, 1]   \n",
       "3                      [0, 0, 0, 0, 0, 0, 0, 0, 0, 1, 1]   \n",
       "4      [0, 0, 0, 0, 0, 0, 0, 1, 0, 0, 0, 0, 0, 0, 0, ...   \n",
       "...                                                  ...   \n",
       "15378  [0, 0, 0, 0, 0, 0, 0, 0, 0, 0, 1, 1, 0, 0, 0, ...   \n",
       "15379  [0, 0, 0, 0, 0, 0, 0, 0, 0, 0, 0, 0, 0, 0, 0, ...   \n",
       "15380  [0, 0, 0, 0, 0, 0, 0, 0, 0, 0, 0, 0, 0, 0, 0, ...   \n",
       "15381                                 [0, 0, 0, 0, 0, 0]   \n",
       "15382  [0, 0, 0, 0, 0, 0, 0, 0, 0, 0, 0, 0, 0, 0, 0, ...   \n",
       "\n",
       "                                               heuristic  \n",
       "0      [0.0007682071964552725, 0.0, 0.000905387052965...  \n",
       "1      [0.0, 0.00032923165562368824, 0.0, 1.371798565...  \n",
       "2      [0.0, 0.0001508978421608571, 0.0, 0.0, 1.37179...  \n",
       "3      [0.0, 0.0005624374116904674, 0.0, 9.6025899556...  \n",
       "4      [0.0, 0.0004252575551805973, 1.371798565098701...  \n",
       "...                                                  ...  \n",
       "15378  [5.487194260394804e-05, 0.0, 0.000205769784764...  \n",
       "15379  [0.0004938474834355323, 0.0004938474834355323,...  \n",
       "15380  [0.0, 0.0003703856125766492, 0.0, 0.0, 0.0, 5....  \n",
       "15381  [0.0009191050386161296, 4.115395695296103e-05,...  \n",
       "15382  [0.0, 5.487194260394804e-05, 0.000233205756066...  \n",
       "\n",
       "[15383 rows x 4 columns]"
      ]
     },
     "execution_count": 8,
     "metadata": {},
     "output_type": "execute_result"
    }
   ],
   "source": [
    "dataset.data"
   ]
  },
  {
   "cell_type": "code",
   "execution_count": 13,
   "id": "2196d577-9c12-45a6-a2d1-16bb45d4ec61",
   "metadata": {
    "pycharm": {
     "name": "#%%\n"
    }
   },
   "outputs": [
    {
     "ename": "AttributeError",
     "evalue": "'numpy.ndarray' object has no attribute 'isnan'",
     "output_type": "error",
     "traceback": [
      "\u001b[0;31m---------------------------------------------------------------------------\u001b[0m",
      "\u001b[0;31mAttributeError\u001b[0m                            Traceback (most recent call last)",
      "Input \u001b[0;32mIn [13]\u001b[0m, in \u001b[0;36m<cell line: 1>\u001b[0;34m()\u001b[0m\n\u001b[0;32m----> 1\u001b[0m \u001b[43mheuristic\u001b[49m\u001b[38;5;241;43m.\u001b[39;49m\u001b[43misnan\u001b[49m()\n",
      "\u001b[0;31mAttributeError\u001b[0m: 'numpy.ndarray' object has no attribute 'isnan'"
     ]
    }
   ],
   "source": [
    "heuristic.isnan()"
   ]
  },
  {
   "cell_type": "code",
   "execution_count": 3,
   "id": "b316e6c6-5e6a-41a6-983c-e932a8406391",
   "metadata": {
    "pycharm": {
     "name": "#%%\n"
    }
   },
   "outputs": [
    {
     "name": "stdout",
     "output_type": "stream",
     "text": [
      "train : 0.5044194852915073\n",
      "val : 0.5280741352217981\n",
      "test : 0.522427389102623\n"
     ]
    }
   ],
   "source": [
    "from sklearn.metrics import average_precision_score\n",
    "import numpy as np\n",
    "from data.hatexplain.dataset import HateXPlain\n",
    "\n",
    "for split in ['train', 'val', 'test']:\n",
    "    dataset = HateXPlain(root=path.join(cache_path, 'dataset'), split=split)\n",
    "    dataset.data = dataset.data[dataset.data['label'] != 'normal'].reset_index()\n",
    "    \n",
    "    h_vectors = [np.array(h_vector)/sum(h_vector) for h_vector in dataset.data['heuristic']]\n",
    "    h_vectors = [(h-h.min())/(h.max()-h.min() + (h.max()==h.min())) for h in h_vectors]\n",
    "    heuristic = np.concatenate(h_vectors)\n",
    "    \n",
    "    rationale = np.array([r_value for r_vector in dataset.data['rationale'] for r_value in r_vector])\n",
    "    auprc = average_precision_score(rationale, heuristic)\n",
    "    \n",
    "    print(split, ':', auprc)"
   ]
  },
  {
   "cell_type": "markdown",
   "id": "8367b3a2-0026-4ff2-b05d-e824621514ab",
   "metadata": {},
   "source": [
    "## Check Dataset"
   ]
  },
  {
   "cell_type": "code",
   "execution_count": 7,
   "id": "aa2d178a-ef97-4c5c-afd1-60487ae6d989",
   "metadata": {
    "pycharm": {
     "name": "#%%\n"
    }
   },
   "outputs": [],
   "source": [
    "from data_module.hatexplain_module import HateXPlainDM\n",
    "from data.hatexplain.dataset import HateXPlain"
   ]
  },
  {
   "cell_type": "code",
   "execution_count": 8,
   "id": "6ce8b77e-fffa-4546-ae60-e2778942b784",
   "metadata": {},
   "outputs": [],
   "source": [
    "hatexplain = HateXPlain(root=dataset_path, split='test')"
   ]
  },
  {
   "cell_type": "code",
   "execution_count": 9,
   "id": "8213f0c9-3f25-4930-a70b-0d72f620a038",
   "metadata": {},
   "outputs": [
    {
     "data": {
      "text/html": [
       "<div>\n",
       "<style scoped>\n",
       "    .dataframe tbody tr th:only-of-type {\n",
       "        vertical-align: middle;\n",
       "    }\n",
       "\n",
       "    .dataframe tbody tr th {\n",
       "        vertical-align: top;\n",
       "    }\n",
       "\n",
       "    .dataframe thead th {\n",
       "        text-align: right;\n",
       "    }\n",
       "</style>\n",
       "<table border=\"1\" class=\"dataframe\">\n",
       "  <thead>\n",
       "    <tr style=\"text-align: right;\">\n",
       "      <th></th>\n",
       "      <th>annotators.annotator_id</th>\n",
       "      <th>post_tokens</th>\n",
       "      <th>label</th>\n",
       "      <th>rationale</th>\n",
       "      <th>heuristic</th>\n",
       "    </tr>\n",
       "  </thead>\n",
       "  <tbody>\n",
       "    <tr>\n",
       "      <th>0</th>\n",
       "      <td>[9, 17, 64]</td>\n",
       "      <td>[&lt;user&gt;, men, can, not, be, raped, can, not, b...</td>\n",
       "      <td>normal</td>\n",
       "      <td>[0, 0, 0, 0, 0, 0, 0, 0, 0, 0, 0, 0, 0, 0, 0, ...</td>\n",
       "      <td>[0.0, 0.0, 0.0, 0.0, 0.0, 0.0, 0.0, 0.0, 0.0, ...</td>\n",
       "    </tr>\n",
       "    <tr>\n",
       "      <th>1</th>\n",
       "      <td>[200, 199, 211]</td>\n",
       "      <td>[&lt;user&gt;, you, are, missing, an, essential, pre...</td>\n",
       "      <td>normal</td>\n",
       "      <td>[0, 0, 0, 0, 0, 0, 0, 0, 0, 0, 0, 0, 0, 0, 0, 0]</td>\n",
       "      <td>[0.0, 0.0, 0.0, 0.0, 0.0, 0.0, 0.0, 0.0, 0.0, ...</td>\n",
       "    </tr>\n",
       "    <tr>\n",
       "      <th>2</th>\n",
       "      <td>[233, 215, 202]</td>\n",
       "      <td>[&lt;user&gt;, &lt;user&gt;, why, are, you, repeating, you...</td>\n",
       "      <td>offensive</td>\n",
       "      <td>[0, 0, 0, 0, 0, 0, 0, 0, 0, 0, 0, 1]</td>\n",
       "      <td>[0.0, 0.0, 0.0, 0.0, 0.0, 0.0, 0.0, 0.0, 0.0, ...</td>\n",
       "    </tr>\n",
       "    <tr>\n",
       "      <th>3</th>\n",
       "      <td>[206, 199, 203]</td>\n",
       "      <td>[&lt;user&gt;, &lt;user&gt;, well, she, ’, muslim, so, of,...</td>\n",
       "      <td>hatespeech</td>\n",
       "      <td>[0, 0, 0, 1, 1, 1, 1, 1, 1, 1, 1, 1, 1, 1, 1, ...</td>\n",
       "      <td>[0.0, 0.0, 0.0, 0.0, 0.0, 0.0, 0.0, 0.0, 0.0, ...</td>\n",
       "    </tr>\n",
       "    <tr>\n",
       "      <th>4</th>\n",
       "      <td>[205, 223, 208]</td>\n",
       "      <td>[&lt;user&gt;, lol, not, me, i, don, ’, t, deal, wit...</td>\n",
       "      <td>offensive</td>\n",
       "      <td>[0, 0, 0, 0, 0, 0, 0, 0, 0, 0, 0, 0, 0, 0, 0, ...</td>\n",
       "      <td>[0.0, 0.0, 0.0, 0.0, 0.0, 0.0, 0.0, 0.0, 0.0, ...</td>\n",
       "    </tr>\n",
       "    <tr>\n",
       "      <th>...</th>\n",
       "      <td>...</td>\n",
       "      <td>...</td>\n",
       "      <td>...</td>\n",
       "      <td>...</td>\n",
       "      <td>...</td>\n",
       "    </tr>\n",
       "    <tr>\n",
       "      <th>1919</th>\n",
       "      <td>[225, 207, 204]</td>\n",
       "      <td>[we, hate, islam, and, we, will, mock, your, p...</td>\n",
       "      <td>hatespeech</td>\n",
       "      <td>[1, 1, 1, 1, 1, 1, 1, 1, 1, 1, 1, 1, 1, 1, 1, ...</td>\n",
       "      <td>[0.0, 0.0, 0.0, 0.0, 0.0, 0.0, 0.0, 0.0, 6.858...</td>\n",
       "    </tr>\n",
       "    <tr>\n",
       "      <th>1920</th>\n",
       "      <td>[13, 4, 46]</td>\n",
       "      <td>[he, sounds, like, a, clothing, line, i, will,...</td>\n",
       "      <td>offensive</td>\n",
       "      <td>[0, 0, 0, 0, 0, 0, 0, 0, 0, 0, 0, 0, 0, 0, 0, 1]</td>\n",
       "      <td>[0.0, 0.0, 0.0, 0.0, 0.0, 0.0, 0.0, 0.0, 0.0, ...</td>\n",
       "    </tr>\n",
       "    <tr>\n",
       "      <th>1921</th>\n",
       "      <td>[203, 209, 223]</td>\n",
       "      <td>[4, chan, is, retarded, and, so, are, you]</td>\n",
       "      <td>offensive</td>\n",
       "      <td>[0, 0, 0, 1, 0, 0, 0, 0]</td>\n",
       "      <td>[0.0, 0.0, 0.0, 0.008463997146658984, 0.0, 0.0...</td>\n",
       "    </tr>\n",
       "    <tr>\n",
       "      <th>1922</th>\n",
       "      <td>[9, 6, 110]</td>\n",
       "      <td>[plenty, of, e, celebs, have, covered, israid,...</td>\n",
       "      <td>hatespeech</td>\n",
       "      <td>[0, 0, 0, 0, 0, 0, 0, 0, 0, 0, 0, 0, 0, 0, 0, ...</td>\n",
       "      <td>[0.0, 0.0, 0.0, 0.0, 0.0, 0.0, 0.0, 0.0, 0.0, ...</td>\n",
       "    </tr>\n",
       "    <tr>\n",
       "      <th>1923</th>\n",
       "      <td>[9, 43, 4]</td>\n",
       "      <td>[yeah, i, got, to, about, just, over, &lt;number&gt;...</td>\n",
       "      <td>hatespeech</td>\n",
       "      <td>[0, 0, 0, 0, 0, 0, 0, 0, 0, 0, 0, 1, 0, 0, 0, ...</td>\n",
       "      <td>[0.0, 0.0, 0.0, 0.0, 0.0, 0.0, 0.0, 0.00422513...</td>\n",
       "    </tr>\n",
       "  </tbody>\n",
       "</table>\n",
       "<p>1924 rows × 5 columns</p>\n",
       "</div>"
      ],
      "text/plain": [
       "     annotators.annotator_id  \\\n",
       "0                [9, 17, 64]   \n",
       "1            [200, 199, 211]   \n",
       "2            [233, 215, 202]   \n",
       "3            [206, 199, 203]   \n",
       "4            [205, 223, 208]   \n",
       "...                      ...   \n",
       "1919         [225, 207, 204]   \n",
       "1920             [13, 4, 46]   \n",
       "1921         [203, 209, 223]   \n",
       "1922             [9, 6, 110]   \n",
       "1923              [9, 43, 4]   \n",
       "\n",
       "                                            post_tokens       label  \\\n",
       "0     [<user>, men, can, not, be, raped, can, not, b...      normal   \n",
       "1     [<user>, you, are, missing, an, essential, pre...      normal   \n",
       "2     [<user>, <user>, why, are, you, repeating, you...   offensive   \n",
       "3     [<user>, <user>, well, she, ’, muslim, so, of,...  hatespeech   \n",
       "4     [<user>, lol, not, me, i, don, ’, t, deal, wit...   offensive   \n",
       "...                                                 ...         ...   \n",
       "1919  [we, hate, islam, and, we, will, mock, your, p...  hatespeech   \n",
       "1920  [he, sounds, like, a, clothing, line, i, will,...   offensive   \n",
       "1921         [4, chan, is, retarded, and, so, are, you]   offensive   \n",
       "1922  [plenty, of, e, celebs, have, covered, israid,...  hatespeech   \n",
       "1923  [yeah, i, got, to, about, just, over, <number>...  hatespeech   \n",
       "\n",
       "                                              rationale  \\\n",
       "0     [0, 0, 0, 0, 0, 0, 0, 0, 0, 0, 0, 0, 0, 0, 0, ...   \n",
       "1      [0, 0, 0, 0, 0, 0, 0, 0, 0, 0, 0, 0, 0, 0, 0, 0]   \n",
       "2                  [0, 0, 0, 0, 0, 0, 0, 0, 0, 0, 0, 1]   \n",
       "3     [0, 0, 0, 1, 1, 1, 1, 1, 1, 1, 1, 1, 1, 1, 1, ...   \n",
       "4     [0, 0, 0, 0, 0, 0, 0, 0, 0, 0, 0, 0, 0, 0, 0, ...   \n",
       "...                                                 ...   \n",
       "1919  [1, 1, 1, 1, 1, 1, 1, 1, 1, 1, 1, 1, 1, 1, 1, ...   \n",
       "1920   [0, 0, 0, 0, 0, 0, 0, 0, 0, 0, 0, 0, 0, 0, 0, 1]   \n",
       "1921                           [0, 0, 0, 1, 0, 0, 0, 0]   \n",
       "1922  [0, 0, 0, 0, 0, 0, 0, 0, 0, 0, 0, 0, 0, 0, 0, ...   \n",
       "1923  [0, 0, 0, 0, 0, 0, 0, 0, 0, 0, 0, 1, 0, 0, 0, ...   \n",
       "\n",
       "                                              heuristic  \n",
       "0     [0.0, 0.0, 0.0, 0.0, 0.0, 0.0, 0.0, 0.0, 0.0, ...  \n",
       "1     [0.0, 0.0, 0.0, 0.0, 0.0, 0.0, 0.0, 0.0, 0.0, ...  \n",
       "2     [0.0, 0.0, 0.0, 0.0, 0.0, 0.0, 0.0, 0.0, 0.0, ...  \n",
       "3     [0.0, 0.0, 0.0, 0.0, 0.0, 0.0, 0.0, 0.0, 0.0, ...  \n",
       "4     [0.0, 0.0, 0.0, 0.0, 0.0, 0.0, 0.0, 0.0, 0.0, ...  \n",
       "...                                                 ...  \n",
       "1919  [0.0, 0.0, 0.0, 0.0, 0.0, 0.0, 0.0, 0.0, 6.858...  \n",
       "1920  [0.0, 0.0, 0.0, 0.0, 0.0, 0.0, 0.0, 0.0, 0.0, ...  \n",
       "1921  [0.0, 0.0, 0.0, 0.008463997146658984, 0.0, 0.0...  \n",
       "1922  [0.0, 0.0, 0.0, 0.0, 0.0, 0.0, 0.0, 0.0, 0.0, ...  \n",
       "1923  [0.0, 0.0, 0.0, 0.0, 0.0, 0.0, 0.0, 0.00422513...  \n",
       "\n",
       "[1924 rows x 5 columns]"
      ]
     },
     "execution_count": 9,
     "metadata": {},
     "output_type": "execute_result"
    }
   ],
   "source": [
    "hatexplain.data"
   ]
  },
  {
   "cell_type": "code",
   "execution_count": null,
   "id": "b390acc5-ba31-459b-827a-f1db5b8460b7",
   "metadata": {},
   "outputs": [],
   "source": []
  }
 ],
 "metadata": {
  "kernelspec": {
   "display_name": "Python 3 (ipykernel)",
   "language": "python",
   "name": "python3"
  },
  "language_info": {
   "codemirror_mode": {
    "name": "ipython",
    "version": 3
   },
   "file_extension": ".py",
   "mimetype": "text/x-python",
   "name": "python",
   "nbconvert_exporter": "python",
   "pygments_lexer": "ipython3",
   "version": "3.8.5"
  }
 },
 "nbformat": 4,
 "nbformat_minor": 5
}
