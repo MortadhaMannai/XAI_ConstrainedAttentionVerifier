{
 "cells": [
  {
   "cell_type": "markdown",
   "id": "quick-hardwood",
   "metadata": {
    "pycharm": {
     "name": "#%% md\n"
    }
   },
   "source": [
    "# Qualifying attention map from BERT"
   ]
  },
  {
   "cell_type": "code",
   "execution_count": 1,
   "id": "incident-specialist",
   "metadata": {
    "pycharm": {
     "name": "#%%\n"
    }
   },
   "outputs": [],
   "source": [
    "%load_ext autoreload\n",
    "%autoreload 2\n",
    "\n",
    "from IPython.display import display, HTML\n",
    "import os\n",
    "from os import path\n",
    "\n",
    "cache = path.join(os.getcwd(), '.cache')"
   ]
  },
  {
   "cell_type": "markdown",
   "id": "159b4136-659f-4545-83f4-d04d5eabd5f1",
   "metadata": {
    "pycharm": {
     "name": "#%% md\n"
    }
   },
   "source": [
    "### Support de visualisation de la carte d'attention"
   ]
  },
  {
   "cell_type": "markdown",
   "id": "1300efec-0eff-4d41-a8a9-583d643a5c66",
   "metadata": {
    "pycharm": {
     "name": "#%% md\n"
    }
   },
   "source": [
    "Tu peux donner un fond sombre pour mieux voir les mots surlignés comme celle de Loïc."
   ]
  },
  {
   "cell_type": "code",
   "execution_count": 25,
   "id": "75f7c822-7cf9-4d71-a134-c29bfc391ccf",
   "metadata": {
    "pycharm": {
     "name": "#%%\n"
    }
   },
   "outputs": [],
   "source": [
    "def highlight_txt(tokens, attention, padding_filter=None):\n",
    "    \"\"\"\n",
    "    Build an HTML of text along its weights.\n",
    "    Args:\n",
    "        tokens: list of tokens\n",
    "        attention: list of attention weights\n",
    "        padding_filter: padding filter to be hidden from visual\n",
    "    \"\"\"\n",
    "    assert len(tokens) == len(attention), f'Length mismatch: f{len(tokens)} vs f{len(attention)}'\n",
    "    \n",
    "    MAX_ALPHA = 0.8 # transparency\n",
    "\n",
    "    highlighted_text = ''\n",
    "    w_min, w_max = torch.min(attention), torch.max(attention)\n",
    "    \n",
    "    # In case of uniform: highlight all text\n",
    "    if w_min == w_max: \n",
    "        w_min = 0.\n",
    "    \n",
    "    w_norm = (attention - w_min)/(w_max - w_min)\n",
    "    w_norm = [w / MAX_ALPHA for w in w_norm]\n",
    "\n",
    "    if padding_filter is not None:\n",
    "        id_non_pad = [i for i, tk in enumerate(tokens) if tk != padding_filter]\n",
    "        w_norm = [w_norm[i] for i in id_non_pad]\n",
    "        tokens = [tokens[i] for i in id_non_pad]\n",
    "        \n",
    "    highlighted_text = [f'<span style=\"background-color:rgba(135,206,250, {weight});\">{text}</span>' for weight, text in zip(w_norm, tokens)]\n",
    "    \n",
    "    return ' '.join(highlighted_text)"
   ]
  },
  {
   "cell_type": "markdown",
   "id": "870bbbcb-e143-432e-80ba-53192d22514c",
   "metadata": {
    "pycharm": {
     "name": "#%% md\n"
    }
   },
   "source": [
    "Exemple pour une phrase"
   ]
  },
  {
   "cell_type": "code",
   "execution_count": 13,
   "id": "7ce4e95f-eb97-444f-8310-883438a9b622",
   "metadata": {
    "pycharm": {
     "name": "#%%\n"
    }
   },
   "outputs": [
    {
     "data": {
      "text/html": [
       "<h3>Attention on pharse</h3>"
      ],
      "text/plain": [
       "<IPython.core.display.HTML object>"
      ]
     },
     "metadata": {},
     "output_type": "display_data"
    },
    {
     "data": {
      "text/html": [
       "<span style=\"background-color:rgba(135,206,250, 1.25);\">An</span> <span style=\"background-color:rgba(135,206,250, 0.622517466545105);\">older</span> <span style=\"background-color:rgba(135,206,250, 0.6144430041313171);\">and</span> <span style=\"background-color:rgba(135,206,250, 0.6633513569831848);\">younger</span> <span style=\"background-color:rgba(135,206,250, 0.11380612105131149);\">man</span> <span style=\"background-color:rgba(135,206,250, 0.0);\">smiling.</span>"
      ],
      "text/plain": [
       "<IPython.core.display.HTML object>"
      ]
     },
     "metadata": {},
     "output_type": "display_data"
    }
   ],
   "source": [
    "import numpy as np\n",
    "import torch\n",
    "\n",
    "# Une pseudo phrase tokenizé et une carte d'attention aléatoire \n",
    "tokens = 'An older and younger man smiling.'.split(' ')\n",
    "L = len(tokens)\n",
    "attentions = torch.softmax(torch.rand(L), dim=-1)\n",
    "\n",
    "# `visual` contient le code HTML pour visualiser. Tu peux en suite le mettre dans un tableau HTML\n",
    "visual = highlight_txt(tokens, attentions)\n",
    "\n",
    "# Pour visualiser sur notebook\n",
    "display(HTML('<h3>Attention on pharse</h3>'))\n",
    "display(HTML(visual))                   "
   ]
  },
  {
   "cell_type": "markdown",
   "id": "3423182e-c86e-4e6d-a606-2d3a2dea7a22",
   "metadata": {
    "pycharm": {
     "name": "#%% md\n"
    }
   },
   "source": [
    "Le support pour visualiser une pair de phrase"
   ]
  },
  {
   "cell_type": "code",
   "execution_count": 26,
   "id": "ddb38700-ca94-462f-926f-ed6ad7956381",
   "metadata": {
    "pycharm": {
     "name": "#%%\n"
    }
   },
   "outputs": [],
   "source": [
    "def highlight_pair(p_tokens, h_tokens, p_attention, h_attention, padding_filter=None):\n",
    "    html = '<table>'\n",
    "    html += '<tr> <th>Premise</th> <th>Hypothesis</th> </tr>'\n",
    "    for i in range(len(p_attention)):\n",
    "        html += '<tr> <td>' +  highlight_txt(p_tokens[i], p_attention[i], padding_filter) + '</td><td>' + highlight_txt(h_tokens[i], h_attention[i], padding_filter) +'</td></tr>'\n",
    "    html += '</table>'\n",
    "    return html"
   ]
  },
  {
   "cell_type": "code",
   "execution_count": 30,
   "id": "1c3dcaa8-9350-43c6-b913-5fa8cb2b7d9a",
   "metadata": {
    "pycharm": {
     "name": "#%%\n"
    }
   },
   "outputs": [
    {
     "data": {
      "text/html": [
       "<h3>Attention on pairs with padding</h3>"
      ],
      "text/plain": [
       "<IPython.core.display.HTML object>"
      ]
     },
     "metadata": {},
     "output_type": "display_data"
    },
    {
     "data": {
      "text/html": [
       "<table><tr> <th>Premise</th> <th>Hypothesis</th> </tr><tr> <td><span style=\"background-color:rgba(135,206,250, 1.25);\">This</span> <span style=\"background-color:rgba(135,206,250, 0.8049256801605225);\">church</span> <span style=\"background-color:rgba(135,206,250, 0.48713237047195435);\">choir</span> <span style=\"background-color:rgba(135,206,250, 0.4785810708999634);\">sings</span> <span style=\"background-color:rgba(135,206,250, 0.9325080513954163);\">to</span> <span style=\"background-color:rgba(135,206,250, 0.7841413617134094);\">the</span> <span style=\"background-color:rgba(135,206,250, 0.12059804797172546);\">masses</span> <span style=\"background-color:rgba(135,206,250, 0.4796256422996521);\">as</span> <span style=\"background-color:rgba(135,206,250, 0.6375054121017456);\">they</span> <span style=\"background-color:rgba(135,206,250, 0.4305744767189026);\">sing</span> <span style=\"background-color:rgba(135,206,250, 1.0252931118011475);\">joyous</span> <span style=\"background-color:rgba(135,206,250, 0.6879533529281616);\">songs</span> <span style=\"background-color:rgba(135,206,250, 0.4630016088485718);\">from</span> <span style=\"background-color:rgba(135,206,250, 0.3609449863433838);\">the</span> <span style=\"background-color:rgba(135,206,250, 0.33529576659202576);\">book</span> <span style=\"background-color:rgba(135,206,250, 0.0);\">at</span> <span style=\"background-color:rgba(135,206,250, 0.9974809885025024);\">a</span> <span style=\"background-color:rgba(135,206,250, 0.24415478110313416);\">church</span> <span style=\"background-color:rgba(135,206,250, 1.152804970741272);\">[PAD]</span> <span style=\"background-color:rgba(135,206,250, 1.1478612422943115);\">[PAD]</span></td><td><span style=\"background-color:rgba(135,206,250, 0.7007858157157898);\">The</span> <span style=\"background-color:rgba(135,206,250, 0.9872332215309143);\">church</span> <span style=\"background-color:rgba(135,206,250, 0.07470491528511047);\">is</span> <span style=\"background-color:rgba(135,206,250, 1.25);\">filled</span> <span style=\"background-color:rgba(135,206,250, 0.7958067655563354);\">with</span> <span style=\"background-color:rgba(135,206,250, 0.0);\">song</span> <span style=\"background-color:rgba(135,206,250, 0.42978930473327637);\">.</span> <span style=\"background-color:rgba(135,206,250, 0.9146727323532104);\">[PAD]</span></td></tr><tr> <td><span style=\"background-color:rgba(135,206,250, 1.25);\">A</span> <span style=\"background-color:rgba(135,206,250, 0.7331085205078125);\">woman</span> <span style=\"background-color:rgba(135,206,250, 0.6368976831436157);\">with</span> <span style=\"background-color:rgba(135,206,250, 1.1327550411224365);\">a</span> <span style=\"background-color:rgba(135,206,250, 0.792769730091095);\">green</span> <span style=\"background-color:rgba(135,206,250, 0.7664563655853271);\">headscarf</span> <span style=\"background-color:rgba(135,206,250, 0.3580302298069);\">,</span> <span style=\"background-color:rgba(135,206,250, 0.9004225730895996);\">blue</span> <span style=\"background-color:rgba(135,206,250, 0.016779981553554535);\">shirt</span> <span style=\"background-color:rgba(135,206,250, 0.12135588377714157);\">and</span> <span style=\"background-color:rgba(135,206,250, 0.24342048168182373);\">a</span> <span style=\"background-color:rgba(135,206,250, 1.083354115486145);\">very</span> <span style=\"background-color:rgba(135,206,250, 0.7470571398735046);\">big</span> <span style=\"background-color:rgba(135,206,250, 0.0);\">grin</span> <span style=\"background-color:rgba(135,206,250, 0.1940990537405014);\">.</span></td><td><span style=\"background-color:rgba(135,206,250, 1.25);\">The</span> <span style=\"background-color:rgba(135,206,250, 0.006311575882136822);\">woman</span> <span style=\"background-color:rgba(135,206,250, 0.4990561604499817);\">is</span> <span style=\"background-color:rgba(135,206,250, 0.0);\">very</span> <span style=\"background-color:rgba(135,206,250, 0.7263609766960144);\">happy</span> <span style=\"background-color:rgba(135,206,250, 0.03982614725828171);\">.</span></td></tr></table>"
      ],
      "text/plain": [
       "<IPython.core.display.HTML object>"
      ]
     },
     "metadata": {},
     "output_type": "display_data"
    },
    {
     "data": {
      "text/html": [
       "<h3>Attention on pairs without padding</h3>"
      ],
      "text/plain": [
       "<IPython.core.display.HTML object>"
      ]
     },
     "metadata": {},
     "output_type": "display_data"
    },
    {
     "data": {
      "text/html": [
       "<table><tr> <th>Premise</th> <th>Hypothesis</th> </tr><tr> <td><span style=\"background-color:rgba(135,206,250, 1.25);\">This</span> <span style=\"background-color:rgba(135,206,250, 0.8049256801605225);\">church</span> <span style=\"background-color:rgba(135,206,250, 0.48713237047195435);\">choir</span> <span style=\"background-color:rgba(135,206,250, 0.4785810708999634);\">sings</span> <span style=\"background-color:rgba(135,206,250, 0.9325080513954163);\">to</span> <span style=\"background-color:rgba(135,206,250, 0.7841413617134094);\">the</span> <span style=\"background-color:rgba(135,206,250, 0.12059804797172546);\">masses</span> <span style=\"background-color:rgba(135,206,250, 0.4796256422996521);\">as</span> <span style=\"background-color:rgba(135,206,250, 0.6375054121017456);\">they</span> <span style=\"background-color:rgba(135,206,250, 0.4305744767189026);\">sing</span> <span style=\"background-color:rgba(135,206,250, 1.0252931118011475);\">joyous</span> <span style=\"background-color:rgba(135,206,250, 0.6879533529281616);\">songs</span> <span style=\"background-color:rgba(135,206,250, 0.4630016088485718);\">from</span> <span style=\"background-color:rgba(135,206,250, 0.3609449863433838);\">the</span> <span style=\"background-color:rgba(135,206,250, 0.33529576659202576);\">book</span> <span style=\"background-color:rgba(135,206,250, 0.0);\">at</span> <span style=\"background-color:rgba(135,206,250, 0.9974809885025024);\">a</span> <span style=\"background-color:rgba(135,206,250, 0.24415478110313416);\">church</span></td><td><span style=\"background-color:rgba(135,206,250, 0.7007858157157898);\">The</span> <span style=\"background-color:rgba(135,206,250, 0.9872332215309143);\">church</span> <span style=\"background-color:rgba(135,206,250, 0.07470491528511047);\">is</span> <span style=\"background-color:rgba(135,206,250, 1.25);\">filled</span> <span style=\"background-color:rgba(135,206,250, 0.7958067655563354);\">with</span> <span style=\"background-color:rgba(135,206,250, 0.0);\">song</span> <span style=\"background-color:rgba(135,206,250, 0.42978930473327637);\">.</span></td></tr><tr> <td><span style=\"background-color:rgba(135,206,250, 1.25);\">A</span> <span style=\"background-color:rgba(135,206,250, 0.7331085205078125);\">woman</span> <span style=\"background-color:rgba(135,206,250, 0.6368976831436157);\">with</span> <span style=\"background-color:rgba(135,206,250, 1.1327550411224365);\">a</span> <span style=\"background-color:rgba(135,206,250, 0.792769730091095);\">green</span> <span style=\"background-color:rgba(135,206,250, 0.7664563655853271);\">headscarf</span> <span style=\"background-color:rgba(135,206,250, 0.3580302298069);\">,</span> <span style=\"background-color:rgba(135,206,250, 0.9004225730895996);\">blue</span> <span style=\"background-color:rgba(135,206,250, 0.016779981553554535);\">shirt</span> <span style=\"background-color:rgba(135,206,250, 0.12135588377714157);\">and</span> <span style=\"background-color:rgba(135,206,250, 0.24342048168182373);\">a</span> <span style=\"background-color:rgba(135,206,250, 1.083354115486145);\">very</span> <span style=\"background-color:rgba(135,206,250, 0.7470571398735046);\">big</span> <span style=\"background-color:rgba(135,206,250, 0.0);\">grin</span> <span style=\"background-color:rgba(135,206,250, 0.1940990537405014);\">.</span></td><td><span style=\"background-color:rgba(135,206,250, 1.25);\">The</span> <span style=\"background-color:rgba(135,206,250, 0.006311575882136822);\">woman</span> <span style=\"background-color:rgba(135,206,250, 0.4990561604499817);\">is</span> <span style=\"background-color:rgba(135,206,250, 0.0);\">very</span> <span style=\"background-color:rgba(135,206,250, 0.7263609766960144);\">happy</span> <span style=\"background-color:rgba(135,206,250, 0.03982614725828171);\">.</span></td></tr></table>"
      ],
      "text/plain": [
       "<IPython.core.display.HTML object>"
      ]
     },
     "metadata": {},
     "output_type": "display_data"
    }
   ],
   "source": [
    "premise = ['This church choir sings to the masses as they sing joyous songs from the book at a church [PAD] [PAD]',\n",
    "           'A woman with a green headscarf , blue shirt and a very big grin .']\n",
    "hypothesis = ['The church is filled with song . [PAD]', \n",
    "              'The woman is very happy .']\n",
    "\n",
    "# Une pseudo phrase \n",
    "premise = [p.split(' ') for p in premise]\n",
    "hypothesis = [h.split(' ') for h in hypothesis]\n",
    "\n",
    "# \n",
    "attention_premise = [torch.softmax(torch.rand(len(p)), dim=-1) for p in premise]\n",
    "attention_hypothesis = [torch.softmax(torch.rand(len(h)), dim=-1) for h in hypothesis]\n",
    "\n",
    "display(HTML('<h3>Attention on pairs with padding</h3>'))\n",
    "display(HTML(highlight_pair(premise, hypothesis, attention_premise, attention_hypothesis)))\n",
    "\n",
    "display(HTML('<h3>Attention on pairs without padding</h3>'))\n",
    "display(HTML(highlight_pair(premise, hypothesis, attention_premise, attention_hypothesis, padding_filter='[PAD]')))"
   ]
  },
  {
   "cell_type": "code",
   "execution_count": null,
   "id": "fdbcee7a-5835-4c86-9e3a-ef429c655d73",
   "metadata": {
    "pycharm": {
     "name": "#%%\n"
    }
   },
   "outputs": [],
   "source": []
  }
 ],
 "metadata": {
  "kernelspec": {
   "display_name": "Python 3 (ipykernel)",
   "language": "python",
   "name": "python3"
  },
  "language_info": {
   "codemirror_mode": {
    "name": "ipython",
    "version": 3
   },
   "file_extension": ".py",
   "mimetype": "text/x-python",
   "name": "python",
   "nbconvert_exporter": "python",
   "pygments_lexer": "ipython3",
   "version": "3.8.5"
  }
 },
 "nbformat": 4,
 "nbformat_minor": 5
}