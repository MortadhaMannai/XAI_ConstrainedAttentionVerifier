{
 "cells": [
  {
   "cell_type": "markdown",
   "id": "42291469-df9d-43bc-8e04-550994f2f37b",
   "metadata": {
    "pycharm": {
     "name": "#%% md\n"
    }
   },
   "source": [
    "# Study on Yelp-Hat"
   ]
  },
  {
   "cell_type": "markdown",
   "id": "8f7496c4-0dd9-4d9c-9d39-fce827df3bee",
   "metadata": {
    "pycharm": {
     "name": "#%% md\n"
    }
   },
   "source": [
    "Paper: https://davis.wpi.edu/dsrg/PROJECTS/YELPHAT/2020_ACL_Human_vs_Machine-2.pdf\n",
    "\n",
    "Summary:\n",
    "* __Do annotators carefully choose relevant words?__ Yes, as the collecting time and number of chosen words increase accross the sentence length.\n",
    "\n",
    "Sigles:\n",
    "* __HAM__ (Human Attention Map): what annotators denote\n",
    "* __CAM__ (Consensus Attention Map): bitwise __AND__ operation of the HAMs\n",
    "* __SAM__ (Super Attention Map): bitwise __OR__ operation of the HAMs. \n"
   ]
  },
  {
   "cell_type": "code",
   "execution_count": 1,
   "id": "8e5a77f3-37ef-489d-bbb7-73be05cfc3ad",
   "metadata": {
    "pycharm": {
     "name": "#%%\n"
    }
   },
   "outputs": [],
   "source": [
    "%load_ext autoreload\n",
    "%autoreload 2\n",
    "\n",
    "from IPython.display import display, HTML\n",
    "import os\n",
    "from os import path\n",
    "\n",
    "import sys\n",
    "sys.path.append(\"./../src\")\n",
    "\n",
    "cache_path = path.join(os.getcwd(), '..', '.cache')\n",
    "\n",
    "DATASET_NAME='yelp-hat'\n",
    "\n",
    "dataset_path = path.join(cache_path, 'dataset', DATASET_NAME)\n",
    "\n",
    "tmp_path = path.join('.cache', '2022-07-29')\n",
    "os.makedirs(tmp_path,exist_ok=True)"
   ]
  },
  {
   "cell_type": "markdown",
   "id": "4a02a562-b02d-4bec-aee5-1951162e0789",
   "metadata": {
    "pycharm": {
     "name": "#%% md\n"
    }
   },
   "source": [
    "Download and extract dataset"
   ]
  },
  {
   "cell_type": "code",
   "execution_count": 2,
   "id": "2c006c64-6808-42d4-9ae0-394cc633df0d",
   "metadata": {
    "pycharm": {
     "name": "#%%\n"
    }
   },
   "outputs": [],
   "source": [
    "from torchtext.utils import download_from_url, extract_archive\n",
    "import shutil\n",
    "\n",
    "# Download dataset zip\n",
    "URL='https://github.com/cansusen/Human-Attention-for-Text-Classification/archive/205c1552bc7be7ec48623d79d85d4c6fbfe62362.zip'\n",
    "\n",
    "zip_path = download_from_url(URL, root=dataset_path, path=path.join(dataset_path, f'{DATASET_NAME}.zip'))\n",
    "extracted_path = path.join(dataset_path, 'caching')\n",
    "files = extract_archive(from_path=zip_path, to_path=extracted_path)\n",
    "files = [f for f in files if f.endswith('.csv')]\n",
    "\n",
    "for f in files: shutil.copy2(f, extracted_path)"
   ]
  },
  {
   "cell_type": "markdown",
   "id": "27e15a9b-8e9b-45cf-bde9-81cd12eabafa",
   "metadata": {
    "pycharm": {
     "name": "#%% md\n"
    }
   },
   "source": [
    "A quoi ressemble la dataset?"
   ]
  },
  {
   "cell_type": "code",
   "execution_count": 3,
   "id": "57ef225d-0bbb-4172-8037-55416133d072",
   "metadata": {
    "pycharm": {
     "name": "#%%\n"
    }
   },
   "outputs": [
    {
     "data": {
      "text/html": [
       "<div>\n",
       "<style scoped>\n",
       "    .dataframe tbody tr th:only-of-type {\n",
       "        vertical-align: middle;\n",
       "    }\n",
       "\n",
       "    .dataframe tbody tr th {\n",
       "        vertical-align: top;\n",
       "    }\n",
       "\n",
       "    .dataframe thead th {\n",
       "        text-align: right;\n",
       "    }\n",
       "</style>\n",
       "<table border=\"1\" class=\"dataframe\">\n",
       "  <thead>\n",
       "    <tr style=\"text-align: right;\">\n",
       "      <th></th>\n",
       "      <th>Input.label</th>\n",
       "      <th>Input.text</th>\n",
       "      <th>Answer.Q1Answer</th>\n",
       "      <th>Answer.html_output</th>\n",
       "    </tr>\n",
       "  </thead>\n",
       "  <tbody>\n",
       "    <tr>\n",
       "      <th>0</th>\n",
       "      <td>1</td>\n",
       "      <td>Out in Twinsburg for work and wasn't expecting...</td>\n",
       "      <td>yes</td>\n",
       "      <td>&lt;span&gt;Out&lt;/span&gt; &lt;span&gt;in&lt;/span&gt; &lt;span&gt;Twinsbu...</td>\n",
       "    </tr>\n",
       "    <tr>\n",
       "      <th>1</th>\n",
       "      <td>1</td>\n",
       "      <td>Out in Twinsburg for work and wasn't expecting...</td>\n",
       "      <td>yes</td>\n",
       "      <td>&lt;span&gt;Out&lt;/span&gt; &lt;span&gt;in&lt;/span&gt; &lt;span&gt;Twinsbu...</td>\n",
       "    </tr>\n",
       "    <tr>\n",
       "      <th>2</th>\n",
       "      <td>1</td>\n",
       "      <td>Out in Twinsburg for work and wasn't expecting...</td>\n",
       "      <td>yes</td>\n",
       "      <td>&lt;span&gt;Out&lt;/span&gt; &lt;span&gt;in&lt;/span&gt; &lt;span&gt;Twinsbu...</td>\n",
       "    </tr>\n",
       "    <tr>\n",
       "      <th>3</th>\n",
       "      <td>0</td>\n",
       "      <td>Very slow. Never been in the drive at any othe...</td>\n",
       "      <td>no</td>\n",
       "      <td>&lt;span class=\"active\"&gt;Very&lt;/span&gt; &lt;span class=\"...</td>\n",
       "    </tr>\n",
       "    <tr>\n",
       "      <th>4</th>\n",
       "      <td>0</td>\n",
       "      <td>Very slow. Never been in the drive at any othe...</td>\n",
       "      <td>no</td>\n",
       "      <td>&lt;span&gt;Very&lt;/span&gt; &lt;span class=\"active\"&gt;slow.&lt;/...</td>\n",
       "    </tr>\n",
       "    <tr>\n",
       "      <th>...</th>\n",
       "      <td>...</td>\n",
       "      <td>...</td>\n",
       "      <td>...</td>\n",
       "      <td>...</td>\n",
       "    </tr>\n",
       "    <tr>\n",
       "      <th>895</th>\n",
       "      <td>0</td>\n",
       "      <td>I went here to get a snack before I went on th...</td>\n",
       "      <td>no</td>\n",
       "      <td>&lt;span&gt;I&lt;/span&gt; &lt;span&gt;went&lt;/span&gt; &lt;span&gt;here&lt;/s...</td>\n",
       "    </tr>\n",
       "    <tr>\n",
       "      <th>896</th>\n",
       "      <td>0</td>\n",
       "      <td>I went here to get a snack before I went on th...</td>\n",
       "      <td>no</td>\n",
       "      <td>&lt;span&gt;I&lt;/span&gt; &lt;span&gt;went&lt;/span&gt; &lt;span&gt;here&lt;/s...</td>\n",
       "    </tr>\n",
       "    <tr>\n",
       "      <th>897</th>\n",
       "      <td>0</td>\n",
       "      <td>Always packed for lunch.  Probably because Pit...</td>\n",
       "      <td>no</td>\n",
       "      <td>&lt;span&gt;Always&lt;/span&gt; &lt;span&gt;packed&lt;/span&gt; &lt;span&gt;...</td>\n",
       "    </tr>\n",
       "    <tr>\n",
       "      <th>898</th>\n",
       "      <td>0</td>\n",
       "      <td>Always packed for lunch.  Probably because Pit...</td>\n",
       "      <td>no</td>\n",
       "      <td>&lt;span&gt;Always&lt;/span&gt; &lt;span&gt;packed&lt;/span&gt; &lt;span&gt;...</td>\n",
       "    </tr>\n",
       "    <tr>\n",
       "      <th>899</th>\n",
       "      <td>0</td>\n",
       "      <td>Always packed for lunch.  Probably because Pit...</td>\n",
       "      <td>no</td>\n",
       "      <td>&lt;span class=\"active\"&gt;Always&lt;/span&gt; &lt;span class...</td>\n",
       "    </tr>\n",
       "  </tbody>\n",
       "</table>\n",
       "<p>900 rows × 4 columns</p>\n",
       "</div>"
      ],
      "text/plain": [
       "     Input.label                                         Input.text  \\\n",
       "0              1  Out in Twinsburg for work and wasn't expecting...   \n",
       "1              1  Out in Twinsburg for work and wasn't expecting...   \n",
       "2              1  Out in Twinsburg for work and wasn't expecting...   \n",
       "3              0  Very slow. Never been in the drive at any othe...   \n",
       "4              0  Very slow. Never been in the drive at any othe...   \n",
       "..           ...                                                ...   \n",
       "895            0  I went here to get a snack before I went on th...   \n",
       "896            0  I went here to get a snack before I went on th...   \n",
       "897            0  Always packed for lunch.  Probably because Pit...   \n",
       "898            0  Always packed for lunch.  Probably because Pit...   \n",
       "899            0  Always packed for lunch.  Probably because Pit...   \n",
       "\n",
       "    Answer.Q1Answer                                 Answer.html_output  \n",
       "0               yes  <span>Out</span> <span>in</span> <span>Twinsbu...  \n",
       "1               yes  <span>Out</span> <span>in</span> <span>Twinsbu...  \n",
       "2               yes  <span>Out</span> <span>in</span> <span>Twinsbu...  \n",
       "3                no  <span class=\"active\">Very</span> <span class=\"...  \n",
       "4                no  <span>Very</span> <span class=\"active\">slow.</...  \n",
       "..              ...                                                ...  \n",
       "895              no  <span>I</span> <span>went</span> <span>here</s...  \n",
       "896              no  <span>I</span> <span>went</span> <span>here</s...  \n",
       "897              no  <span>Always</span> <span>packed</span> <span>...  \n",
       "898              no  <span>Always</span> <span>packed</span> <span>...  \n",
       "899              no  <span class=\"active\">Always</span> <span class...  \n",
       "\n",
       "[900 rows x 4 columns]"
      ]
     },
     "execution_count": 3,
     "metadata": {},
     "output_type": "execute_result"
    }
   ],
   "source": [
    "import pandas as pd\n",
    "\n",
    "df = pd.read_csv(path.join(extracted_path, 'ham_part1(50words).csv'))\n",
    "df"
   ]
  },
  {
   "cell_type": "code",
   "execution_count": 4,
   "id": "14f7a0ed-c9fa-424e-9473-db6c85dce7ba",
   "metadata": {
    "pycharm": {
     "name": "#%%\n"
    }
   },
   "outputs": [
    {
     "name": "stdout",
     "output_type": "stream",
     "text": [
      "Number of words highlighted in this review: 6\n",
      "Original annotation: <span>Out</span> <span>in</span> <span>Twinsburg</span> <span>for</span> <span>work</span> <span>and</span> <span>wasn't</span> <span>expecting</span> <span>to</span> <span>find</span> <span>a</span> <span>well</span> <span>reviewed</span> <span>sushi</span> <span>restaurant</span> <span>but</span> <span class=\"active\">glad</span> <span>I</span> <span>did.</span> <span>It</span> <span>was</span> <span>quite</span> <span>busy</span> <span>for</span> <span>a</span> <span>Monday</span> <span>and</span> <span>the</span> <span>poor</span> <span>waitress</span> <span>was</span> <span>slammed</span> <span>but</span> <span>the</span> <span>sushi</span> <span>chef</span> <span>stepped</span> <span>in</span> <span>to</span> <span>help</span> <span>and</span> <span>was</span> <span class=\"active\">very</span> <span class=\"active\">friendly.</span> <span>The</span> <span class=\"active\">presentation</span> <span>and</span> <span class=\"active\">flavors</span> <span>were</span> <span class=\"active\">great.</span> <span></span>\n",
      "Binarized attention map: [0, 0, 0, 0, 0, 0, 0, 0, 0, 0, 0, 0, 0, 0, 0, 0, 1, 0, 0, 0, 0, 0, 0, 0, 0, 0, 0, 0, 0, 0, 0, 0, 0, 0, 0, 0, 0, 0, 0, 0, 0, 0, 1, 1, 0, 1, 0, 1, 0, 1, 0, 0, 0, 0, 0, 0, 0, 0, 0, 0, 0, 0, 0, 0, 0, 0, 0, 0, 0, 0, 0, 0, 0, 0, 0, 0, 0, 0, 0, 0, 0, 0, 0, 0, 0, 0, 0, 0, 0, 0, 0, 0, 0, 0, 0, 0, 0, 0, 0, 0]\n"
     ]
    }
   ],
   "source": [
    "import re\n",
    "def generate_binary_human_attention_vector(html, num_words_in_review, max_words):\n",
    "    # Function provided by the dataset :\n",
    "    # https://github.com/cansusen/Human-Attention-for-Text-Classification/blob/master/generate_ham/sample_generate.ipynb\n",
    "\n",
    "    p = re.compile('<span(.*?)/span>')\n",
    "    all_span_items = p.findall(html)\n",
    "\n",
    "    if html == '{}':\n",
    "        print('Empty human annotation - This should never print')\n",
    "        return [0] * max_words\n",
    "\n",
    "    if len(all_span_items) == num_words_in_review + 1:\n",
    "        if (all_span_items[num_words_in_review] == '><') or (all_span_items[num_words_in_review] == ' data-vivaldi-spatnav-clickable=\"1\"><'):\n",
    "\n",
    "            binarized_human_attention = [0] * max_words\n",
    "            for i in range(0, len(all_span_items) - 1):\n",
    "                if 'class=\"active\"' in all_span_items[i]:\n",
    "                    binarized_human_attention[i] = 1\n",
    "\n",
    "        else:\n",
    "            print('This should never print.')\n",
    "    else:\n",
    "        print('This should never print.')\n",
    "\n",
    "    return binarized_human_attention\n",
    "\n",
    "MAX_WORDS = 100\n",
    "i = 0\n",
    "html = df['Answer.html_output'][i]\n",
    "num_highlighted = html.count('class=\"active\"')\n",
    "num_words_in_review = len(df['Input.text'][i].split())\n",
    "\n",
    "binarized_human_attention = generate_binary_human_attention_vector(html, num_words_in_review, MAX_WORDS)\n",
    "\n",
    "\n",
    "print(\"Number of words highlighted in this review:\",num_highlighted)\n",
    "print(\"Original annotation:\", html)\n",
    "print(\"Binarized attention map:\",binarized_human_attention)"
   ]
  },
  {
   "cell_type": "code",
   "execution_count": 6,
   "id": "dfc5ee17-0c54-4cdd-a0b1-93fccaffe5f3",
   "metadata": {
    "pycharm": {
     "name": "#%%\n"
    }
   },
   "outputs": [
    {
     "name": "stdout",
     "output_type": "stream",
     "text": [
      "[False, False, False, False, False, False, False, False, False, False, False, False, False, False, False, False, True, False, False, False, False, False, False, False, False, False, False, False, False, False, False, False, False, False, False, False, False, False, False, False, False, False, True, True, False, True, False, True, False, True]\n"
     ]
    }
   ],
   "source": [
    "def tokenize(html):\n",
    "    p = re.compile(r'<span[^>]*>(.+?)</span>')\n",
    "    return p.findall(html)\n",
    "\n",
    "def human_attention(html):\n",
    "\n",
    "    p = re.compile('<span(.*?)/span>')\n",
    "    all_span_items = p.findall(html)\n",
    "    if all_span_items[-1] == '><': all_span_items = all_span_items[:-1]\n",
    "\n",
    "    return ['class=\"active\"' in span_item for span_item in all_span_items]\n",
    "\n",
    "v_hat = human_attention(html)\n",
    "print(v_hat)\n",
    "\n",
    "# Check if we tokenize html, can our function \"human_attention\" reproduce the exact same length\n",
    "for fpath in os.listdir(dataset_path):\n",
    "    \n",
    "    if fpath.endswith('.csv'):\n",
    "        print('Check',fpath)\n",
    "        df = pd.read_csv(path.join(dataset_path, fpath))\n",
    "        print(len(df['Answer.html_output']))\n",
    "        for html in df['Answer.html_output']:\n",
    "            tokens = tokenize(html)\n",
    "            v_hat = human_attention(html)\n",
    "            if len(tokens) != len(v_hat):\n",
    "                print(len(tokens), len(v_hat))\n",
    "                print(' '.tokens)\n",
    "                display(HTML(html))"
   ]
  },
  {
   "cell_type": "markdown",
   "id": "a294fbb9-118e-4076-a792-9bfd59f1415c",
   "metadata": {
    "pycharm": {
     "name": "#%% md\n"
    }
   },
   "source": [
    "Proceed dataset step by step"
   ]
  },
  {
   "cell_type": "code",
   "execution_count": 8,
   "id": "d7502c20-2195-4bf3-b8a6-2997d002e9c8",
   "metadata": {
    "pycharm": {
     "name": "#%%\n"
    },
    "tags": []
   },
   "outputs": [
    {
     "data": {
      "text/html": [
       "<h3>Raw dataset</h3>"
      ],
      "text/plain": [
       "<IPython.core.display.HTML object>"
      ]
     },
     "metadata": {},
     "output_type": "display_data"
    },
    {
     "data": {
      "text/html": [
       "<div>\n",
       "<style scoped>\n",
       "    .dataframe tbody tr th:only-of-type {\n",
       "        vertical-align: middle;\n",
       "    }\n",
       "\n",
       "    .dataframe tbody tr th {\n",
       "        vertical-align: top;\n",
       "    }\n",
       "\n",
       "    .dataframe thead th {\n",
       "        text-align: right;\n",
       "    }\n",
       "</style>\n",
       "<table border=\"1\" class=\"dataframe\">\n",
       "  <thead>\n",
       "    <tr style=\"text-align: right;\">\n",
       "      <th></th>\n",
       "      <th>Input.label</th>\n",
       "      <th>Input.text</th>\n",
       "      <th>Answer.Q1Answer</th>\n",
       "      <th>Answer.html_output</th>\n",
       "    </tr>\n",
       "  </thead>\n",
       "  <tbody>\n",
       "    <tr>\n",
       "      <th>0</th>\n",
       "      <td>0</td>\n",
       "      <td>I don't think so. \\n\\nThis \"buffet\" is probabl...</td>\n",
       "      <td>no</td>\n",
       "      <td>&lt;span&gt;I&lt;/span&gt; &lt;span&gt;don't&lt;/span&gt; &lt;span&gt;think&lt;...</td>\n",
       "    </tr>\n",
       "    <tr>\n",
       "      <th>1</th>\n",
       "      <td>0</td>\n",
       "      <td>I don't think so. \\n\\nThis \"buffet\" is probabl...</td>\n",
       "      <td>no</td>\n",
       "      <td>&lt;span&gt;I&lt;/span&gt; &lt;span class=\"active\"&gt;don't&lt;/spa...</td>\n",
       "    </tr>\n",
       "    <tr>\n",
       "      <th>2</th>\n",
       "      <td>0</td>\n",
       "      <td>I don't think so. \\n\\nThis \"buffet\" is probabl...</td>\n",
       "      <td>no</td>\n",
       "      <td>&lt;span&gt;I&lt;/span&gt; &lt;span&gt;don't&lt;/span&gt; &lt;span&gt;think&lt;...</td>\n",
       "    </tr>\n",
       "    <tr>\n",
       "      <th>3</th>\n",
       "      <td>1</td>\n",
       "      <td>Ate here two times now and food has been excel...</td>\n",
       "      <td>yes</td>\n",
       "      <td>&lt;span&gt;Ate&lt;/span&gt; &lt;span&gt;here&lt;/span&gt; &lt;span&gt;two&lt;/...</td>\n",
       "    </tr>\n",
       "    <tr>\n",
       "      <th>4</th>\n",
       "      <td>1</td>\n",
       "      <td>Ate here two times now and food has been excel...</td>\n",
       "      <td>yes</td>\n",
       "      <td>&lt;span&gt;Ate&lt;/span&gt; &lt;span&gt;here&lt;/span&gt; &lt;span&gt;two&lt;/...</td>\n",
       "    </tr>\n",
       "  </tbody>\n",
       "</table>\n",
       "</div>"
      ],
      "text/plain": [
       "   Input.label                                         Input.text  \\\n",
       "0            0  I don't think so. \\n\\nThis \"buffet\" is probabl...   \n",
       "1            0  I don't think so. \\n\\nThis \"buffet\" is probabl...   \n",
       "2            0  I don't think so. \\n\\nThis \"buffet\" is probabl...   \n",
       "3            1  Ate here two times now and food has been excel...   \n",
       "4            1  Ate here two times now and food has been excel...   \n",
       "\n",
       "  Answer.Q1Answer                                 Answer.html_output  \n",
       "0              no  <span>I</span> <span>don't</span> <span>think<...  \n",
       "1              no  <span>I</span> <span class=\"active\">don't</spa...  \n",
       "2              no  <span>I</span> <span>don't</span> <span>think<...  \n",
       "3             yes  <span>Ate</span> <span>here</span> <span>two</...  \n",
       "4             yes  <span>Ate</span> <span>here</span> <span>two</...  "
      ]
     },
     "metadata": {},
     "output_type": "display_data"
    },
    {
     "ename": "NameError",
     "evalue": "name 'duplicates' is not defined",
     "output_type": "error",
     "traceback": [
      "\u001b[0;31m---------------------------------------------------------------------------\u001b[0m",
      "\u001b[0;31mNameError\u001b[0m                                 Traceback (most recent call last)",
      "Input \u001b[0;32mIn [8]\u001b[0m, in \u001b[0;36m<cell line: 11>\u001b[0;34m()\u001b[0m\n\u001b[1;32m      8\u001b[0m display(HTML(\u001b[38;5;124m'\u001b[39m\u001b[38;5;124m<h3>Raw dataset</h3>\u001b[39m\u001b[38;5;124m'\u001b[39m))\n\u001b[1;32m      9\u001b[0m display(df\u001b[38;5;241m.\u001b[39mhead())\n\u001b[0;32m---> 11\u001b[0m dupli_2 \u001b[38;5;241m=\u001b[39m \u001b[43mduplicates\u001b[49m[duplicates[\u001b[38;5;124m'\u001b[39m\u001b[38;5;124msize\u001b[39m\u001b[38;5;124m'\u001b[39m] \u001b[38;5;241m==\u001b[39m \u001b[38;5;241m2\u001b[39m]  \u001b[38;5;66;03m# finds dupli_2\u001b[39;00m\n\u001b[1;32m     12\u001b[0m df \u001b[38;5;241m=\u001b[39m df[\u001b[38;5;241m~\u001b[39mdf[\u001b[38;5;124m'\u001b[39m\u001b[38;5;124mInput.text\u001b[39m\u001b[38;5;124m'\u001b[39m]\u001b[38;5;241m.\u001b[39misin(dupli_2[\u001b[38;5;124m'\u001b[39m\u001b[38;5;124mindex\u001b[39m\u001b[38;5;124m'\u001b[39m])]\n\u001b[1;32m     14\u001b[0m df[\u001b[38;5;124m'\u001b[39m\u001b[38;5;124mham_\u001b[39m\u001b[38;5;124m'\u001b[39m] \u001b[38;5;241m=\u001b[39m df[\u001b[38;5;124mf\u001b[39m\u001b[38;5;124m'\u001b[39m\u001b[38;5;124mAnswer.html_output\u001b[39m\u001b[38;5;124m'\u001b[39m]\u001b[38;5;241m.\u001b[39mapply(\u001b[38;5;28;01mlambda\u001b[39;00m x: yelp_hat_ham(x, nlp))\u001b[38;5;241m.\u001b[39mapply(\u001b[38;5;28;01mlambda\u001b[39;00m x: np\u001b[38;5;241m.\u001b[39marray(x))\n",
      "\u001b[0;31mNameError\u001b[0m: name 'duplicates' is not defined"
     ]
    }
   ],
   "source": [
    "from data.yelp_hat.utils import yelp_hat_ham, yelp_hat_token\n",
    "import numpy as np\n",
    "import spacy\n",
    "\n",
    "nlp = spacy.load('en_core_web_sm')\n",
    "\n",
    "df = pd.read_csv(path.join(extracted_path, 'ham_part5.csv'))\n",
    "display(HTML('<h3>Raw dataset</h3>'))\n",
    "display(df.head())\n",
    "\n",
    "dupli_2 = duplicates[duplicates['size'] == 2]  # finds dupli_2\n",
    "df = df[~df['Input.text'].isin(dupli_2['index'])]\n",
    "\n",
    "df['ham_'] = df[f'Answer.html_output'].apply(lambda x: yelp_hat_ham(x, nlp)).apply(lambda x: np.array(x))\n",
    "df['text_tokens'] = df['Answer.html_output'].apply(lambda x: yelp_hat_token(x, nlp))\n",
    "df = df.rename(columns={'Answer.Q1Answer': 'human_label_', 'Input.text': 'text', 'Input.label': 'label'})\n",
    "\n",
    "display(HTML('<h3>Preprocess text and human attention</h3>'))\n",
    "display(df.head())\n",
    "\n",
    "dfs = [df.loc[0::3, ['text', 'label', 'text_tokens']].reset_index(drop=True)]\n",
    "for idx in range(3):\n",
    "    _data = df.loc[idx::3, ['ham_', 'human_label_']]\n",
    "    _data = _data.reset_index(drop=True).add_suffix(str(idx))\n",
    "    dfs += [_data]\n",
    "    \n",
    "df = pd.concat(dfs, axis=1)\n",
    "\n",
    "def cam(row):\n",
    "    return np.logical_and(row['ham_0'],row['ham_1'],row['ham_2'])\n",
    "\n",
    "def sam(row):\n",
    "    return np.logical_or(row['ham_0'],row['ham_1'],row['ham_2'])\n",
    "\n",
    "def ham(row):\n",
    "    return ((row['ham_0'] + row['ham_1'] + row['ham_2'])/3 >= 0.5).astype(int)\n",
    "\n",
    "df['cam'] = df.apply(cam,axis=1)\n",
    "df['sam'] = df.apply(sam,axis=1)\n",
    "df['ham'] = df.apply(ham,axis=1)\n",
    "\n",
    "df.head()"
   ]
  },
  {
   "cell_type": "code",
   "execution_count": null,
   "id": "f60eca72-76f0-44a1-b9ba-2ae981593576",
   "metadata": {
    "pycharm": {
     "name": "#%%\n"
    }
   },
   "outputs": [],
   "source": [
    "df = pd.read_csv(path.join(extracted_path, 'ham_part5.csv'))\n",
    "duplicates = df.groupby(df['Input.text'].tolist(),as_index=False).size()\n",
    "display(duplicates['size'].unique())\n",
    "for dup_rows in [2, 3]:\n",
    "    print('Duplicate of', dup_rows, ':', sum(duplicate['size'] == dup_rows))\n",
    "    \n",
    "dupli_2 = duplicates[duplicates['size'] == 2]  # finds dupli_2\n",
    "df = df[~df['Input.text'].isin(dupli_2['index'])]\n",
    "duplicate = df.groupby(df['Input.text'].tolist(),as_index=False).size()\n",
    "display(duplicate['size'].unique())"
   ]
  },
  {
   "cell_type": "code",
   "execution_count": null,
   "id": "52565e89-3f93-4e02-a032-5a62f40875a9",
   "metadata": {
    "pycharm": {
     "name": "#%%\n"
    }
   },
   "outputs": [],
   "source": [
    "df['coherent_ham_01'] = df['ham_0'].str.len() == df['ham_1'].str.len()\n",
    "df['coherent_ham_12'] = df['ham_1'].str.len() == df['ham_2'].str.len()\n",
    "print(df['coherent_ham_01'].all())\n",
    "print(df['coherent_ham_12'].all())\n",
    "print('#Incoherent length:', df['coherent_ham_12'].sum())"
   ]
  },
  {
   "cell_type": "code",
   "execution_count": null,
   "id": "6a3afc25-fec6-4967-a7cb-2140c2846b0a",
   "metadata": {
    "pycharm": {
     "name": "#%%\n"
    }
   },
   "outputs": [],
   "source": [
    "def cam(row):\n",
    "    return np.logical_and(row['ham_0'],row['ham_1'],row['ham_2'])\n",
    "\n",
    "def sam(row):\n",
    "    return np.logical_or(row['ham_0'],row['ham_1'],row['ham_2'])\n",
    "\n",
    "def ham(row):\n",
    "    return ((row['ham_0'] + row['ham_1'] + row['ham_2'])/3 >= 0.5).astype(int)\n",
    "\n",
    "for f in files:\n",
    "    print(f)\n",
    "    df = pd.read_csv(f)\n",
    "    df['ham_'] = df[f'Answer.html_output'].apply(yelp_hat_ham).apply(lambda x: np.array(x))\n",
    "    df['text_tokens'] = df['Answer.html_output'].apply(yelp_hat_token)\n",
    "    df = df.rename(columns={'Answer.Q1Answer': 'human_label_', 'Input.text': 'text', 'Input.label': 'label'})\n",
    "    dfs = [df.loc[0::3, ['text', 'label', 'text_tokens']].reset_index(drop=True)]\n",
    "    for idx in range(3):\n",
    "        _data = df.loc[idx::3, ['ham_', 'human_label_']]\n",
    "        _data = _data.reset_index(drop=True).add_suffix(str(idx))\n",
    "        dfs += [_data]\n",
    "\n",
    "    df = pd.concat(dfs, axis=1)\n",
    "\n",
    "    try:\n",
    "        df['cam'] = df.apply(cam,axis=1)\n",
    "        df['sam'] = df.apply(sam,axis=1)\n",
    "        df['ham'] = df.apply(ham,axis=1)\n",
    "    except ValueError as e:\n",
    "        print(e)\n",
    "        continue"
   ]
  },
  {
   "cell_type": "code",
   "execution_count": null,
   "id": "b29102c3-1beb-49d3-b44a-7b67a5ab59c0",
   "metadata": {
    "pycharm": {
     "name": "#%%\n"
    }
   },
   "outputs": [],
   "source": [
    "import numpy as np\n",
    "\n",
    "def cam(row):\n",
    "    return np.logical_and(row['ham_0'],row['ham_1'],row['ham_2'])\n",
    "\n",
    "def sam(row):\n",
    "    return np.logical_or(row['ham_0'],row['ham_1'],row['ham_2'])\n",
    "\n",
    "def ham(row):\n",
    "    return ((row['ham_0'] + row['ham_1'] + row['ham_2'])/3 >= 0.5).astype(int)\n",
    "\n",
    "df['cam'] = df.apply(cam,axis=1)\n",
    "df['sam'] = df.apply(sam,axis=1)\n",
    "df['ham'] = df.apply(ham,axis=1)\n",
    "df.head()\n",
    "# sam = df.apply(lambda x: np.logical_and(np.array(x['ham_0']), np.array(x['ham_1']), np.array(x['ham_2'])))"
   ]
  },
  {
   "cell_type": "markdown",
   "id": "cb68cd16-6e28-45fd-b86a-6cba7f3819f1",
   "metadata": {
    "pycharm": {
     "name": "#%% md\n"
    }
   },
   "source": [
    "<div class=\"alert alert-block alert-info\">\n",
    "    <b>Note:</b> By reconcatenating for spacy and re tokenize, do we obtain the coherent length?\n",
    "</div>    "
   ]
  },
  {
   "cell_type": "code",
   "execution_count": 134,
   "id": "8fca69a6-c3f6-4d57-afa9-07eef4f35481",
   "metadata": {
    "pycharm": {
     "name": "#%%\n"
    }
   },
   "outputs": [
    {
     "data": {
      "application/vnd.jupyter.widget-view+json": {
       "model_id": "463d6d78fa344beebf821c878c32b9ed",
       "version_major": 2,
       "version_minor": 0
      },
      "text/plain": [
       "  0%|          | 0/6 [00:00<?, ?it/s]"
      ]
     },
     "metadata": {},
     "output_type": "display_data"
    },
    {
     "name": "stdout",
     "output_type": "stream",
     "text": [
      "ham_part5.csv : Same tokens between text and ham > True\n",
      "ham_part8(200words).csv : Same tokens between text and ham > True\n",
      "ham_part6(100words).csv : Same tokens between text and ham > True\n",
      "ham_part4.csv : Same tokens between text and ham > True\n",
      "ham_part3.csv : Same tokens between text and ham > True\n",
      "ham_part1(50words).csv : Same tokens between text and ham > True\n"
     ]
    }
   ],
   "source": [
    "from tqdm.notebook import tqdm\n",
    "from bs4 import BeautifulSoup\n",
    "import spacy \n",
    "\n",
    "nlp = spacy.load('en_core_web_sm')\n",
    "# soup = BeautifulSoup(html, 'html.parser')\n",
    "\n",
    "def tokenize_ham(html):\n",
    "    soup = BeautifulSoup(html, 'html.parser')\n",
    "    tags = [str(tag.string) for tag in soup.find_all('span') if tag.string is not None]\n",
    "    tokens = [str(tk.text) for doc in nlp.pipe(tags) for tk in doc]\n",
    "    return tokens\n",
    "\n",
    "files = [fpath for fpath in os.listdir(extracted_path) if fpath.endswith('.csv') and 'part7' not in fpath]\n",
    "\n",
    "for fpath in tqdm(files, total=len(files)):\n",
    "        \n",
    "    df = pd.read_csv(path.join(extracted_path, fpath))\n",
    "\n",
    "    dfs = [df.loc[0::3, df.columns != 'Answer.html_output'].reset_index(drop=True)]\n",
    "    dfs += [df.loc[idx::3, ['Answer.html_output']].reset_index(drop=True).rename(columns={'Answer.html_output':'ham_html_'}).add_suffix(str(idx)) for idx in range(3) ]\n",
    "    clean_df = pd.concat(dfs,axis=1).rename(columns={'Input.label': 'label', 'Input.text': 'text', 'Answer.Q1Answer':'human_label'})\n",
    "    clean_df = clean_df[['text', 'ham_html_0', 'ham_html_1', 'ham_html_2', 'label', 'human_label']]\n",
    "\n",
    "    clean_df['ham_tokens'] = clean_df['ham_html_0'].apply(tokenize_ham)\n",
    "    clean_df['count_ham_tokens'] = clean_df['ham_tokens'].apply(lambda row: len(row))\n",
    "\n",
    "    clean_df['text_tokens'] = [[tk.text for tk in doc if not tk.is_space] for doc in nlp.pipe(clean_df['text'].tolist())]\n",
    "    clean_df['count_text_tokens'] = clean_df['text_tokens'].apply(lambda row: len(row))\n",
    "\n",
    "    is_every_row_ok = (clean_df['count_text_tokens'] == clean_df['count_ham_tokens']).all()\n",
    "    print(fpath, ': Same tokens between text and ham >', is_every_row_ok)"
   ]
  },
  {
   "cell_type": "markdown",
   "id": "b50d68d5-ab3f-40fd-9260-02610908f91c",
   "metadata": {
    "pycharm": {
     "name": "#%% md\n"
    }
   },
   "source": [
    "###### Split tokens in human attention maps by spacy, verify if `len(token) == len(annotation)`"
   ]
  },
  {
   "cell_type": "code",
   "execution_count": null,
   "id": "7efc1689-a576-427d-a481-e67541fb0329",
   "metadata": {
    "pycharm": {
     "name": "#%%\n"
    }
   },
   "outputs": [],
   "source": [
    "def binarize_ham(html):\n",
    "    soup = BeautifulSoup(html, 'html.parser')\n",
    "    tags = [tag for tag in soup.find_all('span') if tag.string is not None]\n",
    "    \n",
    "    tag_annot = [int('active' in t.get('class', [])) for t in tags]\n",
    "    tag_str = [str(t.string) for t in tags]\n",
    "    \n",
    "    ham = []\n",
    "    \n",
    "    for annot, splitted_tokens in zip(tag_annot, nlp.pipe(tag_str)):\n",
    "        annotation = [annot * int(not tk.is_punct) for tk in splitted_tokens]\n",
    "        ham += annotation\n",
    "    \n",
    "    return ham\n",
    "\n",
    "html = clean_df['ham_html_0']\n",
    "print(html[0])\n",
    "print(tokenize_ham(html[0]))"
   ]
  },
  {
   "cell_type": "code",
   "execution_count": null,
   "id": "6a068205-9890-40c3-892e-16fd77d2c554",
   "metadata": {
    "pycharm": {
     "name": "#%%\n"
    }
   },
   "outputs": [],
   "source": [
    "files = [fpath for fpath in os.listdir(dataset_path) if fpath.endswith('.csv') and 'part7' not in fpath]\n",
    "\n",
    "for fpath in tqdm(files, total=len(files)):\n",
    "        \n",
    "    df = pd.read_csv(path.join(dataset_path, fpath))\n",
    "\n",
    "    dfs = [df.loc[0::3, df.columns != 'Answer.html_output'].reset_index(drop=True)]\n",
    "    dfs += [df.loc[idx::3, ['Answer.html_output']].reset_index(drop=True).rename(columns={'Answer.html_output':'annotation_html_'}).add_suffix(str(idx)) for idx in range(3) ]\n",
    "    clean_df = pd.concat(dfs,axis=1).rename(columns={'Input.label': 'label', 'Input.text': 'text', 'Answer.Q1Answer':'human_label'})\n",
    "    clean_df = clean_df[['text', 'ham_html_0', 'ham_html_1', 'ham_html_2', 'label', 'human_label']]\n",
    "\n",
    "    clean_df['ham_tokens'] = clean_df['ham_html_0'].apply(binarize_ham)\n",
    "    clean_df['count_ham_tokens'] = clean_df['ham_tokens'].apply(lambda row: len(row))\n",
    "\n",
    "    clean_df['text_tokens'] = [[tk.text for tk in doc if not tk.is_space] for doc in nlp.pipe(clean_df['text'].tolist())]\n",
    "    clean_df['count_text_tokens'] = clean_df['text_tokens'].apply(lambda row: len(row))\n",
    "\n",
    "    is_every_row_ok = (clean_df['count_text_tokens'] == clean_df['count_ham_tokens']).all()\n",
    "    print(fpath, ': Same tokens between text and ham >', is_every_row_ok)"
   ]
  },
  {
   "cell_type": "markdown",
   "id": "f37284a6-44d4-4c46-a765-2ee421f48cfd",
   "metadata": {
    "pycharm": {
     "name": "#%% md\n"
    }
   },
   "source": [
    "## Check sentence length"
   ]
  },
  {
   "cell_type": "code",
   "execution_count": 30,
   "id": "76b9d553-01e7-49a1-8b7f-1ed61696d345",
   "metadata": {
    "pycharm": {
     "name": "#%%\n"
    }
   },
   "outputs": [
    {
     "data": {
      "application/vnd.jupyter.widget-view+json": {
       "model_id": "2a18de6908874463b30b42b5825df838",
       "version_major": 2,
       "version_minor": 0
      },
      "text/plain": [
       "  0%|          | 0/6 [00:00<?, ?it/s]"
      ]
     },
     "metadata": {},
     "output_type": "display_data"
    },
    {
     "data": {
      "text/html": [
       "<h3>ham_part5.csv</h3>"
      ],
      "text/plain": [
       "<IPython.core.display.HTML object>"
      ]
     },
     "metadata": {},
     "output_type": "display_data"
    },
    {
     "data": {
      "text/html": [
       "<div>\n",
       "<style scoped>\n",
       "    .dataframe tbody tr th:only-of-type {\n",
       "        vertical-align: middle;\n",
       "    }\n",
       "\n",
       "    .dataframe tbody tr th {\n",
       "        vertical-align: top;\n",
       "    }\n",
       "\n",
       "    .dataframe thead th {\n",
       "        text-align: right;\n",
       "    }\n",
       "</style>\n",
       "<table border=\"1\" class=\"dataframe\">\n",
       "  <thead>\n",
       "    <tr style=\"text-align: right;\">\n",
       "      <th></th>\n",
       "      <th>count</th>\n",
       "      <th>mean</th>\n",
       "      <th>std</th>\n",
       "      <th>min</th>\n",
       "      <th>25%</th>\n",
       "      <th>50%</th>\n",
       "      <th>75%</th>\n",
       "      <th>max</th>\n",
       "    </tr>\n",
       "  </thead>\n",
       "  <tbody>\n",
       "    <tr>\n",
       "      <th>label</th>\n",
       "      <td>1000.0</td>\n",
       "      <td>0.516</td>\n",
       "      <td>0.499994</td>\n",
       "      <td>0.0</td>\n",
       "      <td>0.0</td>\n",
       "      <td>1.0</td>\n",
       "      <td>1.0</td>\n",
       "      <td>1.0</td>\n",
       "    </tr>\n",
       "    <tr>\n",
       "      <th>text_length</th>\n",
       "      <td>1000.0</td>\n",
       "      <td>71.694</td>\n",
       "      <td>7.983865</td>\n",
       "      <td>55.0</td>\n",
       "      <td>66.0</td>\n",
       "      <td>71.0</td>\n",
       "      <td>78.0</td>\n",
       "      <td>97.0</td>\n",
       "    </tr>\n",
       "  </tbody>\n",
       "</table>\n",
       "</div>"
      ],
      "text/plain": [
       "              count    mean       std   min   25%   50%   75%   max\n",
       "label        1000.0   0.516  0.499994   0.0   0.0   1.0   1.0   1.0\n",
       "text_length  1000.0  71.694  7.983865  55.0  66.0  71.0  78.0  97.0"
      ]
     },
     "metadata": {},
     "output_type": "display_data"
    },
    {
     "data": {
      "text/html": [
       "<h3>ham_part8(200words).csv</h3>"
      ],
      "text/plain": [
       "<IPython.core.display.HTML object>"
      ]
     },
     "metadata": {},
     "output_type": "display_data"
    },
    {
     "data": {
      "text/html": [
       "<div>\n",
       "<style scoped>\n",
       "    .dataframe tbody tr th:only-of-type {\n",
       "        vertical-align: middle;\n",
       "    }\n",
       "\n",
       "    .dataframe tbody tr th {\n",
       "        vertical-align: top;\n",
       "    }\n",
       "\n",
       "    .dataframe thead th {\n",
       "        text-align: right;\n",
       "    }\n",
       "</style>\n",
       "<table border=\"1\" class=\"dataframe\">\n",
       "  <thead>\n",
       "    <tr style=\"text-align: right;\">\n",
       "      <th></th>\n",
       "      <th>count</th>\n",
       "      <th>mean</th>\n",
       "      <th>std</th>\n",
       "      <th>min</th>\n",
       "      <th>25%</th>\n",
       "      <th>50%</th>\n",
       "      <th>75%</th>\n",
       "      <th>max</th>\n",
       "    </tr>\n",
       "  </thead>\n",
       "  <tbody>\n",
       "    <tr>\n",
       "      <th>label</th>\n",
       "      <td>181.0</td>\n",
       "      <td>0.508287</td>\n",
       "      <td>0.501318</td>\n",
       "      <td>0.0</td>\n",
       "      <td>0.0</td>\n",
       "      <td>1.0</td>\n",
       "      <td>1.0</td>\n",
       "      <td>1.0</td>\n",
       "    </tr>\n",
       "    <tr>\n",
       "      <th>text_length</th>\n",
       "      <td>181.0</td>\n",
       "      <td>230.071823</td>\n",
       "      <td>8.317340</td>\n",
       "      <td>210.0</td>\n",
       "      <td>224.0</td>\n",
       "      <td>230.0</td>\n",
       "      <td>235.0</td>\n",
       "      <td>252.0</td>\n",
       "    </tr>\n",
       "  </tbody>\n",
       "</table>\n",
       "</div>"
      ],
      "text/plain": [
       "             count        mean       std    min    25%    50%    75%    max\n",
       "label        181.0    0.508287  0.501318    0.0    0.0    1.0    1.0    1.0\n",
       "text_length  181.0  230.071823  8.317340  210.0  224.0  230.0  235.0  252.0"
      ]
     },
     "metadata": {},
     "output_type": "display_data"
    },
    {
     "data": {
      "text/html": [
       "<h3>ham_part6(100words).csv</h3>"
      ],
      "text/plain": [
       "<IPython.core.display.HTML object>"
      ]
     },
     "metadata": {},
     "output_type": "display_data"
    },
    {
     "data": {
      "text/html": [
       "<div>\n",
       "<style scoped>\n",
       "    .dataframe tbody tr th:only-of-type {\n",
       "        vertical-align: middle;\n",
       "    }\n",
       "\n",
       "    .dataframe tbody tr th {\n",
       "        vertical-align: top;\n",
       "    }\n",
       "\n",
       "    .dataframe thead th {\n",
       "        text-align: right;\n",
       "    }\n",
       "</style>\n",
       "<table border=\"1\" class=\"dataframe\">\n",
       "  <thead>\n",
       "    <tr style=\"text-align: right;\">\n",
       "      <th></th>\n",
       "      <th>count</th>\n",
       "      <th>mean</th>\n",
       "      <th>std</th>\n",
       "      <th>min</th>\n",
       "      <th>25%</th>\n",
       "      <th>50%</th>\n",
       "      <th>75%</th>\n",
       "      <th>max</th>\n",
       "    </tr>\n",
       "  </thead>\n",
       "  <tbody>\n",
       "    <tr>\n",
       "      <th>label</th>\n",
       "      <td>438.0</td>\n",
       "      <td>0.513699</td>\n",
       "      <td>0.500384</td>\n",
       "      <td>0.0</td>\n",
       "      <td>0.0</td>\n",
       "      <td>1.0</td>\n",
       "      <td>1.0</td>\n",
       "      <td>1.0</td>\n",
       "    </tr>\n",
       "    <tr>\n",
       "      <th>text_length</th>\n",
       "      <td>438.0</td>\n",
       "      <td>115.276256</td>\n",
       "      <td>5.565827</td>\n",
       "      <td>101.0</td>\n",
       "      <td>112.0</td>\n",
       "      <td>114.0</td>\n",
       "      <td>118.0</td>\n",
       "      <td>144.0</td>\n",
       "    </tr>\n",
       "  </tbody>\n",
       "</table>\n",
       "</div>"
      ],
      "text/plain": [
       "             count        mean       std    min    25%    50%    75%    max\n",
       "label        438.0    0.513699  0.500384    0.0    0.0    1.0    1.0    1.0\n",
       "text_length  438.0  115.276256  5.565827  101.0  112.0  114.0  118.0  144.0"
      ]
     },
     "metadata": {},
     "output_type": "display_data"
    },
    {
     "data": {
      "text/html": [
       "<h3>ham_part4.csv</h3>"
      ],
      "text/plain": [
       "<IPython.core.display.HTML object>"
      ]
     },
     "metadata": {},
     "output_type": "display_data"
    },
    {
     "data": {
      "text/html": [
       "<div>\n",
       "<style scoped>\n",
       "    .dataframe tbody tr th:only-of-type {\n",
       "        vertical-align: middle;\n",
       "    }\n",
       "\n",
       "    .dataframe tbody tr th {\n",
       "        vertical-align: top;\n",
       "    }\n",
       "\n",
       "    .dataframe thead th {\n",
       "        text-align: right;\n",
       "    }\n",
       "</style>\n",
       "<table border=\"1\" class=\"dataframe\">\n",
       "  <thead>\n",
       "    <tr style=\"text-align: right;\">\n",
       "      <th></th>\n",
       "      <th>count</th>\n",
       "      <th>mean</th>\n",
       "      <th>std</th>\n",
       "      <th>min</th>\n",
       "      <th>25%</th>\n",
       "      <th>50%</th>\n",
       "      <th>75%</th>\n",
       "      <th>max</th>\n",
       "    </tr>\n",
       "  </thead>\n",
       "  <tbody>\n",
       "    <tr>\n",
       "      <th>label</th>\n",
       "      <td>1000.0</td>\n",
       "      <td>0.507</td>\n",
       "      <td>0.500201</td>\n",
       "      <td>0.0</td>\n",
       "      <td>0.0</td>\n",
       "      <td>1.0</td>\n",
       "      <td>1.0</td>\n",
       "      <td>1.0</td>\n",
       "    </tr>\n",
       "    <tr>\n",
       "      <th>text_length</th>\n",
       "      <td>1000.0</td>\n",
       "      <td>71.604</td>\n",
       "      <td>7.837641</td>\n",
       "      <td>55.0</td>\n",
       "      <td>65.0</td>\n",
       "      <td>71.0</td>\n",
       "      <td>78.0</td>\n",
       "      <td>101.0</td>\n",
       "    </tr>\n",
       "  </tbody>\n",
       "</table>\n",
       "</div>"
      ],
      "text/plain": [
       "              count    mean       std   min   25%   50%   75%    max\n",
       "label        1000.0   0.507  0.500201   0.0   0.0   1.0   1.0    1.0\n",
       "text_length  1000.0  71.604  7.837641  55.0  65.0  71.0  78.0  101.0"
      ]
     },
     "metadata": {},
     "output_type": "display_data"
    },
    {
     "data": {
      "text/html": [
       "<h3>ham_part3.csv</h3>"
      ],
      "text/plain": [
       "<IPython.core.display.HTML object>"
      ]
     },
     "metadata": {},
     "output_type": "display_data"
    },
    {
     "data": {
      "text/html": [
       "<div>\n",
       "<style scoped>\n",
       "    .dataframe tbody tr th:only-of-type {\n",
       "        vertical-align: middle;\n",
       "    }\n",
       "\n",
       "    .dataframe tbody tr th {\n",
       "        vertical-align: top;\n",
       "    }\n",
       "\n",
       "    .dataframe thead th {\n",
       "        text-align: right;\n",
       "    }\n",
       "</style>\n",
       "<table border=\"1\" class=\"dataframe\">\n",
       "  <thead>\n",
       "    <tr style=\"text-align: right;\">\n",
       "      <th></th>\n",
       "      <th>count</th>\n",
       "      <th>mean</th>\n",
       "      <th>std</th>\n",
       "      <th>min</th>\n",
       "      <th>25%</th>\n",
       "      <th>50%</th>\n",
       "      <th>75%</th>\n",
       "      <th>max</th>\n",
       "    </tr>\n",
       "  </thead>\n",
       "  <tbody>\n",
       "    <tr>\n",
       "      <th>label</th>\n",
       "      <td>1000.0</td>\n",
       "      <td>0.497</td>\n",
       "      <td>0.500241</td>\n",
       "      <td>0.0</td>\n",
       "      <td>0.0</td>\n",
       "      <td>0.0</td>\n",
       "      <td>1.0</td>\n",
       "      <td>1.0</td>\n",
       "    </tr>\n",
       "    <tr>\n",
       "      <th>text_length</th>\n",
       "      <td>1000.0</td>\n",
       "      <td>71.958</td>\n",
       "      <td>8.178944</td>\n",
       "      <td>53.0</td>\n",
       "      <td>65.0</td>\n",
       "      <td>72.0</td>\n",
       "      <td>78.0</td>\n",
       "      <td>107.0</td>\n",
       "    </tr>\n",
       "  </tbody>\n",
       "</table>\n",
       "</div>"
      ],
      "text/plain": [
       "              count    mean       std   min   25%   50%   75%    max\n",
       "label        1000.0   0.497  0.500241   0.0   0.0   0.0   1.0    1.0\n",
       "text_length  1000.0  71.958  8.178944  53.0  65.0  72.0  78.0  107.0"
      ]
     },
     "metadata": {},
     "output_type": "display_data"
    },
    {
     "data": {
      "text/html": [
       "<h3>ham_part1(50words).csv</h3>"
      ],
      "text/plain": [
       "<IPython.core.display.HTML object>"
      ]
     },
     "metadata": {},
     "output_type": "display_data"
    },
    {
     "data": {
      "text/html": [
       "<div>\n",
       "<style scoped>\n",
       "    .dataframe tbody tr th:only-of-type {\n",
       "        vertical-align: middle;\n",
       "    }\n",
       "\n",
       "    .dataframe tbody tr th {\n",
       "        vertical-align: top;\n",
       "    }\n",
       "\n",
       "    .dataframe thead th {\n",
       "        text-align: right;\n",
       "    }\n",
       "</style>\n",
       "<table border=\"1\" class=\"dataframe\">\n",
       "  <thead>\n",
       "    <tr style=\"text-align: right;\">\n",
       "      <th></th>\n",
       "      <th>count</th>\n",
       "      <th>mean</th>\n",
       "      <th>std</th>\n",
       "      <th>min</th>\n",
       "      <th>25%</th>\n",
       "      <th>50%</th>\n",
       "      <th>75%</th>\n",
       "      <th>max</th>\n",
       "    </tr>\n",
       "  </thead>\n",
       "  <tbody>\n",
       "    <tr>\n",
       "      <th>label</th>\n",
       "      <td>300.0</td>\n",
       "      <td>0.483333</td>\n",
       "      <td>0.500557</td>\n",
       "      <td>0.0</td>\n",
       "      <td>0.0</td>\n",
       "      <td>0.0</td>\n",
       "      <td>1.0</td>\n",
       "      <td>1.0</td>\n",
       "    </tr>\n",
       "    <tr>\n",
       "      <th>text_length</th>\n",
       "      <td>300.0</td>\n",
       "      <td>58.006667</td>\n",
       "      <td>3.009454</td>\n",
       "      <td>50.0</td>\n",
       "      <td>56.0</td>\n",
       "      <td>57.0</td>\n",
       "      <td>60.0</td>\n",
       "      <td>72.0</td>\n",
       "    </tr>\n",
       "  </tbody>\n",
       "</table>\n",
       "</div>"
      ],
      "text/plain": [
       "             count       mean       std   min   25%   50%   75%   max\n",
       "label        300.0   0.483333  0.500557   0.0   0.0   0.0   1.0   1.0\n",
       "text_length  300.0  58.006667  3.009454  50.0  56.0  57.0  60.0  72.0"
      ]
     },
     "metadata": {},
     "output_type": "display_data"
    }
   ],
   "source": [
    "for fpath in tqdm(files, total=len(files)):\n",
    "        \n",
    "    df = pd.read_csv(path.join(dataset_path, fpath))\n",
    "    display(HTML(f'<h3>{fpath}</h3>'))\n",
    "    dfs = [df.loc[0::3, df.columns != 'Answer.html_output'].reset_index(drop=True)]\n",
    "    dfs += [df.loc[idx::3, ['Answer.html_output']].reset_index(drop=True).rename(columns={'Answer.html_output':'ham_html_'}).add_suffix(str(idx)) for idx in range(3) ]\n",
    "    clean_df = pd.concat(dfs,axis=1).rename(columns={'Input.label': 'label', 'Input.text': 'text', 'Answer.Q1Answer':'human_label'})\n",
    "    clean_df = clean_df[['text', 'ham_html_0', 'ham_html_1', 'ham_html_2', 'label', 'human_label']]\n",
    "    clean_df['text_tokens'] = [[tk.text for tk in doc if not tk.is_space] for doc in nlp.pipe(clean_df['text'].tolist())]\n",
    "    \n",
    "    clean_df['text_length'] = clean_df.text_tokens.str.len()\n",
    "    display(clean_df.describe().transpose())"
   ]
  },
  {
   "cell_type": "markdown",
   "id": "e8937c06-84db-443f-9e13-a37bcf249a12",
   "metadata": {
    "pycharm": {
     "name": "#%% md\n"
    }
   },
   "source": [
    "## Test dataset"
   ]
  },
  {
   "cell_type": "code",
   "execution_count": 9,
   "id": "cdd404f7-0f17-4dc2-a082-31be562f11c7",
   "metadata": {
    "pycharm": {
     "name": "#%%\n"
    }
   },
   "outputs": [],
   "source": [
    "from data_module.yelp_hat import YelpHatDM\n",
    "dm = YelpHatDM(cache_path=path.join(cache_path, 'dataset'), batch_size=4)"
   ]
  },
  {
   "cell_type": "code",
   "execution_count": 18,
   "id": "b7775f39-d526-4dd0-9865-8ab4eb499d0d",
   "metadata": {
    "pycharm": {
     "name": "#%%\n"
    }
   },
   "outputs": [],
   "source": [
    "dm.prepare_data()\n",
    "dm.setup()\n",
    "dataloader = dm.train_dataloader()"
   ]
  },
  {
   "cell_type": "code",
   "execution_count": 21,
   "id": "3595b84c-649c-4cdb-baaa-6bf9aace0acc",
   "metadata": {
    "pycharm": {
     "name": "#%%\n"
    }
   },
   "outputs": [
    {
     "data": {
      "text/plain": [
       "['i be there for lunch last wednedsay base on all the review . i be craving pasta , and that be the only thing i order . their home make spicy pasta sauce be ok . probably because of lunch time , there be no one except for we ( 12:00 till 1:00 ) for the price of the pasta , the quality of the pasta be just a little well than il fornello but for a little bit more .',\n",
       " \"brother 's have always be an excellent place for a donair . it be worth my drive from the ne . the sweet sauce be about as close as i can get to the halifax donair . however , it be close now due to the southwest ctrain route construction . there be a sign on the door say it be close until the owner can find a new location . i sure do hope they can relocate . <pad> <pad>\",\n",
       " 'the all you can eat option be quite good . however , the woman in charge ( manager perhaps ) come and tell we last round for order just before an hour and twenty minute into the meal . also , she keep glare at we the entire time , as though we be eat too much ( 6 guy ) ; rather disrespectful . <pad> <pad> <pad> <pad> <pad> <pad> <pad> <pad> <pad> <pad> <pad> <pad> <pad> <pad> <pad> <pad>',\n",
       " 'attend the pre grand open saturday night here and everything be pretty decent . from the food , the service , to the decor for the place , everything be handle very well . as this be the pre opening , i will update this review at a later time to give a more accurate review on food and service . cheer ! <pad> <pad> <pad> <pad> <pad> <pad> <pad> <pad> <pad> <pad> <pad> <pad> <pad> <pad> <pad> <pad> <pad> <pad>']"
      ]
     },
     "execution_count": 21,
     "metadata": {},
     "output_type": "execute_result"
    }
   ],
   "source": [
    "b = next(iter(dataloader))\n",
    "tokens = [dm.vocab.lookup_tokens(token_ids.tolist()) for token_ids in b['token_ids']]\n",
    "[' '.join(tk) for tk in tokens]"
   ]
  },
  {
   "cell_type": "code",
   "execution_count": 23,
   "id": "f2686959-d441-49af-a831-5cea5cc67638",
   "metadata": {
    "pycharm": {
     "name": "#%%\n"
    }
   },
   "outputs": [
    {
     "data": {
      "text/plain": [
       "['The all you can eat option is quite good. However, the woman in charge (manager perhaps) came and told us last rounds for orders just before an hour and twenty minutes into the meal. Also, she kept glaring at us the entire time, as though we were eating too much (6 guys); rather disrespectful.',\n",
       " \"Can't give this place any stars. The people that gave this place any stars have probably never been to a nice stip club. This place was dirty! Downstairs felt like a third world country brothel and upstairs was just way too much going on.  Tons of strippers on the floor which wouldn't be bad if this joint strived for quality and not quantity.\",\n",
       " \"This place had been around for a really long time, I was kind of disappointed when they brought the food out to the table, it didn't look that good and the taste just wasn't there, all in all I wasn't that happy with everything (service, food, price). With so many places in newmarket to choose from, I won't be going back there again\",\n",
       " 'Staff is totally incompetent. Claimed they tried to call to confirm the order before making it yet they send you a confirmation of your order. Ordered online and they claim this was the policy which they made up to cover their ass for their incompetence. \\n\\nThe lady was extremely rude to us on the phone and offered no apology. Would avoid this place like the plague.',\n",
       " \"Devin, Owner of Calistro California Bistro, \\n\\nIf you're still cooking away, why don't you take note of the troubling feedback from the other disappointed patrons?  I love how you only respond to one reviewer and lucky for me, I just so happen to get the pleasure of hearing your disrespectful and abusive attitude. Wow, some people and places never change...\"]"
      ]
     },
     "execution_count": 23,
     "metadata": {},
     "output_type": "execute_result"
    }
   ],
   "source": [
    "dm.train_set.data.loc[:4, 'text'].tolist()"
   ]
  },
  {
   "cell_type": "markdown",
   "id": "8ba972ac-979d-4597-ae7b-5d700354b209",
   "metadata": {
    "pycharm": {
     "name": "#%% md\n"
    }
   },
   "source": [
    "## Choice for vocabulary"
   ]
  },
  {
   "cell_type": "code",
   "execution_count": 27,
   "id": "8c5a7399-debf-4204-86b6-ca396a518092",
   "metadata": {
    "pycharm": {
     "name": "#%%\n"
    }
   },
   "outputs": [
    {
     "name": "stdout",
     "output_type": "stream",
     "text": [
      "Length vocab in original form: 1018\n"
     ]
    },
    {
     "data": {
      "application/vnd.jupyter.widget-view+json": {
       "model_id": "bd542e934cba41e6a34b7879ce4d7841",
       "version_major": 2,
       "version_minor": 0
      },
      "text/plain": [
       "Building vocabulary:   0%|          | 0/8 [00:00<?, ?sents/s]"
      ]
     },
     "metadata": {},
     "output_type": "display_data"
    },
    {
     "name": "stdout",
     "output_type": "stream",
     "text": [
      "Length for lower vocab: 1018\n",
      "Length for lower lemma vocab: 54\n"
     ]
    }
   ],
   "source": [
    "from tqdm.notebook import tqdm\n",
    "import sys\n",
    "import spacy\n",
    "from torchtext.vocab import build_vocab_from_iterator\n",
    "\n",
    "# Original\n",
    "print('Length vocab in original form:',len(dm.vocab))\n",
    "\n",
    "# Lower\n",
    "PAD_TOK = '<pad>'\n",
    "UNK_TOK = '<unk>'\n",
    "\n",
    "dp = dm.train_set.batch(8).map(lambda batch: {k: [row[k] for row in batch] for k in batch[0]}).map(lambda batch: [token.lower() for sentence in batch['text_tokens'] for token in sentence])\n",
    "iter_tokens = tqdm(iter(dp), desc='Building vocabulary', total=len(dp), unit='sents', file=sys.stdout)\n",
    "lower_vocab = build_vocab_from_iterator(iterator=iter_tokens, specials=[PAD_TOK, UNK_TOK])\n",
    "\n",
    "print('Length for lower vocab:',len(lower_vocab))\n",
    "\n",
    "# Lower lemma\n",
    "nlp = spacy.load('en_core_web_sm')\n",
    "tokens = [tk for doc in dm.train_set.data['text_tokens'] for tk in doc]\n",
    "doc = spacy.tokens.Doc(nlp.vocab, words=tokens)\n",
    "lemmatized = [tk.lemma_ for tk in nlp(doc)]\n",
    "lemma_vocab = build_vocab_from_iterator(iterator=lemmatized, specials=[PAD_TOK, UNK_TOK])\n",
    "print('Length for lower lemma vocab:',len(lemma_vocab))"
   ]
  },
  {
   "cell_type": "code",
   "execution_count": null,
   "id": "14e69f2a-4e98-4b11-a1b9-85fafc977fb4",
   "metadata": {
    "pycharm": {
     "name": "#%%\n"
    }
   },
   "outputs": [],
   "source": []
  },
  {
   "cell_type": "markdown",
   "id": "27126873-1c30-4ef5-9f90-92a943756d71",
   "metadata": {
    "pycharm": {
     "name": "#%% md\n"
    }
   },
   "source": [
    "## Find words statistics for class prediction"
   ]
  },
  {
   "cell_type": "code",
   "execution_count": 17,
   "id": "ca49886f-2057-4713-9d55-3db2e766d530",
   "metadata": {
    "pycharm": {
     "name": "#%%\n"
    }
   },
   "outputs": [
    {
     "data": {
      "application/vnd.jupyter.widget-view+json": {
       "model_id": "06c0af8a2c9845cbb3af55bedd8c56ef",
       "version_major": 2,
       "version_minor": 0
      },
      "text/plain": [
       "yelp:   0%|          | 0/253152 [00:00<?, ?it/s]"
      ]
     },
     "metadata": {},
     "output_type": "display_data"
    },
    {
     "data": {
      "application/vnd.jupyter.widget-view+json": {
       "model_id": "75f38a17af434d2bbaae3d6fe5f7c41a",
       "version_major": 2,
       "version_minor": 0
      },
      "text/plain": [
       "yelp50:   0%|          | 0/17702 [00:00<?, ?it/s]"
      ]
     },
     "metadata": {},
     "output_type": "display_data"
    },
    {
     "name": "stderr",
     "output_type": "stream",
     "text": [
      "WARNING:console_:Drop 1 samples because HAMs are not compatibles\n"
     ]
    },
    {
     "data": {
      "application/vnd.jupyter.widget-view+json": {
       "model_id": "75dc5ee9770e47f78cd3c4d2f1764422",
       "version_major": 2,
       "version_minor": 0
      },
      "text/plain": [
       "yelp100:   0%|          | 0/50788 [00:00<?, ?it/s]"
      ]
     },
     "metadata": {},
     "output_type": "display_data"
    },
    {
     "name": "stderr",
     "output_type": "stream",
     "text": [
      "WARNING:console_:Drop 2 samples because HAMs are not compatibles\n"
     ]
    },
    {
     "data": {
      "application/vnd.jupyter.widget-view+json": {
       "model_id": "a3d0147798154618941b390deef51529",
       "version_major": 2,
       "version_minor": 0
      },
      "text/plain": [
       "yelp200:   0%|          | 0/41352 [00:00<?, ?it/s]"
      ]
     },
     "metadata": {},
     "output_type": "display_data"
    },
    {
     "data": {
      "image/png": "[encoded data removed]",
      "text/plain": [
       "<Figure size 432x288 with 4 Axes>"
      ]
     },
     "metadata": {
      "needs_background": "light"
     },
     "output_type": "display_data"
    }
   ],
   "source": [
    "from data.yelp_hat.spacy_pretok_dataset import SpacyPretokenizeYelpHat\n",
    "from tqdm.notebook import tqdm\n",
    "import spacy\n",
    "from spacy.tokens import Doc\n",
    "\n",
    "cnt = dict()\n",
    "SPLIT = ['yelp', 'yelp50', 'yelp100', 'yelp200']\n",
    "\n",
    "spacy_model = spacy.load('en_core_web_sm')\n",
    "\n",
    "for split in SPLIT:\n",
    "    \n",
    "    # Load dataset\n",
    "    dataset = SpacyPretokenizeYelpHat(root=dataset_path, split=split, spacy_model=spacy_model, lemma=True, lower=True)\n",
    "    tokens = dataset.data['text_tokens']\n",
    "    rationale = dataset.data['ham']\n",
    "\n",
    "    # Add punctuation to separate sentences\n",
    "    for i in range(len(tokens)):\n",
    "        tokens[i].append('.')\n",
    "        rationale[i].append(0)\n",
    "\n",
    "    flatten_token = [tk for sent in tokens for tk in sent]\n",
    "    flatten_rationale = [r for sent in rationale for r in sent]\n",
    "\n",
    "    nlp = spacy.load('en_core_web_sm')\n",
    "    doc = Doc(nlp.vocab, words=flatten_token)\n",
    "    pos = [tk.pos_ for tk in nlp(doc)]\n",
    "    \n",
    "    # Start counting\n",
    "    cnt_pos = dict()\n",
    "    cnt_tok = dict()\n",
    "    cnt_pos_total = dict()\n",
    "    cnt_tok_total = dict()\n",
    "    \n",
    "    for p, r, t in tqdm(zip(pos, flatten_rationale, flatten_token), total=len(flatten_rationale), desc=split):\n",
    "    \n",
    "        cnt_pos_total[p] = cnt_pos_total.get(p, 0) +1\n",
    "        cnt_tok_total[t] = cnt_tok_total.get(t, 0) +1\n",
    "\n",
    "        if r > 0:\n",
    "            cnt_pos[p] = cnt_pos.get(p, 0) + 1\n",
    "            cnt_tok[t] = cnt_tok.get(t, 0) + 1\n",
    "            \n",
    "    cnt[split] = {\n",
    "        'pos' : cnt_pos,\n",
    "        'tok' : cnt_tok,\n",
    "        'pos_total': cnt_pos_total,\n",
    "        'tok_total': cnt_tok_total\n",
    "    }\n",
    "    \n",
    "import matplotlib.pyplot as plt\n",
    "\n",
    "plt.rcParams[\"figure.figsize\"] = (10*len(SPLIT),10)\n",
    "\n",
    "fig, axes = plt.subplots(1, len(SPLIT), sharey=True)\n",
    "fig.suptitle('POS tag in annotation - Yelp HAT', fontsize='xx-large', fontweight='black')\n",
    "\n",
    "for ax, pos_freq, split in zip(axes, cnt.values(), cnt.keys()):\n",
    "    \n",
    "    cnt_pos_total = pos_freq['pos_total']\n",
    "    cnt_pos = pos_freq['pos']\n",
    "\n",
    "    ax.barh(width=cnt_pos_total.values(), y=list(cnt_pos_total.keys()))\n",
    "    ax.barh(width=cnt_pos.values(), y=list(cnt_pos.keys()))\n",
    "\n",
    "    ax.invert_yaxis()\n",
    "\n",
    "    ax.set_xlabel('Frequency')\n",
    "    ax.set_title(split)\n",
    "\n",
    "plt.savefig(path.join(tmp_path, 'posfreq_yelphat'), dpi=600)\n",
    "\n"
   ]
  },
  {
   "cell_type": "code",
   "execution_count": 26,
   "id": "427c92be-9b69-4c7c-b85a-6ccfa9a5a021",
   "metadata": {
    "pycharm": {
     "name": "#%%\n"
    }
   },
   "outputs": [
    {
     "data": {
      "image/png": "[encoded data removed]",
      "text/plain": [
       "<Figure size 1440x720 with 4 Axes>"
      ]
     },
     "metadata": {
      "needs_background": "light"
     },
     "output_type": "display_data"
    }
   ],
   "source": [
    "import matplotlib.pyplot as plt\n",
    "\n",
    "plt.rcParams[\"figure.figsize\"] = (20,10)\n",
    "\n",
    "fig, axes = plt.subplots(2, 2, sharey=True)\n",
    "fig.suptitle('POS tag in annotation - Yelp HAT', fontsize='xx-large', fontweight='black')\n",
    "\n",
    "for ax, pos_freq, split in zip(axes.flatten(), cnt.values(), cnt.keys()):\n",
    "    \n",
    "    cnt_pos_total = pos_freq['pos_total']\n",
    "    cnt_pos = pos_freq['pos']\n",
    "\n",
    "    ax.barh(width=cnt_pos_total.values(), y=list(cnt_pos_total.keys()))\n",
    "    ax.barh(width=cnt_pos.values(), y=list(cnt_pos.keys()))\n",
    "\n",
    "    ax.invert_yaxis()\n",
    "\n",
    "    ax.set_xlabel('Frequency')\n",
    "    ax.set_title(split)\n",
    "\n",
    "plt.savefig(path.join(tmp_path, 'posfreq_yelphat'), dpi=600)"
   ]
  },
  {
   "cell_type": "code",
   "execution_count": 27,
   "id": "813c8e54-f752-40f2-805f-7b760cb14f1f",
   "metadata": {
    "pycharm": {
     "name": "#%%\n"
    }
   },
   "outputs": [
    {
     "data": {
      "text/plain": [
       "0.6202916160388822"
      ]
     },
     "execution_count": 27,
     "metadata": {},
     "output_type": "execute_result"
    }
   ],
   "source": [
    "(cnt_pos['VERB'] + cnt_pos['NOUN'] + cnt_pos['ADJ']) / sum(cnt_pos.values())"
   ]
  },
  {
   "cell_type": "markdown",
   "id": "38292870-9c78-4961-8439-df6cc3665b04",
   "metadata": {
    "pycharm": {
     "name": "#%% md\n"
    }
   },
   "source": [
    "## Making of heuristic"
   ]
  },
  {
   "cell_type": "code",
   "execution_count": 17,
   "id": "58f14484-c471-443c-a411-2d886b39daad",
   "metadata": {
    "pycharm": {
     "name": "#%%\n"
    }
   },
   "outputs": [
    {
     "data": {
      "text/html": [
       "<span style=\"background-color:rgba(135,206,250,0.0);\">out</span> <span style=\"background-color:rgba(135,206,250,0.0);\">in</span> <span style=\"background-color:rgba(135,206,250,0.0);\">twinsburg</span> <span style=\"background-color:rgba(135,206,250,0.0);\">for</span> <span style=\"background-color:rgba(135,206,250,0.014880952658131719);\">work</span> <span style=\"background-color:rgba(135,206,250,0.0);\">and</span> <span style=\"background-color:rgba(135,206,250,0.0);\">be</span> <span style=\"background-color:rgba(135,206,250,0.0);\">not</span> <span style=\"background-color:rgba(135,206,250,0.029761905316263437);\">expect</span> <span style=\"background-color:rgba(135,206,250,0.0);\">to</span> <span style=\"background-color:rgba(135,206,250,0.029761905316263437);\">find</span> <span style=\"background-color:rgba(135,206,250,0.0);\">a</span> <span style=\"background-color:rgba(135,206,250,0.0);\">well</span> <span style=\"background-color:rgba(135,206,250,0.0);\">review</span> <span style=\"background-color:rgba(135,206,250,0.044642859138548374);\">sushi</span> <span style=\"background-color:rgba(135,206,250,0.10416666977107525);\">restaurant</span> <span style=\"background-color:rgba(135,206,250,0.0);\">but</span> <span style=\"background-color:rgba(135,206,250,0.0);\">glad</span> <span style=\"background-color:rgba(135,206,250,0.0);\">i</span> <span style=\"background-color:rgba(135,206,250,0.0);\">do</span> <span style=\"background-color:rgba(135,206,250,0.0);\">.</span> <span style=\"background-color:rgba(135,206,250,0.0);\">it</span> <span style=\"background-color:rgba(135,206,250,0.0);\">be</span> <span style=\"background-color:rgba(135,206,250,0.0);\">quite</span> <span style=\"background-color:rgba(135,206,250,0.044642859138548374);\">busy</span> <span style=\"background-color:rgba(135,206,250,0.0);\">for</span> <span style=\"background-color:rgba(135,206,250,0.0);\">a</span> <span style=\"background-color:rgba(135,206,250,0.0);\">monday</span> <span style=\"background-color:rgba(135,206,250,0.0);\">and</span> <span style=\"background-color:rgba(135,206,250,0.0);\">the</span> <span style=\"background-color:rgba(135,206,250,0.163690485060215);\">poor</span> <span style=\"background-color:rgba(135,206,250,0.059523810632526875);\">waitress</span> <span style=\"background-color:rgba(135,206,250,0.0);\">be</span> <span style=\"background-color:rgba(135,206,250,0.0);\">slam</span> <span style=\"background-color:rgba(135,206,250,0.0);\">but</span> <span style=\"background-color:rgba(135,206,250,0.0);\">the</span> <span style=\"background-color:rgba(135,206,250,0.044642859138548374);\">sushi</span> <span style=\"background-color:rgba(135,206,250,0.014880952658131719);\">chef</span> <span style=\"background-color:rgba(135,206,250,0.0);\">step</span> <span style=\"background-color:rgba(135,206,250,0.0);\">in</span> <span style=\"background-color:rgba(135,206,250,0.0);\">to</span> <span style=\"background-color:rgba(135,206,250,0.0);\">help</span> <span style=\"background-color:rgba(135,206,250,0.0);\">and</span> <span style=\"background-color:rgba(135,206,250,0.0);\">be</span> <span style=\"background-color:rgba(135,206,250,0.0);\">very</span> <span style=\"background-color:rgba(135,206,250,0.416666679084301);\">friendly</span> <span style=\"background-color:rgba(135,206,250,0.0);\">.</span> <span style=\"background-color:rgba(135,206,250,0.0);\">the</span> <span style=\"background-color:rgba(135,206,250,0.029761905316263437);\">presentation</span> <span style=\"background-color:rgba(135,206,250,0.0);\">and</span> <span style=\"background-color:rgba(135,206,250,0.1785714365541935);\">flavor</span> <span style=\"background-color:rgba(135,206,250,0.0);\">be</span> <span style=\"background-color:rgba(135,206,250,1.25);\">great</span> <span style=\"background-color:rgba(135,206,250,0.0);\">.</span> "
      ],
      "text/plain": [
       "<IPython.core.display.HTML object>"
      ]
     },
     "metadata": {},
     "output_type": "display_data"
    },
    {
     "data": {
      "text/html": [
       "<span style=\"background-color:rgba(135,206,250,0.0);\">very</span> <span style=\"background-color:rgba(135,206,250,0.25641025975346565);\">slow</span> <span style=\"background-color:rgba(135,206,250,0.0);\">.</span> <span style=\"background-color:rgba(135,206,250,0.0);\">never</span> <span style=\"background-color:rgba(135,206,250,0.0);\">be</span> <span style=\"background-color:rgba(135,206,250,0.0);\">in</span> <span style=\"background-color:rgba(135,206,250,0.0);\">the</span> <span style=\"background-color:rgba(135,206,250,0.09615384973585606);\">drive</span> <span style=\"background-color:rgba(135,206,250,0.0);\">at</span> <span style=\"background-color:rgba(135,206,250,0.0);\">any</span> <span style=\"background-color:rgba(135,206,250,0.0);\">other</span> <span style=\"background-color:rgba(135,206,250,1.25);\">place</span> <span style=\"background-color:rgba(135,206,250,0.2884615398943424);\">long</span> <span style=\"background-color:rgba(135,206,250,0.0);\">then</span> <span style=\"background-color:rgba(135,206,250,0.0);\">i</span> <span style=\"background-color:rgba(135,206,250,0.0);\">do</span> <span style=\"background-color:rgba(135,206,250,0.0);\">at</span> <span style=\"background-color:rgba(135,206,250,0.0);\">kneader</span> <span style=\"background-color:rgba(135,206,250,0.0);\">'s</span> <span style=\"background-color:rgba(135,206,250,0.0);\">.</span> <span style=\"background-color:rgba(135,206,250,0.0);\">i</span> <span style=\"background-color:rgba(135,206,250,0.0);\">do</span> <span style=\"background-color:rgba(135,206,250,0.0);\">not</span> <span style=\"background-color:rgba(135,206,250,0.03205128246918321);\">know</span> <span style=\"background-color:rgba(135,206,250,0.0);\">what</span> <span style=\"background-color:rgba(135,206,250,0.0);\">they</span> <span style=\"background-color:rgba(135,206,250,0.0);\">be</span> <span style=\"background-color:rgba(135,206,250,0.0);\">do</span> <span style=\"background-color:rgba(135,206,250,0.0);\">different</span> <span style=\"background-color:rgba(135,206,250,0.0);\">but</span> <span style=\"background-color:rgba(135,206,250,0.06410256493836641);\">20</span> <span style=\"background-color:rgba(135,206,250,0.16025640070438385);\">min</span> <span style=\"background-color:rgba(135,206,250,0.0);\">minimum</span> <span style=\"background-color:rgba(135,206,250,0.06410256493836641);\">sit</span> <span style=\"background-color:rgba(135,206,250,0.0);\">in</span> <span style=\"background-color:rgba(135,206,250,0.0);\">a</span> <span style=\"background-color:rgba(135,206,250,0.09615384973585606);\">drive</span> <span style=\"background-color:rgba(135,206,250,0.0);\">through</span> <span style=\"background-color:rgba(135,206,250,0.0);\">for</span> <span style=\"background-color:rgba(135,206,250,0.0);\">a</span> <span style=\"background-color:rgba(135,206,250,0.12820512987673283);\">sandwich</span> <span style=\"background-color:rgba(135,206,250,0.0);\">be</span> <span style=\"background-color:rgba(135,206,250,0.12820512987673283);\">ridiculous</span> <span style=\"background-color:rgba(135,206,250,0.0);\">.</span> <span style=\"background-color:rgba(135,206,250,0.0);\">and</span> <span style=\"background-color:rgba(135,206,250,0.0);\">it</span> <span style=\"background-color:rgba(135,206,250,0.0);\">be</span> <span style=\"background-color:rgba(135,206,250,0.0);\">not</span> <span style=\"background-color:rgba(135,206,250,0.0);\">just</span> <span style=\"background-color:rgba(135,206,250,0.0);\">this</span> <span style=\"background-color:rgba(135,206,250,0.09615384973585606);\">location</span> <span style=\"background-color:rgba(135,206,250,0.0);\">.</span> <span style=\"background-color:rgba(135,206,250,0.0);\">every</span> <span style=\"background-color:rgba(135,206,250,0.0);\">.</span> <span style=\"background-color:rgba(135,206,250,0.0);\">single</span> <span style=\"background-color:rgba(135,206,250,0.0);\">.</span> <span style=\"background-color:rgba(135,206,250,0.0);\">one</span> <span style=\"background-color:rgba(135,206,250,0.0);\">.</span> <span style=\"background-color:rgba(135,206,250,0.0);\">be</span> <span style=\"background-color:rgba(135,206,250,0.25641025975346565);\">slow</span> <span style=\"background-color:rgba(135,206,250,0.0);\">!</span> <span style=\"background-color:rgba(135,206,250,0.0);\">!</span> <span style=\"background-color:rgba(135,206,250,0.0);\">!</span> "
      ],
      "text/plain": [
       "<IPython.core.display.HTML object>"
      ]
     },
     "metadata": {},
     "output_type": "display_data"
    },
    {
     "data": {
      "text/html": [
       "<span style=\"background-color:rgba(135,206,250,1.219879537820816);\">food</span> <span style=\"background-color:rgba(135,206,250,0.0);\">be</span> <span style=\"background-color:rgba(135,206,250,1.25);\">good</span> <span style=\"background-color:rgba(135,206,250,0.0);\">,</span> <span style=\"background-color:rgba(135,206,250,0.0);\">but</span> <span style=\"background-color:rgba(135,206,250,1.0542168468236923);\">service</span> <span style=\"background-color:rgba(135,206,250,0.12048193253576756);\">terrible</span> <span style=\"background-color:rgba(135,206,250,0.0);\">.</span> <span style=\"background-color:rgba(135,206,250,0.0);\">they</span> <span style=\"background-color:rgba(135,206,250,0.0);\">have</span> <span style=\"background-color:rgba(135,206,250,0.0);\">i</span> <span style=\"background-color:rgba(135,206,250,0.0);\">a</span> <span style=\"background-color:rgba(135,206,250,0.0);\">to</span> <span style=\"background-color:rgba(135,206,250,0.0);\">go</span> <span style=\"background-color:rgba(135,206,250,0.0);\">box</span> <span style=\"background-color:rgba(135,206,250,0.0);\">when</span> <span style=\"background-color:rgba(135,206,250,0.0);\">i</span> <span style=\"background-color:rgba(135,206,250,0.0);\">be</span> <span style=\"background-color:rgba(135,206,250,0.150602413341403);\">eat</span> <span style=\"background-color:rgba(135,206,250,0.0);\">in</span> <span style=\"background-color:rgba(135,206,250,0.0);\">.</span> <span style=\"background-color:rgba(135,206,250,0.0);\">do</span> <span style=\"background-color:rgba(135,206,250,0.0);\">not</span> <span style=\"background-color:rgba(135,206,250,0.0);\">get</span> <span style=\"background-color:rgba(135,206,250,0.0);\">my</span> <span style=\"background-color:rgba(135,206,250,0.015060241566970944);\">cup</span> <span style=\"background-color:rgba(135,206,250,0.0);\">until</span> <span style=\"background-color:rgba(135,206,250,0.0);\">after</span> <span style=\"background-color:rgba(135,206,250,0.0);\">the</span> <span style=\"background-color:rgba(135,206,250,0.0);\">fact</span> <span style=\"background-color:rgba(135,206,250,0.0);\">.</span> <span style=\"background-color:rgba(135,206,250,0.0);\">i</span> <span style=\"background-color:rgba(135,206,250,0.0);\">have</span> <span style=\"background-color:rgba(135,206,250,0.0);\">to</span> <span style=\"background-color:rgba(135,206,250,0.0);\">talk</span> <span style=\"background-color:rgba(135,206,250,0.0);\">to</span> <span style=\"background-color:rgba(135,206,250,0.0);\">someone</span> <span style=\"background-color:rgba(135,206,250,0.0);\">else</span> <span style=\"background-color:rgba(135,206,250,0.0);\">for</span> <span style=\"background-color:rgba(135,206,250,0.0);\">it</span> <span style=\"background-color:rgba(135,206,250,0.58734942227602);\">place</span> <span style=\"background-color:rgba(135,206,250,0.0);\">not</span> <span style=\"background-color:rgba(135,206,250,0.09036144241690636);\">clean</span> <span style=\"background-color:rgba(135,206,250,0.0);\">,</span> <span style=\"background-color:rgba(135,206,250,0.0);\">at</span> <span style=\"background-color:rgba(135,206,250,0.0);\">least</span> <span style=\"background-color:rgba(135,206,250,0.0);\">the</span> <span style=\"background-color:rgba(135,206,250,1.219879537820816);\">food</span> <span style=\"background-color:rgba(135,206,250,0.0);\">be</span> <span style=\"background-color:rgba(135,206,250,1.25);\">good</span> <span style=\"background-color:rgba(135,206,250,0.0);\">.</span> <span style=\"background-color:rgba(135,206,250,1.0542168468236923);\">service</span> <span style=\"background-color:rgba(135,206,250,0.0);\">kinda</span> <span style=\"background-color:rgba(135,206,250,0.03012048313394189);\">ruin</span> <span style=\"background-color:rgba(135,206,250,0.0);\">my</span> <span style=\"background-color:rgba(135,206,250,0.09036144241690636);\">meal</span> "
      ],
      "text/plain": [
       "<IPython.core.display.HTML object>"
      ]
     },
     "metadata": {},
     "output_type": "display_data"
    },
    {
     "data": {
      "text/html": [
       "<span style=\"background-color:rgba(135,206,250,0.015060241566970944);\">stop</span> <span style=\"background-color:rgba(135,206,250,0.0);\">by</span> <span style=\"background-color:rgba(135,206,250,0.0);\">on</span> <span style=\"background-color:rgba(135,206,250,0.0);\">a</span> <span style=\"background-color:rgba(135,206,250,0.015060241566970944);\">sunday</span> <span style=\"background-color:rgba(135,206,250,0.0);\">around</span> <span style=\"background-color:rgba(135,206,250,0.0);\">11</span> <span style=\"background-color:rgba(135,206,250,0.0);\">am</span> <span style=\"background-color:rgba(135,206,250,0.0);\">after</span> <span style=\"background-color:rgba(135,206,250,0.0);\">a</span> <span style=\"background-color:rgba(135,206,250,0.0);\">trip</span> <span style=\"background-color:rgba(135,206,250,0.0);\">to</span> <span style=\"background-color:rgba(135,206,250,0.0);\">freedom</span> <span style=\"background-color:rgba(135,206,250,0.015060241566970944);\">park</span> <span style=\"background-color:rgba(135,206,250,0.0);\">and</span> <span style=\"background-color:rgba(135,206,250,0.0);\">have</span> <span style=\"background-color:rgba(135,206,250,0.0);\">a</span> <span style=\"background-color:rgba(135,206,250,0.09036144241690636);\">lovely</span> <span style=\"background-color:rgba(135,206,250,0.1807228848338127);\">experience</span> <span style=\"background-color:rgba(135,206,250,0.0);\">here-</span> <span style=\"background-color:rgba(135,206,250,0.0);\">such</span> <span style=\"background-color:rgba(135,206,250,0.0753012066707015);\">cool</span> <span style=\"background-color:rgba(135,206,250,0.0753012066707015);\">ambiance</span> <span style=\"background-color:rgba(135,206,250,0.0);\">and</span> <span style=\"background-color:rgba(135,206,250,0.0);\">the</span> <span style=\"background-color:rgba(135,206,250,0.2560240961611271);\">staff</span> <span style=\"background-color:rgba(135,206,250,0.0);\">be</span> <span style=\"background-color:rgba(135,206,250,0.4216867685317993);\">friendly</span> <span style=\"background-color:rgba(135,206,250,0.0);\">and</span> <span style=\"background-color:rgba(135,206,250,0.10542169213294983);\">helpful</span> <span style=\"background-color:rgba(135,206,250,0.0);\">.</span> <span style=\"background-color:rgba(135,206,250,0.12048193253576756);\">chicken</span> <span style=\"background-color:rgba(135,206,250,0.0);\">salad</span> <span style=\"background-color:rgba(135,206,250,0.0);\">be</span> <span style=\"background-color:rgba(135,206,250,1.25);\">good</span> <span style=\"background-color:rgba(135,206,250,0.0);\">.</span> <span style=\"background-color:rgba(135,206,250,0.0);\">the</span> <span style=\"background-color:rgba(135,206,250,0.015060241566970944);\">homemade</span> <span style=\"background-color:rgba(135,206,250,0.0);\">pita</span> <span style=\"background-color:rgba(135,206,250,0.03012048313394189);\">chip</span> <span style=\"background-color:rgba(135,206,250,0.0);\">be</span> <span style=\"background-color:rgba(135,206,250,0.06024096626788378);\">ok</span> <span style=\"background-color:rgba(135,206,250,0.0);\">...</span> <span style=\"background-color:rgba(135,206,250,0.0);\">a</span> <span style=\"background-color:rgba(135,206,250,0.04518072120845318);\">little</span> <span style=\"background-color:rgba(135,206,250,0.0);\">thick</span> <span style=\"background-color:rgba(135,206,250,0.0);\">for</span> <span style=\"background-color:rgba(135,206,250,0.0);\">i</span> <span style=\"background-color:rgba(135,206,250,0.0);\">.</span> <span style=\"background-color:rgba(135,206,250,0.0);\">other</span> <span style=\"background-color:rgba(135,206,250,0.0);\">in</span> <span style=\"background-color:rgba(135,206,250,0.0);\">our</span> <span style=\"background-color:rgba(135,206,250,0.015060241566970944);\">group</span> <span style=\"background-color:rgba(135,206,250,0.150602413341403);\">enjoy</span> <span style=\"background-color:rgba(135,206,250,0.0);\">their</span> <span style=\"background-color:rgba(135,206,250,1.219879537820816);\">food</span> <span style=\"background-color:rgba(135,206,250,0.0);\">.</span> "
      ],
      "text/plain": [
       "<IPython.core.display.HTML object>"
      ]
     },
     "metadata": {},
     "output_type": "display_data"
    },
    {
     "data": {
      "text/html": [
       "<span style=\"background-color:rgba(135,206,250,0.0);\">this</span> <span style=\"background-color:rgba(135,206,250,1.25);\">place</span> <span style=\"background-color:rgba(135,206,250,0.0);\">be</span> <span style=\"background-color:rgba(135,206,250,0.3205128014087677);\">horrible</span> <span style=\"background-color:rgba(135,206,250,0.0);\">.</span> <span style=\"background-color:rgba(135,206,250,0.0);\">they</span> <span style=\"background-color:rgba(135,206,250,0.0);\">be</span> <span style=\"background-color:rgba(135,206,250,0.0);\">very</span> <span style=\"background-color:rgba(135,206,250,0.03205128246918321);\">stingy</span> <span style=\"background-color:rgba(135,206,250,0.0);\">with</span> <span style=\"background-color:rgba(135,206,250,0.0);\">the</span> <span style=\"background-color:rgba(135,206,250,0.12820512987673283);\">serve</span> <span style=\"background-color:rgba(135,206,250,0.03205128246918321);\">size</span> <span style=\"background-color:rgba(135,206,250,0.0);\">.</span> <span style=\"background-color:rgba(135,206,250,0.0);\">they</span> <span style=\"background-color:rgba(135,206,250,0.0);\">also</span> <span style=\"background-color:rgba(135,206,250,0.12820512987673283);\">forget</span> <span style=\"background-color:rgba(135,206,250,0.0);\">my</span> <span style=\"background-color:rgba(135,206,250,0.0);\">other</span> <span style=\"background-color:rgba(135,206,250,0.0);\">but</span> <span style=\"background-color:rgba(135,206,250,0.22435897961258888);\">try</span> <span style=\"background-color:rgba(135,206,250,0.03205128246918321);\">charge</span> <span style=\"background-color:rgba(135,206,250,0.0);\">i</span> <span style=\"background-color:rgba(135,206,250,0.0);\">.</span> <span style=\"background-color:rgba(135,206,250,0.0);\">i</span> <span style=\"background-color:rgba(135,206,250,0.6730768829584122);\">come</span> <span style=\"background-color:rgba(135,206,250,0.0);\">back</span> <span style=\"background-color:rgba(135,206,250,0.0);\">the</span> <span style=\"background-color:rgba(135,206,250,0.0);\">next</span> <span style=\"background-color:rgba(135,206,250,0.03205128246918321);\">day</span> <span style=\"background-color:rgba(135,206,250,0.0);\">and</span> <span style=\"background-color:rgba(135,206,250,0.03205128246918321);\">complaint</span> <span style=\"background-color:rgba(135,206,250,0.0);\">about</span> <span style=\"background-color:rgba(135,206,250,0.0);\">the</span> <span style=\"background-color:rgba(135,206,250,0.0);\">servicing</span> <span style=\"background-color:rgba(135,206,250,0.0);\">g</span> <span style=\"background-color:rgba(135,206,250,0.03205128246918321);\">size</span> <span style=\"background-color:rgba(135,206,250,0.0);\">and</span> <span style=\"background-color:rgba(135,206,250,0.0);\">the</span> <span style=\"background-color:rgba(135,206,250,0.03205128246918321);\">girl</span> <span style=\"background-color:rgba(135,206,250,0.0);\">say</span> <span style=\"background-color:rgba(135,206,250,0.0);\">that</span> <span style=\"background-color:rgba(135,206,250,0.0);\">be</span> <span style=\"background-color:rgba(135,206,250,0.0);\">they</span> <span style=\"background-color:rgba(135,206,250,0.03205128246918321);\">tell</span> <span style=\"background-color:rgba(135,206,250,0.0);\">.</span> <span style=\"background-color:rgba(135,206,250,0.0);\">i</span> <span style=\"background-color:rgba(135,206,250,0.0);\">be</span> <span style=\"background-color:rgba(135,206,250,0.416666641831398);\">like</span> <span style=\"background-color:rgba(135,206,250,0.0);\">be</span> <span style=\"background-color:rgba(135,206,250,0.0);\">you</span> <span style=\"background-color:rgba(135,206,250,0.03205128246918321);\">f</span> <span style=\"background-color:rgba(135,206,250,0.0);\">--</span> <span style=\"background-color:rgba(135,206,250,0.03205128246918321);\">king</span> <span style=\"background-color:rgba(135,206,250,0.09615384973585606);\">kid</span> <span style=\"background-color:rgba(135,206,250,0.0);\">i</span> <span style=\"background-color:rgba(135,206,250,0.0);\">?</span> <span style=\"background-color:rgba(135,206,250,0.0);\">.</span> "
      ],
      "text/plain": [
       "<IPython.core.display.HTML object>"
      ]
     },
     "metadata": {},
     "output_type": "display_data"
    },
    {
     "data": {
      "text/html": [
       "<span style=\"background-color:rgba(135,206,250,0.0);\">if</span> <span style=\"background-color:rgba(135,206,250,0.0);\">you</span> <span style=\"background-color:rgba(135,206,250,0.0);\">be</span> <span style=\"background-color:rgba(135,206,250,0.06024096626788378);\">look</span> <span style=\"background-color:rgba(135,206,250,0.0);\">for</span> <span style=\"background-color:rgba(135,206,250,1.25);\">good</span> <span style=\"background-color:rgba(135,206,250,0.0);\">bbq</span> <span style=\"background-color:rgba(135,206,250,0.0);\">,</span> <span style=\"background-color:rgba(135,206,250,0.06024096626788378);\">look</span> <span style=\"background-color:rgba(135,206,250,0.0);\">no</span> <span style=\"background-color:rgba(135,206,250,0.03012048313394189);\">far</span> <span style=\"background-color:rgba(135,206,250,0.0);\">!</span> <span style=\"background-color:rgba(135,206,250,0.0);\">i</span> <span style=\"background-color:rgba(135,206,250,0.1807228848338127);\">order</span> <span style=\"background-color:rgba(135,206,250,0.0);\">the</span> <span style=\"background-color:rgba(135,206,250,0.015060241566970944);\">rib</span> <span style=\"background-color:rgba(135,206,250,0.0);\">and</span> <span style=\"background-color:rgba(135,206,250,0.0);\">they</span> <span style=\"background-color:rgba(135,206,250,0.0);\">practically</span> <span style=\"background-color:rgba(135,206,250,0.03012048313394189);\">fall</span> <span style=\"background-color:rgba(135,206,250,0.0);\">of</span> <span style=\"background-color:rgba(135,206,250,0.0);\">the</span> <span style=\"background-color:rgba(135,206,250,0.04518072120845318);\">bone</span> <span style=\"background-color:rgba(135,206,250,0.0);\">.</span> <span style=\"background-color:rgba(135,206,250,0.0);\">you</span> <span style=\"background-color:rgba(135,206,250,0.0);\">could</span> <span style=\"background-color:rgba(135,206,250,0.015060241566970944);\">tell</span> <span style=\"background-color:rgba(135,206,250,0.0);\">they</span> <span style=\"background-color:rgba(135,206,250,0.0);\">really</span> <span style=\"background-color:rgba(135,206,250,0.04518072120845318);\">care</span> <span style=\"background-color:rgba(135,206,250,0.0);\">about</span> <span style=\"background-color:rgba(135,206,250,0.0);\">the</span> <span style=\"background-color:rgba(135,206,250,1.219879537820816);\">food</span> <span style=\"background-color:rgba(135,206,250,0.0);\">they</span> <span style=\"background-color:rgba(135,206,250,0.0);\">be</span> <span style=\"background-color:rgba(135,206,250,0.06024096626788378);\">serve</span> <span style=\"background-color:rgba(135,206,250,0.0);\">.</span> <span style=\"background-color:rgba(135,206,250,0.0);\">i</span> <span style=\"background-color:rgba(135,206,250,0.0);\">be</span> <span style=\"background-color:rgba(135,206,250,0.0753012066707015);\">new</span> <span style=\"background-color:rgba(135,206,250,0.0);\">to</span> <span style=\"background-color:rgba(135,206,250,0.0);\">yelp</span> <span style=\"background-color:rgba(135,206,250,0.0);\">but</span> <span style=\"background-color:rgba(135,206,250,0.015060241566970944);\">want</span> <span style=\"background-color:rgba(135,206,250,0.0);\">to</span> <span style=\"background-color:rgba(135,206,250,0.015060241566970944);\">share</span> <span style=\"background-color:rgba(135,206,250,0.0);\">my</span> <span style=\"background-color:rgba(135,206,250,0.1807228848338127);\">experience</span> <span style=\"background-color:rgba(135,206,250,0.0);\">,</span> <span style=\"background-color:rgba(135,206,250,0.0);\">cause</span> <span style=\"background-color:rgba(135,206,250,0.0);\">it</span> <span style=\"background-color:rgba(135,206,250,0.0);\">be</span> <span style=\"background-color:rgba(135,206,250,0.0);\">just</span> <span style=\"background-color:rgba(135,206,250,0.0);\">that</span> <span style=\"background-color:rgba(135,206,250,1.25);\">good</span> <span style=\"background-color:rgba(135,206,250,0.0);\">!</span> "
      ],
      "text/plain": [
       "<IPython.core.display.HTML object>"
      ]
     },
     "metadata": {},
     "output_type": "display_data"
    },
    {
     "data": {
      "text/html": [
       "<span style=\"background-color:rgba(135,206,250,0.05434782709926367);\">hilariously</span> <span style=\"background-color:rgba(135,206,250,1.25);\">bad</span> <span style=\"background-color:rgba(135,206,250,0.0);\">.</span> <span style=\"background-color:rgba(135,206,250,0.0);\">do</span> <span style=\"background-color:rgba(135,206,250,0.0);\">not</span> <span style=\"background-color:rgba(135,206,250,0.0);\">go</span> <span style=\"background-color:rgba(135,206,250,0.0);\">there</span> <span style=\"background-color:rgba(135,206,250,0.10869565419852734);\">late</span> <span style=\"background-color:rgba(135,206,250,0.0);\">at</span> <span style=\"background-color:rgba(135,206,250,0.05434782709926367);\">night</span> <span style=\"background-color:rgba(135,206,250,0.0);\">unless</span> <span style=\"background-color:rgba(135,206,250,0.0);\">you</span> <span style=\"background-color:rgba(135,206,250,0.05434782709926367);\">want</span> <span style=\"background-color:rgba(135,206,250,0.0);\">to</span> <span style=\"background-color:rgba(135,206,250,0.0);\">get</span> <span style=\"background-color:rgba(135,206,250,0.05434782709926367);\">fuck</span> <span style=\"background-color:rgba(135,206,250,0.0);\">with</span> <span style=\"background-color:rgba(135,206,250,0.0);\">by</span> <span style=\"background-color:rgba(135,206,250,0.0);\">punk</span> <span style=\"background-color:rgba(135,206,250,0.16304347664117813);\">kid</span> <span style=\"background-color:rgba(135,206,250,0.0);\">and</span> <span style=\"background-color:rgba(135,206,250,0.05434782709926367);\">possibly</span> <span style=\"background-color:rgba(135,206,250,0.05434782709926367);\">mug</span> <span style=\"background-color:rgba(135,206,250,0.0);\">.</span> <span style=\"background-color:rgba(135,206,250,0.0);\">or</span> <span style=\"background-color:rgba(135,206,250,0.0);\">do</span> <span style=\"background-color:rgba(135,206,250,0.0);\">go</span> <span style=\"background-color:rgba(135,206,250,0.0);\">there</span> <span style=\"background-color:rgba(135,206,250,0.10869565419852734);\">late</span> <span style=\"background-color:rgba(135,206,250,0.0);\">at</span> <span style=\"background-color:rgba(135,206,250,0.05434782709926367);\">night</span> <span style=\"background-color:rgba(135,206,250,0.0);\">if</span> <span style=\"background-color:rgba(135,206,250,0.0);\">you</span> <span style=\"background-color:rgba(135,206,250,0.05434782709926367);\">want</span> <span style=\"background-color:rgba(135,206,250,0.0);\">to</span> <span style=\"background-color:rgba(135,206,250,0.10869565419852734);\">watch</span> <span style=\"background-color:rgba(135,206,250,0.0);\">a</span> <span style=\"background-color:rgba(135,206,250,0.0);\">full</span> <span style=\"background-color:rgba(135,206,250,0.0);\">on</span> <span style=\"background-color:rgba(135,206,250,0.0);\">brawl</span> <span style=\"background-color:rgba(135,206,250,0.0);\">while</span> <span style=\"background-color:rgba(135,206,250,0.5434782430529594);\">enjoy</span> <span style=\"background-color:rgba(135,206,250,0.0);\">your</span> <span style=\"background-color:rgba(135,206,250,0.10869565419852734);\">ice</span> <span style=\"background-color:rgba(135,206,250,0.5434782430529594);\">cold</span> <span style=\"background-color:rgba(135,206,250,0.0);\">grand</span> <span style=\"background-color:rgba(135,206,250,0.0);\">slam</span> <span style=\"background-color:rgba(135,206,250,0.0);\">that</span> <span style=\"background-color:rgba(135,206,250,0.0);\">you</span> <span style=\"background-color:rgba(135,206,250,1.0326086729764938);\">wait</span> <span style=\"background-color:rgba(135,206,250,0.0);\">an</span> <span style=\"background-color:rgba(135,206,250,0.21739130839705467);\">hour</span> <span style=\"background-color:rgba(135,206,250,0.0);\">for</span> <span style=\"background-color:rgba(135,206,250,0.0);\">.</span> "
      ],
      "text/plain": [
       "<IPython.core.display.HTML object>"
      ]
     },
     "metadata": {},
     "output_type": "display_data"
    },
    {
     "data": {
      "text/html": [
       "<span style=\"background-color:rgba(135,206,250,1.25);\">come</span> <span style=\"background-color:rgba(135,206,250,0.0);\">in</span> <span style=\"background-color:rgba(135,206,250,0.0);\">for</span> <span style=\"background-color:rgba(135,206,250,0.0);\">a</span> <span style=\"background-color:rgba(135,206,250,0.0);\">casual</span> <span style=\"background-color:rgba(135,206,250,0.0);\">friday</span> <span style=\"background-color:rgba(135,206,250,0.059523810632526875);\">night</span> <span style=\"background-color:rgba(135,206,250,0.1785714365541935);\">dinner</span> <span style=\"background-color:rgba(135,206,250,0.0);\">.</span> <span style=\"background-color:rgba(135,206,250,0.0);\">very</span> <span style=\"background-color:rgba(135,206,250,0.1785714365541935);\">attentive</span> <span style=\"background-color:rgba(135,206,250,0.2380952425301075);\">waitress</span> <span style=\"background-color:rgba(135,206,250,0.0);\">.</span> <span style=\"background-color:rgba(135,206,250,0.1785714365541935);\">expensive</span> <span style=\"background-color:rgba(135,206,250,0.11904762126505375);\">wine</span> <span style=\"background-color:rgba(135,206,250,0.0);\">by</span> <span style=\"background-color:rgba(135,206,250,0.0);\">the</span> <span style=\"background-color:rgba(135,206,250,0.0);\">glass</span> <span style=\"background-color:rgba(135,206,250,0.0);\">.</span> <span style=\"background-color:rgba(135,206,250,0.059523810632526875);\">house</span> <span style=\"background-color:rgba(135,206,250,0.2380952425301075);\">$</span> <span style=\"background-color:rgba(135,206,250,0.0);\">7</span> <span style=\"background-color:rgba(135,206,250,0.0);\">,</span> <span style=\"background-color:rgba(135,206,250,0.0);\">other</span> <span style=\"background-color:rgba(135,206,250,0.0);\">list</span> <span style=\"background-color:rgba(135,206,250,0.0);\">at</span> <span style=\"background-color:rgba(135,206,250,0.2380952425301075);\">$</span> <span style=\"background-color:rgba(135,206,250,0.059523810632526875);\">9</span> <span style=\"background-color:rgba(135,206,250,0.0);\">and</span> <span style=\"background-color:rgba(135,206,250,0.2380952425301075);\">$</span> <span style=\"background-color:rgba(135,206,250,0.0);\">14</span> <span style=\"background-color:rgba(135,206,250,0.0);\">a</span> <span style=\"background-color:rgba(135,206,250,0.0);\">glass</span> <span style=\"background-color:rgba(135,206,250,0.0);\">.</span> <span style=\"background-color:rgba(135,206,250,0.2976190485060215);\">extremely</span> <span style=\"background-color:rgba(135,206,250,0.357142873108387);\">average</span> <span style=\"background-color:rgba(135,206,250,0.0);\">or</span> <span style=\"background-color:rgba(135,206,250,0.0);\">below</span> <span style=\"background-color:rgba(135,206,250,0.357142873108387);\">average</span> <span style=\"background-color:rgba(135,206,250,0.0);\">french</span> <span style=\"background-color:rgba(135,206,250,0.0);\">dip</span> <span style=\"background-color:rgba(135,206,250,0.0);\">and</span> <span style=\"background-color:rgba(135,206,250,0.0);\">an</span> <span style=\"background-color:rgba(135,206,250,0.059523810632526875);\">italian</span> <span style=\"background-color:rgba(135,206,250,0.2380952425301075);\">sandwich</span> <span style=\"background-color:rgba(135,206,250,0.0);\">both</span> <span style=\"background-color:rgba(135,206,250,0.2380952425301075);\">serve</span> <span style=\"background-color:rgba(135,206,250,0.0);\">with</span> <span style=\"background-color:rgba(135,206,250,0.0);\">break</span> <span style=\"background-color:rgba(135,206,250,0.0);\">tiny</span> <span style=\"background-color:rgba(135,206,250,0.0);\">potato</span> <span style=\"background-color:rgba(135,206,250,0.11904762126505375);\">chip</span> <span style=\"background-color:rgba(135,206,250,0.0);\">.</span> <span style=\"background-color:rgba(135,206,250,0.059523810632526875);\">loud</span> <span style=\"background-color:rgba(135,206,250,0.0);\">.</span> <span style=\"background-color:rgba(135,206,250,0.0);\">most</span> <span style=\"background-color:rgba(135,206,250,0.0);\">likely</span> <span style=\"background-color:rgba(135,206,250,0.0);\">will</span> <span style=\"background-color:rgba(135,206,250,0.0);\">not</span> <span style=\"background-color:rgba(135,206,250,0.595238097012043);\">return</span> <span style=\"background-color:rgba(135,206,250,0.0);\">.</span> "
      ],
      "text/plain": [
       "<IPython.core.display.HTML object>"
      ]
     },
     "metadata": {},
     "output_type": "display_data"
    },
    {
     "data": {
      "text/html": [
       "<span style=\"background-color:rgba(135,206,250,0.0);\">decide</span> <span style=\"background-color:rgba(135,206,250,0.0);\">to</span> <span style=\"background-color:rgba(135,206,250,1.25);\">come</span> <span style=\"background-color:rgba(135,206,250,0.0);\">in</span> <span style=\"background-color:rgba(135,206,250,0.0);\">here</span> <span style=\"background-color:rgba(135,206,250,0.0);\">to</span> <span style=\"background-color:rgba(135,206,250,0.0);\">get</span> <span style=\"background-color:rgba(135,206,250,0.0);\">the</span> <span style=\"background-color:rgba(135,206,250,0.0);\">freeze</span> <span style=\"background-color:rgba(135,206,250,0.2380952425301075);\">hot</span> <span style=\"background-color:rgba(135,206,250,0.0);\">chocolate</span> <span style=\"background-color:rgba(135,206,250,0.0);\">.</span> <span style=\"background-color:rgba(135,206,250,0.0);\">i</span> <span style=\"background-color:rgba(135,206,250,0.0);\">would</span> <span style=\"background-color:rgba(135,206,250,0.0);\">have</span> <span style=\"background-color:rgba(135,206,250,0.0);\">to</span> <span style=\"background-color:rgba(135,206,250,0.0);\">say</span> <span style=\"background-color:rgba(135,206,250,0.0);\">this</span> <span style=\"background-color:rgba(135,206,250,0.0);\">serendipity</span> <span style=\"background-color:rgba(135,206,250,0.0);\">be</span> <span style=\"background-color:rgba(135,206,250,0.2976190485060215);\">lack</span> <span style=\"background-color:rgba(135,206,250,0.0);\">.</span> <span style=\"background-color:rgba(135,206,250,0.0);\">the</span> <span style=\"background-color:rgba(135,206,250,0.0);\">well</span> <span style=\"background-color:rgba(135,206,250,0.0);\">one</span> <span style=\"background-color:rgba(135,206,250,0.0);\">be</span> <span style=\"background-color:rgba(135,206,250,0.0);\">still</span> <span style=\"background-color:rgba(135,206,250,0.0);\">in</span> <span style=\"background-color:rgba(135,206,250,0.0);\">ny</span> <span style=\"background-color:rgba(135,206,250,0.0);\">.</span> <span style=\"background-color:rgba(135,206,250,0.0);\">we</span> <span style=\"background-color:rgba(135,206,250,0.11904762126505375);\">sit</span> <span style=\"background-color:rgba(135,206,250,0.0);\">in</span> <span style=\"background-color:rgba(135,206,250,0.0);\">a</span> <span style=\"background-color:rgba(135,206,250,0.059523810632526875);\">booth</span> <span style=\"background-color:rgba(135,206,250,0.0);\">and</span> <span style=\"background-color:rgba(135,206,250,0.0);\">it</span> <span style=\"background-color:rgba(135,206,250,0.0);\">be</span> <span style=\"background-color:rgba(135,206,250,0.0);\">really</span> <span style=\"background-color:rgba(135,206,250,0.416666679084301);\">dirty</span> <span style=\"background-color:rgba(135,206,250,0.0);\">with</span> <span style=\"background-color:rgba(135,206,250,0.059523810632526875);\">crumb</span> <span style=\"background-color:rgba(135,206,250,0.0);\">everywhere</span> <span style=\"background-color:rgba(135,206,250,0.0);\">.</span> <span style=\"background-color:rgba(135,206,250,0.0);\">it</span> <span style=\"background-color:rgba(135,206,250,0.0);\">be</span> <span style=\"background-color:rgba(135,206,250,0.0);\">empty</span> <span style=\"background-color:rgba(135,206,250,0.0);\">when</span> <span style=\"background-color:rgba(135,206,250,0.0);\">we</span> <span style=\"background-color:rgba(135,206,250,0.0);\">arrive</span> <span style=\"background-color:rgba(135,206,250,0.0);\">.</span> <span style=\"background-color:rgba(135,206,250,0.0);\">not</span> <span style=\"background-color:rgba(135,206,250,1.25);\">come</span> <span style=\"background-color:rgba(135,206,250,0.0);\">back</span> <span style=\"background-color:rgba(135,206,250,0.0);\">here</span> <span style=\"background-color:rgba(135,206,250,0.0);\">again</span> <span style=\"background-color:rgba(135,206,250,0.0);\">.</span> "
      ],
      "text/plain": [
       "<IPython.core.display.HTML object>"
      ]
     },
     "metadata": {},
     "output_type": "display_data"
    },
    {
     "data": {
      "text/html": [
       "<span style=\"background-color:rgba(135,206,250,0.06172839552164078);\">sad</span> <span style=\"background-color:rgba(135,206,250,0.0);\">,</span> <span style=\"background-color:rgba(135,206,250,0.0);\">the</span> <span style=\"background-color:rgba(135,206,250,0.0);\">well</span> <span style=\"background-color:rgba(135,206,250,0.015432098880410194);\">thing</span> <span style=\"background-color:rgba(135,206,250,0.0);\">we</span> <span style=\"background-color:rgba(135,206,250,0.0);\">have</span> <span style=\"background-color:rgba(135,206,250,0.0);\">there</span> <span style=\"background-color:rgba(135,206,250,0.0);\">be</span> <span style=\"background-color:rgba(135,206,250,0.0);\">the</span> <span style=\"background-color:rgba(135,206,250,0.0);\">mac</span> <span style=\"background-color:rgba(135,206,250,0.015432098880410194);\">n</span> <span style=\"background-color:rgba(135,206,250,0.03086419776082039);\">cheese</span> <span style=\"background-color:rgba(135,206,250,0.0);\">.</span> <span style=\"background-color:rgba(135,206,250,0.03086419776082039);\">probably</span> <span style=\"background-color:rgba(135,206,250,0.0);\">the</span> <span style=\"background-color:rgba(135,206,250,0.0);\">only</span> <span style=\"background-color:rgba(135,206,250,0.015432098880410194);\">thing</span> <span style=\"background-color:rgba(135,206,250,0.0);\">i</span> <span style=\"background-color:rgba(135,206,250,0.0);\">would</span> <span style=\"background-color:rgba(135,206,250,0.0);\">go</span> <span style=\"background-color:rgba(135,206,250,0.0);\">back</span> <span style=\"background-color:rgba(135,206,250,0.0);\">for</span> <span style=\"background-color:rgba(135,206,250,0.0);\">.</span> <span style=\"background-color:rgba(135,206,250,0.0);\">paradise</span> <span style=\"background-color:rgba(135,206,250,0.015432098880410194);\">bakery</span> <span style=\"background-color:rgba(135,206,250,1.25);\">food</span> <span style=\"background-color:rgba(135,206,250,0.12345679104328156);\">quality</span> <span style=\"background-color:rgba(135,206,250,0.0);\">be</span> <span style=\"background-color:rgba(135,206,250,0.0);\">much</span> <span style=\"background-color:rgba(135,206,250,0.0);\">well</span> <span style=\"background-color:rgba(135,206,250,0.0);\">so</span> <span style=\"background-color:rgba(135,206,250,0.0);\">i</span> <span style=\"background-color:rgba(135,206,250,0.0);\">be</span> <span style=\"background-color:rgba(135,206,250,0.12345679104328156);\">disappoint</span> <span style=\"background-color:rgba(135,206,250,0.0);\">about</span> <span style=\"background-color:rgba(135,206,250,0.0);\">this</span> <span style=\"background-color:rgba(135,206,250,0.0);\">change</span> <span style=\"background-color:rgba(135,206,250,0.0);\">.</span> <span style=\"background-color:rgba(135,206,250,0.0);\">panera</span> <span style=\"background-color:rgba(135,206,250,0.06172839552164078);\">sandwich</span> <span style=\"background-color:rgba(135,206,250,0.0);\">be</span> <span style=\"background-color:rgba(135,206,250,0.1080247014760971);\">small</span> <span style=\"background-color:rgba(135,206,250,0.0);\">too</span> <span style=\"background-color:rgba(135,206,250,0.0);\">so</span> <span style=\"background-color:rgba(135,206,250,0.0);\">not</span> <span style=\"background-color:rgba(135,206,250,0.26234567165374756);\">worth</span> <span style=\"background-color:rgba(135,206,250,0.0);\">the</span> <span style=\"background-color:rgba(135,206,250,0.06172839552164078);\">money</span> <span style=\"background-color:rgba(135,206,250,0.0);\">to</span> <span style=\"background-color:rgba(135,206,250,0.15432098880410194);\">eat</span> <span style=\"background-color:rgba(135,206,250,0.0);\">here</span> <span style=\"background-color:rgba(135,206,250,0.0);\">.</span> <span style=\"background-color:rgba(135,206,250,0.0);\">go</span> <span style=\"background-color:rgba(135,206,250,0.0);\">to</span> <span style=\"background-color:rgba(135,206,250,0.0);\">wildflower</span> <span style=\"background-color:rgba(135,206,250,0.0);\">instead</span> <span style=\"background-color:rgba(135,206,250,0.0);\">.</span> "
      ],
      "text/plain": [
       "<IPython.core.display.HTML object>"
      ]
     },
     "metadata": {},
     "output_type": "display_data"
    },
    {
     "data": {
      "text/html": [
       "<span style=\"background-color:rgba(135,206,250,0.06024096626788378);\">lot</span> <span style=\"background-color:rgba(135,206,250,0.0);\">of</span> <span style=\"background-color:rgba(135,206,250,0.015060241566970944);\">corn</span> <span style=\"background-color:rgba(135,206,250,0.015060241566970944);\">starch</span> <span style=\"background-color:rgba(135,206,250,0.0);\">and</span> <span style=\"background-color:rgba(135,206,250,0.015060241566970944);\">oil</span> <span style=\"background-color:rgba(135,206,250,0.0);\">.</span> <span style=\"background-color:rgba(135,206,250,0.0);\">nothing</span> <span style=\"background-color:rgba(135,206,250,0.015060241566970944);\">alive</span> <span style=\"background-color:rgba(135,206,250,0.0);\">,</span> <span style=\"background-color:rgba(135,206,250,0.015060241566970944);\">vibrant</span> <span style=\"background-color:rgba(135,206,250,0.0);\">or</span> <span style=\"background-color:rgba(135,206,250,0.04518072120845318);\">original</span> <span style=\"background-color:rgba(135,206,250,0.0);\">.</span> <span style=\"background-color:rgba(135,206,250,0.015060241566970944);\">ask</span> <span style=\"background-color:rgba(135,206,250,0.0);\">about</span> <span style=\"background-color:rgba(135,206,250,0.0);\">organic</span> <span style=\"background-color:rgba(135,206,250,0.0);\">tofu</span> <span style=\"background-color:rgba(135,206,250,0.0);\">(</span> <span style=\"background-color:rgba(135,206,250,0.0);\">non</span> <span style=\"background-color:rgba(135,206,250,0.0);\">gmo</span> <span style=\"background-color:rgba(135,206,250,0.0);\">)</span> <span style=\"background-color:rgba(135,206,250,0.0);\">and</span> <span style=\"background-color:rgba(135,206,250,0.0);\">the</span> <span style=\"background-color:rgba(135,206,250,0.0);\">reply</span> <span style=\"background-color:rgba(135,206,250,0.0);\">indicate</span> <span style=\"background-color:rgba(135,206,250,0.0);\">no</span> <span style=\"background-color:rgba(135,206,250,0.015060241566970944);\">awareness</span> <span style=\"background-color:rgba(135,206,250,0.0);\">,</span> <span style=\"background-color:rgba(135,206,250,0.0);\">be</span> <span style=\"background-color:rgba(135,206,250,0.0);\">this</span> <span style=\"background-color:rgba(135,206,250,0.0);\">really</span> <span style=\"background-color:rgba(135,206,250,0.0);\">the</span> <span style=\"background-color:rgba(135,206,250,0.0);\">well</span> <span style=\"background-color:rgba(135,206,250,0.0);\">scottsdale</span> <span style=\"background-color:rgba(135,206,250,0.0);\">have</span> <span style=\"background-color:rgba(135,206,250,0.0);\">to</span> <span style=\"background-color:rgba(135,206,250,0.0);\">offer</span> <span style=\"background-color:rgba(135,206,250,0.0);\">?</span> <span style=\"background-color:rgba(135,206,250,0.0);\">and</span> <span style=\"background-color:rgba(135,206,250,0.0);\">all</span> <span style=\"background-color:rgba(135,206,250,0.0);\">for</span> <span style=\"background-color:rgba(135,206,250,0.06024096626788378);\">$</span> <span style=\"background-color:rgba(135,206,250,0.015060241566970944);\">70</span> <span style=\"background-color:rgba(135,206,250,0.015060241566970944);\">buck</span> <span style=\"background-color:rgba(135,206,250,0.0);\">for</span> <span style=\"background-color:rgba(135,206,250,0.0);\">3</span> <span style=\"background-color:rgba(135,206,250,0.0);\">of</span> <span style=\"background-color:rgba(135,206,250,0.0);\">we</span> <span style=\"background-color:rgba(135,206,250,0.0);\">,</span> <span style=\"background-color:rgba(135,206,250,0.0);\">oh</span> <span style=\"background-color:rgba(135,206,250,0.0);\">credit</span> <span style=\"background-color:rgba(135,206,250,0.0);\">where</span> <span style=\"background-color:rgba(135,206,250,0.0);\">it</span> <span style=\"background-color:rgba(135,206,250,0.0);\">be</span> <span style=\"background-color:rgba(135,206,250,0.0);\">due</span> <span style=\"background-color:rgba(135,206,250,0.0);\">.</span> <span style=\"background-color:rgba(135,206,250,0.0);\">the</span> <span style=\"background-color:rgba(135,206,250,0.03012048313394189);\">wine</span> <span style=\"background-color:rgba(135,206,250,0.0);\">be</span> <span style=\"background-color:rgba(135,206,250,1.25);\">good</span> <span style=\"background-color:rgba(135,206,250,0.0);\">,</span> "
      ],
      "text/plain": [
       "<IPython.core.display.HTML object>"
      ]
     },
     "metadata": {},
     "output_type": "display_data"
    },
    {
     "data": {
      "text/html": [
       "<span style=\"background-color:rgba(135,206,250,0.0);\">omggggggg</span> <span style=\"background-color:rgba(135,206,250,0.0);\">i</span> <span style=\"background-color:rgba(135,206,250,0.0);\">take</span> <span style=\"background-color:rgba(135,206,250,0.0);\">my</span> <span style=\"background-color:rgba(135,206,250,0.0);\">nephew</span> <span style=\"background-color:rgba(135,206,250,0.0);\">inside</span> <span style=\"background-color:rgba(135,206,250,0.0);\">and</span> <span style=\"background-color:rgba(135,206,250,0.0);\">we</span> <span style=\"background-color:rgba(135,206,250,0.0);\">be</span> <span style=\"background-color:rgba(135,206,250,0.19736841320991516);\">stand</span> <span style=\"background-color:rgba(135,206,250,0.0);\">there</span> <span style=\"background-color:rgba(135,206,250,1.25);\">wait</span> <span style=\"background-color:rgba(135,206,250,0.0);\">and</span> <span style=\"background-color:rgba(135,206,250,0.0);\">there</span> <span style=\"background-color:rgba(135,206,250,0.0);\">be</span> <span style=\"background-color:rgba(135,206,250,0.0);\">a</span> <span style=\"background-color:rgba(135,206,250,0.32894738018512726);\">huge</span> <span style=\"background-color:rgba(135,206,250,0.0657894741743803);\">caca</span> <span style=\"background-color:rgba(135,206,250,0.0657894741743803);\">roach</span> <span style=\"background-color:rgba(135,206,250,0.0);\">on</span> <span style=\"background-color:rgba(135,206,250,0.0);\">the</span> <span style=\"background-color:rgba(135,206,250,0.0657894741743803);\">floor</span> <span style=\"background-color:rgba(135,206,250,0.0);\">!</span> <span style=\"background-color:rgba(135,206,250,0.0);\">!</span> <span style=\"background-color:rgba(135,206,250,0.0);\">!</span> <span style=\"background-color:rgba(135,206,250,0.0);\">!</span> <span style=\"background-color:rgba(135,206,250,0.0);\">!</span> <span style=\"background-color:rgba(135,206,250,0.0);\">!</span> <span style=\"background-color:rgba(135,206,250,0.0);\">so</span> <span style=\"background-color:rgba(135,206,250,0.5263157933950424);\">disgusting</span> <span style=\"background-color:rgba(135,206,250,0.0);\">do</span> <span style=\"background-color:rgba(135,206,250,0.0);\">not</span> <span style=\"background-color:rgba(135,206,250,0.6578947603702545);\">eat</span> <span style=\"background-color:rgba(135,206,250,0.0);\">here</span> <span style=\"background-color:rgba(135,206,250,0.0);\">i</span> <span style=\"background-color:rgba(135,206,250,0.0657894741743803);\">want</span> <span style=\"background-color:rgba(135,206,250,0.0);\">to</span> <span style=\"background-color:rgba(135,206,250,0.1315789483487606);\">throw</span> <span style=\"background-color:rgba(135,206,250,0.0);\">up</span> <span style=\"background-color:rgba(135,206,250,0.0);\">!</span> <span style=\"background-color:rgba(135,206,250,0.0);\">!</span> <span style=\"background-color:rgba(135,206,250,0.0);\">!</span> <span style=\"background-color:rgba(135,206,250,0.0);\">they</span> <span style=\"background-color:rgba(135,206,250,0.0);\">get</span> <span style=\"background-color:rgba(135,206,250,0.1315789483487606);\">negative</span> <span style=\"background-color:rgba(135,206,250,0.6578947603702545);\">star</span> <span style=\"background-color:rgba(135,206,250,0.0);\">!</span> <span style=\"background-color:rgba(135,206,250,0.0);\">!</span> <span style=\"background-color:rgba(135,206,250,0.0);\">!</span> <span style=\"background-color:rgba(135,206,250,0.0);\">!</span> <span style=\"background-color:rgba(135,206,250,0.0);\">i</span> <span style=\"background-color:rgba(135,206,250,0.0);\">could</span> <span style=\"background-color:rgba(135,206,250,0.0);\">not</span> <span style=\"background-color:rgba(135,206,250,0.0);\">believe</span> <span style=\"background-color:rgba(135,206,250,0.0);\">my</span> <span style=\"background-color:rgba(135,206,250,0.0);\">eye</span> <span style=\"background-color:rgba(135,206,250,0.0);\">!</span> <span style=\"background-color:rgba(135,206,250,0.0);\">!</span> <span style=\"background-color:rgba(135,206,250,0.0);\">i</span> <span style=\"background-color:rgba(135,206,250,0.0);\">'ve</span> <span style=\"background-color:rgba(135,206,250,0.0);\">never</span> <span style=\"background-color:rgba(135,206,250,0.0);\">see</span> <span style=\"background-color:rgba(135,206,250,0.0);\">anything</span> <span style=\"background-color:rgba(135,206,250,0.0);\">so</span> <span style=\"background-color:rgba(135,206,250,0.5263157933950424);\">disgusting</span> <span style=\"background-color:rgba(135,206,250,0.0);\">in</span> <span style=\"background-color:rgba(135,206,250,0.0);\">my</span> <span style=\"background-color:rgba(135,206,250,0.0);\">life</span> <span style=\"background-color:rgba(135,206,250,0.0);\">!</span> <span style=\"background-color:rgba(135,206,250,0.0);\">!</span> <span style=\"background-color:rgba(135,206,250,0.0);\">!</span> <span style=\"background-color:rgba(135,206,250,0.0);\">!</span> "
      ],
      "text/plain": [
       "<IPython.core.display.HTML object>"
      ]
     },
     "metadata": {},
     "output_type": "display_data"
    },
    {
     "data": {
      "text/html": [
       "<span style=\"background-color:rgba(135,206,250,0.0);\">wow</span> <span style=\"background-color:rgba(135,206,250,0.0);\">our</span> <span style=\"background-color:rgba(135,206,250,0.0);\">first</span> <span style=\"background-color:rgba(135,206,250,0.892857164144516);\">time</span> <span style=\"background-color:rgba(135,206,250,0.0);\">here</span> <span style=\"background-color:rgba(135,206,250,0.0);\">and</span> <span style=\"background-color:rgba(135,206,250,0.0);\">no</span> <span style=\"background-color:rgba(135,206,250,0.059523810632526875);\">bowl</span> <span style=\"background-color:rgba(135,206,250,0.059523810632526875);\">game</span> <span style=\"background-color:rgba(135,206,250,0.833333358168602);\">special</span> <span style=\"background-color:rgba(135,206,250,0.0);\">.</span> <span style=\"background-color:rgba(135,206,250,0.0);\">kitchen</span> <span style=\"background-color:rgba(135,206,250,0.0);\">help</span> <span style=\"background-color:rgba(135,206,250,1.25);\">come</span> <span style=\"background-color:rgba(135,206,250,0.0);\">out</span> <span style=\"background-color:rgba(135,206,250,0.0);\">and</span> <span style=\"background-color:rgba(135,206,250,0.059523810632526875);\">blow</span> <span style=\"background-color:rgba(135,206,250,0.059523810632526875);\">cigarette</span> <span style=\"background-color:rgba(135,206,250,0.059523810632526875);\">smoke</span> <span style=\"background-color:rgba(135,206,250,0.0);\">all</span> <span style=\"background-color:rgba(135,206,250,0.0);\">over</span> <span style=\"background-color:rgba(135,206,250,0.0);\">we</span> <span style=\"background-color:rgba(135,206,250,0.0);\">while</span> <span style=\"background-color:rgba(135,206,250,0.0);\">we</span> <span style=\"background-color:rgba(135,206,250,0.0);\">be</span> <span style=\"background-color:rgba(135,206,250,0.0);\">in</span> <span style=\"background-color:rgba(135,206,250,0.0);\">the</span> <span style=\"background-color:rgba(135,206,250,0.0);\">corner</span> <span style=\"background-color:rgba(135,206,250,0.1785714365541935);\">away</span> <span style=\"background-color:rgba(135,206,250,0.0);\">from</span> <span style=\"background-color:rgba(135,206,250,0.0);\">everyone</span> <span style=\"background-color:rgba(135,206,250,0.0);\">else</span> <span style=\"background-color:rgba(135,206,250,0.0);\">.</span> <span style=\"background-color:rgba(135,206,250,0.357142873108387);\">happy</span> <span style=\"background-color:rgba(135,206,250,0.2380952425301075);\">hour</span> <span style=\"background-color:rgba(135,206,250,0.0);\">be</span> <span style=\"background-color:rgba(135,206,250,0.0);\">a</span> <span style=\"background-color:rgba(135,206,250,0.0);\">whole</span> <span style=\"background-color:rgba(135,206,250,0.059523810632526875);\">.75</span> <span style=\"background-color:rgba(135,206,250,0.059523810632526875);\">cent</span> <span style=\"background-color:rgba(135,206,250,0.059523810632526875);\">saving</span> <span style=\"background-color:rgba(135,206,250,0.0);\">on</span> <span style=\"background-color:rgba(135,206,250,0.0);\">a</span> <span style=\"background-color:rgba(135,206,250,0.2976190485060215);\">beer</span> <span style=\"background-color:rgba(135,206,250,0.0);\">.</span> <span style=\"background-color:rgba(135,206,250,0.0);\">woohoo</span> <span style=\"background-color:rgba(135,206,250,0.0);\">.</span> <span style=\"background-color:rgba(135,206,250,0.0);\">no</span> <span style=\"background-color:rgba(135,206,250,0.0);\">go</span> <span style=\"background-color:rgba(135,206,250,0.0);\">to</span> <span style=\"background-color:rgba(135,206,250,0.0);\">be</span> <span style=\"background-color:rgba(135,206,250,0.0);\">back</span> <span style=\"background-color:rgba(135,206,250,0.0);\">here</span> <span style=\"background-color:rgba(135,206,250,0.0);\">again</span> <span style=\"background-color:rgba(135,206,250,0.0);\">.</span> "
      ],
      "text/plain": [
       "<IPython.core.display.HTML object>"
      ]
     },
     "metadata": {},
     "output_type": "display_data"
    },
    {
     "data": {
      "text/html": [
       "<span style=\"background-color:rgba(135,206,250,0.0);\">this</span> <span style=\"background-color:rgba(135,206,250,0.0);\">be</span> <span style=\"background-color:rgba(135,206,250,0.0);\">a</span> <span style=\"background-color:rgba(135,206,250,0.04629629664123058);\">big</span> <span style=\"background-color:rgba(135,206,250,0.04629629664123058);\">disappointment</span> <span style=\"background-color:rgba(135,206,250,0.0);\">.</span> <span style=\"background-color:rgba(135,206,250,0.32407406717538834);\">come</span> <span style=\"background-color:rgba(135,206,250,0.0);\">here</span> <span style=\"background-color:rgba(135,206,250,0.0);\">for</span> <span style=\"background-color:rgba(135,206,250,0.09259259328246117);\">happy</span> <span style=\"background-color:rgba(135,206,250,0.06172839552164078);\">hour</span> <span style=\"background-color:rgba(135,206,250,0.0);\">and</span> <span style=\"background-color:rgba(135,206,250,0.0);\">it</span> <span style=\"background-color:rgba(135,206,250,0.0);\">be</span> <span style=\"background-color:rgba(135,206,250,0.0);\">not</span> <span style=\"background-color:rgba(135,206,250,0.09259259328246117);\">happy</span> <span style=\"background-color:rgba(135,206,250,0.0);\">for</span> <span style=\"background-color:rgba(135,206,250,0.0);\">we</span> <span style=\"background-color:rgba(135,206,250,0.0);\">at</span> <span style=\"background-color:rgba(135,206,250,0.0);\">all</span> <span style=\"background-color:rgba(135,206,250,0.0);\">.</span> <span style=\"background-color:rgba(135,206,250,0.0);\">the</span> <span style=\"background-color:rgba(135,206,250,0.0);\">kitchen</span> <span style=\"background-color:rgba(135,206,250,0.04629629664123058);\">lose</span> <span style=\"background-color:rgba(135,206,250,0.0);\">our</span> <span style=\"background-color:rgba(135,206,250,0.18518518656492233);\">order</span> <span style=\"background-color:rgba(135,206,250,0.0);\">and</span> <span style=\"background-color:rgba(135,206,250,0.0);\">we</span> <span style=\"background-color:rgba(135,206,250,0.29320988804101944);\">wait</span> <span style=\"background-color:rgba(135,206,250,0.0);\">for</span> <span style=\"background-color:rgba(135,206,250,0.0);\">a</span> <span style=\"background-color:rgba(135,206,250,0.1388888992369175);\">long</span> <span style=\"background-color:rgba(135,206,250,0.23148149251937866);\">time</span> <span style=\"background-color:rgba(135,206,250,0.0);\">but</span> <span style=\"background-color:rgba(135,206,250,0.0);\">never</span> <span style=\"background-color:rgba(135,206,250,0.0);\">get</span> <span style=\"background-color:rgba(135,206,250,0.0);\">our</span> <span style=\"background-color:rgba(135,206,250,1.25);\">food</span> <span style=\"background-color:rgba(135,206,250,0.0);\">.</span> <span style=\"background-color:rgba(135,206,250,0.0);\">when</span> <span style=\"background-color:rgba(135,206,250,0.0);\">we</span> <span style=\"background-color:rgba(135,206,250,0.0);\">finally</span> <span style=\"background-color:rgba(135,206,250,0.0);\">get</span> <span style=\"background-color:rgba(135,206,250,0.0);\">our</span> <span style=\"background-color:rgba(135,206,250,1.25);\">food</span> <span style=\"background-color:rgba(135,206,250,0.0);\">it</span> <span style=\"background-color:rgba(135,206,250,0.0);\">be</span> <span style=\"background-color:rgba(135,206,250,0.0);\">very</span> <span style=\"background-color:rgba(135,206,250,0.06172839552164078);\">salty</span> <span style=\"background-color:rgba(135,206,250,0.0);\">and</span> <span style=\"background-color:rgba(135,206,250,0.2469135820865631);\">taste</span> <span style=\"background-color:rgba(135,206,250,0.0);\">nothing</span> <span style=\"background-color:rgba(135,206,250,0.20061727613210678);\">like</span> <span style=\"background-color:rgba(135,206,250,0.04629629664123058);\">original</span> <span style=\"background-color:rgba(135,206,250,0.0);\">.</span> "
      ],
      "text/plain": [
       "<IPython.core.display.HTML object>"
      ]
     },
     "metadata": {},
     "output_type": "display_data"
    },
    {
     "data": {
      "text/html": [
       "<span style=\"background-color:rgba(135,206,250,0.0);\">i</span> <span style=\"background-color:rgba(135,206,250,0.0);\">really</span> <span style=\"background-color:rgba(135,206,250,0.0);\">really</span> <span style=\"background-color:rgba(135,206,250,0.28409089893102646);\">enjoy</span> <span style=\"background-color:rgba(135,206,250,0.0);\">this</span> <span style=\"background-color:rgba(135,206,250,1.1079545319080353);\">place</span> <span style=\"background-color:rgba(135,206,250,0.0);\">!</span> <span style=\"background-color:rgba(135,206,250,0.0);\">!</span> <span style=\"background-color:rgba(135,206,250,0.0);\">but</span> <span style=\"background-color:rgba(135,206,250,0.0);\">,</span> <span style=\"background-color:rgba(135,206,250,0.0);\">i</span> <span style=\"background-color:rgba(135,206,250,0.0);\">be</span> <span style=\"background-color:rgba(135,206,250,0.0);\">go</span> <span style=\"background-color:rgba(135,206,250,0.0);\">to</span> <span style=\"background-color:rgba(135,206,250,0.0);\">agree</span> <span style=\"background-color:rgba(135,206,250,0.0);\">with</span> <span style=\"background-color:rgba(135,206,250,0.0);\">a</span> <span style=\"background-color:rgba(135,206,250,0.0);\">few</span> <span style=\"background-color:rgba(135,206,250,0.0);\">other</span> <span style=\"background-color:rgba(135,206,250,0.0);\">folk</span> <span style=\"background-color:rgba(135,206,250,0.0);\">on</span> <span style=\"background-color:rgba(135,206,250,0.05681817885488272);\">1</span> <span style=\"background-color:rgba(135,206,250,0.0);\">issue</span> <span style=\"background-color:rgba(135,206,250,0.0);\">...</span> <span style=\"background-color:rgba(135,206,250,0.0);\">why</span> <span style=\"background-color:rgba(135,206,250,0.0);\">be</span> <span style=\"background-color:rgba(135,206,250,0.0);\">the</span> <span style=\"background-color:rgba(135,206,250,0.02840908942744136);\">music</span> <span style=\"background-color:rgba(135,206,250,0.0);\">so</span> <span style=\"background-color:rgba(135,206,250,0.0);\">damn</span> <span style=\"background-color:rgba(135,206,250,0.02840908942744136);\">loud</span> <span style=\"background-color:rgba(135,206,250,0.0);\">in</span> <span style=\"background-color:rgba(135,206,250,0.0);\">the</span> <span style=\"background-color:rgba(135,206,250,0.05681817885488272);\">bar</span> <span style=\"background-color:rgba(135,206,250,0.0);\">?</span> <span style=\"background-color:rgba(135,206,250,0.0);\">?</span> <span style=\"background-color:rgba(135,206,250,0.0);\">anyway</span> <span style=\"background-color:rgba(135,206,250,0.0);\">,</span> <span style=\"background-color:rgba(135,206,250,0.4829545319080353);\">drink</span> <span style=\"background-color:rgba(135,206,250,0.0);\">be</span> <span style=\"background-color:rgba(135,206,250,0.14204544946551323);\">tasty</span> <span style=\"background-color:rgba(135,206,250,0.0);\">and</span> <span style=\"background-color:rgba(135,206,250,0.0);\">i</span> <span style=\"background-color:rgba(135,206,250,1.25);\">love</span> <span style=\"background-color:rgba(135,206,250,0.0);\">their</span> <span style=\"background-color:rgba(135,206,250,0.0);\">\"</span> <span style=\"background-color:rgba(135,206,250,0.02840908942744136);\">social</span> <span style=\"background-color:rgba(135,206,250,0.11363635770976543);\">hour</span> <span style=\"background-color:rgba(135,206,250,0.0);\">\"</span> <span style=\"background-color:rgba(135,206,250,0.0);\">from</span> <span style=\"background-color:rgba(135,206,250,0.0);\">2</span> <span style=\"background-color:rgba(135,206,250,0.0);\">-</span> <span style=\"background-color:rgba(135,206,250,0.0);\">6</span> <span style=\"background-color:rgba(135,206,250,0.0);\">pm</span> <span style=\"background-color:rgba(135,206,250,0.0);\">.</span> <span style=\"background-color:rgba(135,206,250,0.0);\">will</span> <span style=\"background-color:rgba(135,206,250,0.34090906381607056);\">definitely</span> <span style=\"background-color:rgba(135,206,250,0.0);\">be</span> <span style=\"background-color:rgba(135,206,250,0.0);\">go</span> <span style=\"background-color:rgba(135,206,250,0.0);\">back</span> <span style=\"background-color:rgba(135,206,250,0.0);\">to</span> <span style=\"background-color:rgba(135,206,250,0.0);\">this</span> <span style=\"background-color:rgba(135,206,250,1.1079545319080353);\">place</span> <span style=\"background-color:rgba(135,206,250,0.0);\">!</span> "
      ],
      "text/plain": [
       "<IPython.core.display.HTML object>"
      ]
     },
     "metadata": {},
     "output_type": "display_data"
    },
    {
     "data": {
      "text/html": [
       "<span style=\"background-color:rgba(135,206,250,0.0);\">the</span> <span style=\"background-color:rgba(135,206,250,0.0);\">\"</span> <span style=\"background-color:rgba(135,206,250,0.0);\">make</span> <span style=\"background-color:rgba(135,206,250,0.0);\">your</span> <span style=\"background-color:rgba(135,206,250,0.0);\">own</span> <span style=\"background-color:rgba(135,206,250,0.03012048313394189);\">bloody</span> <span style=\"background-color:rgba(135,206,250,0.0);\">mary</span> <span style=\"background-color:rgba(135,206,250,0.0);\">\"</span> <span style=\"background-color:rgba(135,206,250,0.03012048313394189);\">bar</span> <span style=\"background-color:rgba(135,206,250,0.0);\">might</span> <span style=\"background-color:rgba(135,206,250,0.0);\">be</span> <span style=\"background-color:rgba(135,206,250,0.0);\">a</span> <span style=\"background-color:rgba(135,206,250,1.25);\">good</span> <span style=\"background-color:rgba(135,206,250,0.015060241566970944);\">deal</span> <span style=\"background-color:rgba(135,206,250,0.0);\">if</span> <span style=\"background-color:rgba(135,206,250,0.0);\">you</span> <span style=\"background-color:rgba(135,206,250,0.0);\">be</span> <span style=\"background-color:rgba(135,206,250,1.25);\">good</span> <span style=\"background-color:rgba(135,206,250,0.0);\">at</span> <span style=\"background-color:rgba(135,206,250,0.0);\">make</span> <span style=\"background-color:rgba(135,206,250,0.03012048313394189);\">bloody</span> <span style=\"background-color:rgba(135,206,250,0.0);\">mary</span> <span style=\"background-color:rgba(135,206,250,0.0);\">'s</span> <span style=\"background-color:rgba(135,206,250,0.0);\">.</span> <span style=\"background-color:rgba(135,206,250,0.0);\">if</span> <span style=\"background-color:rgba(135,206,250,0.0);\">you</span> <span style=\"background-color:rgba(135,206,250,0.0);\">be</span> <span style=\"background-color:rgba(135,206,250,0.19578313454985619);\">like</span> <span style=\"background-color:rgba(135,206,250,0.0);\">i</span> <span style=\"background-color:rgba(135,206,250,0.0);\">,</span> <span style=\"background-color:rgba(135,206,250,0.0);\">and</span> <span style=\"background-color:rgba(135,206,250,0.0);\">you</span> <span style=\"background-color:rgba(135,206,250,0.06024096626788378);\">suck</span> <span style=\"background-color:rgba(135,206,250,0.0);\">at</span> <span style=\"background-color:rgba(135,206,250,0.0);\">make</span> <span style=\"background-color:rgba(135,206,250,0.03012048313394189);\">bloody</span> <span style=\"background-color:rgba(135,206,250,0.0);\">marys</span> <span style=\"background-color:rgba(135,206,250,0.0);\">,</span> <span style=\"background-color:rgba(135,206,250,0.0);\">it</span> <span style=\"background-color:rgba(135,206,250,0.0);\">mean</span> <span style=\"background-color:rgba(135,206,250,0.0);\">you</span> <span style=\"background-color:rgba(135,206,250,0.0);\">be</span> <span style=\"background-color:rgba(135,206,250,0.015060241566970944);\">overpay</span> <span style=\"background-color:rgba(135,206,250,0.0);\">for</span> <span style=\"background-color:rgba(135,206,250,0.0);\">a</span> <span style=\"background-color:rgba(135,206,250,0.03012048313394189);\">crappy</span> <span style=\"background-color:rgba(135,206,250,0.0);\">pour</span> <span style=\"background-color:rgba(135,206,250,0.0);\">of</span> <span style=\"background-color:rgba(135,206,250,0.0);\">vodka</span> <span style=\"background-color:rgba(135,206,250,0.0);\">and</span> <span style=\"background-color:rgba(135,206,250,0.0);\">be</span> <span style=\"background-color:rgba(135,206,250,0.04518072120845318);\">stick</span> <span style=\"background-color:rgba(135,206,250,0.10542169213294983);\">try</span> <span style=\"background-color:rgba(135,206,250,0.0);\">to</span> <span style=\"background-color:rgba(135,206,250,0.015060241566970944);\">practice</span> <span style=\"background-color:rgba(135,206,250,0.015060241566970944);\">alchemy</span> <span style=\"background-color:rgba(135,206,250,0.0);\">with</span> <span style=\"background-color:rgba(135,206,250,0.03012048313394189);\">old</span> <span style=\"background-color:rgba(135,206,250,0.0);\">/</span> <span style=\"background-color:rgba(135,206,250,0.03012048313394189);\">warm</span> <span style=\"background-color:rgba(135,206,250,0.0);\">/</span> <span style=\"background-color:rgba(135,206,250,0.0);\">expose</span> <span style=\"background-color:rgba(135,206,250,0.015060241566970944);\">ingredient</span> <span style=\"background-color:rgba(135,206,250,0.0);\">.</span> "
      ],
      "text/plain": [
       "<IPython.core.display.HTML object>"
      ]
     },
     "metadata": {},
     "output_type": "display_data"
    },
    {
     "data": {
      "text/html": [
       "<span style=\"background-color:rgba(135,206,250,0.0);\">really</span> <span style=\"background-color:rgba(135,206,250,1.23511902987957);\">good</span> <span style=\"background-color:rgba(135,206,250,0.0);\">filipino</span> <span style=\"background-color:rgba(135,206,250,0.10416666977107525);\">restaurant</span> <span style=\"background-color:rgba(135,206,250,0.0);\">.</span> <span style=\"background-color:rgba(135,206,250,0.0);\">it</span> <span style=\"background-color:rgba(135,206,250,0.0);\">be</span> <span style=\"background-color:rgba(135,206,250,0.0);\">kind</span> <span style=\"background-color:rgba(135,206,250,0.0);\">of</span> <span style=\"background-color:rgba(135,206,250,0.0);\">\"</span> <span style=\"background-color:rgba(135,206,250,0.0);\">street</span> <span style=\"background-color:rgba(135,206,250,1.205357164144516);\">food</span> <span style=\"background-color:rgba(135,206,250,0.0);\">\"</span> <span style=\"background-color:rgba(135,206,250,0.0);\">style</span> <span style=\"background-color:rgba(135,206,250,0.0);\">,</span> <span style=\"background-color:rgba(135,206,250,0.0);\">which</span> <span style=\"background-color:rgba(135,206,250,0.0);\">be</span> <span style=\"background-color:rgba(135,206,250,1.25);\">great</span> <span style=\"background-color:rgba(135,206,250,0.0);\">.</span> <span style=\"background-color:rgba(135,206,250,0.0);\">they</span> <span style=\"background-color:rgba(135,206,250,0.0);\">also</span> <span style=\"background-color:rgba(135,206,250,0.0);\">have</span> <span style=\"background-color:rgba(135,206,250,0.0);\">\"</span> <span style=\"background-color:rgba(135,206,250,0.0);\">kitchen</span> <span style=\"background-color:rgba(135,206,250,0.029761905316263437);\">item</span> <span style=\"background-color:rgba(135,206,250,0.0);\">\"</span> <span style=\"background-color:rgba(135,206,250,0.0);\">you</span> <span style=\"background-color:rgba(135,206,250,0.0);\">can</span> <span style=\"background-color:rgba(135,206,250,0.1785714365541935);\">order</span> <span style=\"background-color:rgba(135,206,250,0.0);\">as</span> <span style=\"background-color:rgba(135,206,250,0.0);\">well</span> <span style=\"background-color:rgba(135,206,250,0.0);\">.</span> <span style=\"background-color:rgba(135,206,250,0.11904762126505375);\">highly</span> <span style=\"background-color:rgba(135,206,250,0.2976190485060215);\">recommend</span> <span style=\"background-color:rgba(135,206,250,0.10416666977107525);\">try</span> <span style=\"background-color:rgba(135,206,250,0.0);\">this</span> <span style=\"background-color:rgba(135,206,250,0.580357164144516);\">place</span> <span style=\"background-color:rgba(135,206,250,0.0);\">if</span> <span style=\"background-color:rgba(135,206,250,0.0);\">you</span> <span style=\"background-color:rgba(135,206,250,0.014880952658131719);\">want</span> <span style=\"background-color:rgba(135,206,250,0.0);\">filipino</span> <span style=\"background-color:rgba(135,206,250,1.205357164144516);\">food</span> <span style=\"background-color:rgba(135,206,250,0.0);\">.</span> <span style=\"background-color:rgba(135,206,250,0.0);\">my</span> <span style=\"background-color:rgba(135,206,250,0.0);\">wife</span> <span style=\"background-color:rgba(135,206,250,0.0);\">be</span> <span style=\"background-color:rgba(135,206,250,0.0);\">from</span> <span style=\"background-color:rgba(135,206,250,0.0);\">the</span> <span style=\"background-color:rgba(135,206,250,0.0);\">philippine</span> <span style=\"background-color:rgba(135,206,250,0.0);\">and</span> <span style=\"background-color:rgba(135,206,250,0.0);\">she</span> <span style=\"background-color:rgba(135,206,250,0.0);\">say</span> <span style=\"background-color:rgba(135,206,250,0.0);\">it</span> <span style=\"background-color:rgba(135,206,250,0.0);\">be</span> <span style=\"background-color:rgba(135,206,250,0.1785714365541935);\">pretty</span> <span style=\"background-color:rgba(135,206,250,0.044642859138548374);\">authentic</span> <span style=\"background-color:rgba(135,206,250,0.0);\">.</span> <span style=\"background-color:rgba(135,206,250,0.0);\">we</span> <span style=\"background-color:rgba(135,206,250,0.0);\">have</span> <span style=\"background-color:rgba(135,206,250,0.0);\">be</span> <span style=\"background-color:rgba(135,206,250,0.0);\">several</span> <span style=\"background-color:rgba(135,206,250,0.223214291036129);\">time</span> <span style=\"background-color:rgba(135,206,250,0.0);\">.</span> "
      ],
      "text/plain": [
       "<IPython.core.display.HTML object>"
      ]
     },
     "metadata": {},
     "output_type": "display_data"
    },
    {
     "data": {
      "text/html": [
       "<span style=\"background-color:rgba(135,206,250,0.015432098880410194);\">pho</span> <span style=\"background-color:rgba(135,206,250,0.0);\">kim</span> <span style=\"background-color:rgba(135,206,250,0.1388888992369175);\">long</span> <span style=\"background-color:rgba(135,206,250,0.0);\">have</span> <span style=\"background-color:rgba(135,206,250,0.0);\">really</span> <span style=\"background-color:rgba(135,206,250,0.0);\">\"</span> <span style=\"background-color:rgba(135,206,250,0.015432098880410194);\">pho</span> <span style=\"background-color:rgba(135,206,250,0.0);\">kim</span> <span style=\"background-color:rgba(135,206,250,0.1388888992369175);\">long</span> <span style=\"background-color:rgba(135,206,250,0.0);\">\"</span> <span style=\"background-color:rgba(135,206,250,0.29320988804101944);\">wait</span> <span style=\"background-color:rgba(135,206,250,0.23148149251937866);\">time</span> <span style=\"background-color:rgba(135,206,250,0.0);\">to</span> <span style=\"background-color:rgba(135,206,250,0.06172839552164078);\">serve</span> <span style=\"background-color:rgba(135,206,250,0.0);\">your</span> <span style=\"background-color:rgba(135,206,250,1.25);\">food</span> <span style=\"background-color:rgba(135,206,250,0.0);\">.</span> <span style=\"background-color:rgba(135,206,250,0.0);\">the</span> <span style=\"background-color:rgba(135,206,250,1.0802468657493591);\">service</span> <span style=\"background-color:rgba(135,206,250,0.0);\">be</span> <span style=\"background-color:rgba(135,206,250,0.07716049440205097);\">lack</span> <span style=\"background-color:rgba(135,206,250,0.0);\">and</span> <span style=\"background-color:rgba(135,206,250,0.0);\">it</span> <span style=\"background-color:rgba(135,206,250,0.0);\">take</span> <span style=\"background-color:rgba(135,206,250,0.0);\">such</span> <span style=\"background-color:rgba(135,206,250,0.0);\">a</span> <span style=\"background-color:rgba(135,206,250,0.1388888992369175);\">long</span> <span style=\"background-color:rgba(135,206,250,0.23148149251937866);\">time</span> <span style=\"background-color:rgba(135,206,250,0.0);\">for</span> <span style=\"background-color:rgba(135,206,250,0.0);\">our</span> <span style=\"background-color:rgba(135,206,250,1.25);\">food</span> <span style=\"background-color:rgba(135,206,250,0.0);\">to</span> <span style=\"background-color:rgba(135,206,250,0.0);\">be</span> <span style=\"background-color:rgba(135,206,250,0.06172839552164078);\">serve</span> <span style=\"background-color:rgba(135,206,250,0.0);\">.</span> <span style=\"background-color:rgba(135,206,250,0.0);\">we</span> <span style=\"background-color:rgba(135,206,250,0.0);\">be</span> <span style=\"background-color:rgba(135,206,250,0.0);\">all</span> <span style=\"background-color:rgba(135,206,250,0.0);\">hungry</span> <span style=\"background-color:rgba(135,206,250,0.0);\">and</span> <span style=\"background-color:rgba(135,206,250,0.015432098880410194);\">grumpy</span> <span style=\"background-color:rgba(135,206,250,0.0);\">.</span> <span style=\"background-color:rgba(135,206,250,0.0);\">the</span> <span style=\"background-color:rgba(135,206,250,1.25);\">food</span> <span style=\"background-color:rgba(135,206,250,0.0);\">be</span> <span style=\"background-color:rgba(135,206,250,0.04629629664123058);\">mediocre</span> <span style=\"background-color:rgba(135,206,250,0.0);\">.</span> <span style=\"background-color:rgba(135,206,250,0.18518518656492233);\">definitely</span> <span style=\"background-color:rgba(135,206,250,0.0);\">take</span> <span style=\"background-color:rgba(135,206,250,0.0);\">this</span> <span style=\"background-color:rgba(135,206,250,0.6018518656492233);\">place</span> <span style=\"background-color:rgba(135,206,250,0.0);\">off</span> <span style=\"background-color:rgba(135,206,250,0.0);\">our</span> <span style=\"background-color:rgba(135,206,250,0.0);\">las</span> <span style=\"background-color:rgba(135,206,250,0.0);\">vegas</span> <span style=\"background-color:rgba(135,206,250,0.0);\">list</span> <span style=\"background-color:rgba(135,206,250,0.0);\">.</span> "
      ],
      "text/plain": [
       "<IPython.core.display.HTML object>"
      ]
     },
     "metadata": {},
     "output_type": "display_data"
    },
    {
     "data": {
      "text/html": [
       "<span style=\"background-color:rgba(135,206,250,0.0);\">the</span> <span style=\"background-color:rgba(135,206,250,0.0);\">most</span> <span style=\"background-color:rgba(135,206,250,0.476190485060215);\">delicious</span> <span style=\"background-color:rgba(135,206,250,0.059523810632526875);\">steak</span> <span style=\"background-color:rgba(135,206,250,0.0);\">i</span> <span style=\"background-color:rgba(135,206,250,0.0);\">'ve</span> <span style=\"background-color:rgba(135,206,250,0.0);\">ever</span> <span style=\"background-color:rgba(135,206,250,0.0);\">have</span> <span style=\"background-color:rgba(135,206,250,0.0);\">!</span> <span style=\"background-color:rgba(135,206,250,0.0);\">also</span> <span style=\"background-color:rgba(135,206,250,0.0);\">the</span> <span style=\"background-color:rgba(135,206,250,0.0);\">most</span> <span style=\"background-color:rgba(135,206,250,0.044642859138548374);\">expensive</span> <span style=\"background-color:rgba(135,206,250,0.0);\">,</span> <span style=\"background-color:rgba(135,206,250,0.0);\">but</span> <span style=\"background-color:rgba(135,206,250,0.0);\">it</span> <span style=\"background-color:rgba(135,206,250,0.0);\">be</span> <span style=\"background-color:rgba(135,206,250,0.0);\">totally</span> <span style=\"background-color:rgba(135,206,250,0.252976194024086);\">worth</span> <span style=\"background-color:rgba(135,206,250,0.0);\">it</span> <span style=\"background-color:rgba(135,206,250,0.0);\">.</span> <span style=\"background-color:rgba(135,206,250,0.0);\">our</span> <span style=\"background-color:rgba(135,206,250,0.029761905316263437);\">waiter</span> <span style=\"background-color:rgba(135,206,250,0.0);\">be</span> <span style=\"background-color:rgba(135,206,250,0.07440476212650537);\">incredible</span> <span style=\"background-color:rgba(135,206,250,0.0);\">,</span> <span style=\"background-color:rgba(135,206,250,0.0);\">as</span> <span style=\"background-color:rgba(135,206,250,0.0);\">be</span> <span style=\"background-color:rgba(135,206,250,0.0);\">his</span> <span style=\"background-color:rgba(135,206,250,0.0);\">assistant</span> <span style=\"background-color:rgba(135,206,250,0.0);\">,</span> <span style=\"background-color:rgba(135,206,250,0.0);\">and</span> <span style=\"background-color:rgba(135,206,250,0.0);\">we</span> <span style=\"background-color:rgba(135,206,250,0.65476194024086);\">love</span> <span style=\"background-color:rgba(135,206,250,0.0);\">the</span> <span style=\"background-color:rgba(135,206,250,0.044642859138548374);\">vibe</span> <span style=\"background-color:rgba(135,206,250,0.0);\">of</span> <span style=\"background-color:rgba(135,206,250,0.0);\">the</span> <span style=\"background-color:rgba(135,206,250,0.10416666977107525);\">restaurant</span> <span style=\"background-color:rgba(135,206,250,0.0);\">.</span> <span style=\"background-color:rgba(135,206,250,0.0);\">not</span> <span style=\"background-color:rgba(135,206,250,0.0);\">too</span> <span style=\"background-color:rgba(135,206,250,0.014880952658131719);\">stuffy</span> <span style=\"background-color:rgba(135,206,250,0.0);\">,</span> <span style=\"background-color:rgba(135,206,250,0.0);\">really</span> <span style=\"background-color:rgba(135,206,250,0.044642859138548374);\">fun</span> <span style=\"background-color:rgba(135,206,250,0.0);\">,</span> <span style=\"background-color:rgba(135,206,250,1.25);\">great</span> <span style=\"background-color:rgba(135,206,250,0.044642859138548374);\">cocktail</span> <span style=\"background-color:rgba(135,206,250,0.0);\">.</span> <span style=\"background-color:rgba(135,206,250,0.0);\">if</span> <span style=\"background-color:rgba(135,206,250,0.0);\">i</span> <span style=\"background-color:rgba(135,206,250,0.0);\">be</span> <span style=\"background-color:rgba(135,206,250,0.0);\">ever</span> <span style=\"background-color:rgba(135,206,250,0.0);\">back</span> <span style=\"background-color:rgba(135,206,250,0.0);\">in</span> <span style=\"background-color:rgba(135,206,250,0.0);\">vegas</span> <span style=\"background-color:rgba(135,206,250,0.0);\">,</span> <span style=\"background-color:rgba(135,206,250,0.0);\">i</span> <span style=\"background-color:rgba(135,206,250,0.0);\">would</span> <span style=\"background-color:rgba(135,206,250,0.65476194024086);\">love</span> <span style=\"background-color:rgba(135,206,250,0.0);\">to</span> <span style=\"background-color:rgba(135,206,250,0.14880952425301075);\">return</span> <span style=\"background-color:rgba(135,206,250,0.0);\">.</span> "
      ],
      "text/plain": [
       "<IPython.core.display.HTML object>"
      ]
     },
     "metadata": {},
     "output_type": "display_data"
    },
    {
     "data": {
      "text/html": [
       "<span style=\"background-color:rgba(135,206,250,0.1785714365541935);\">excellent</span> <span style=\"background-color:rgba(135,206,250,0.029761905316263437);\">breakfast</span> <span style=\"background-color:rgba(135,206,250,1.205357164144516);\">food</span> <span style=\"background-color:rgba(135,206,250,0.0);\">and</span> <span style=\"background-color:rgba(135,206,250,0.252976194024086);\">staff</span> <span style=\"background-color:rgba(135,206,250,0.0);\">!</span> <span style=\"background-color:rgba(135,206,250,0.0);\">!</span> <span style=\"background-color:rgba(135,206,250,0.0);\">!</span> <span style=\"background-color:rgba(135,206,250,0.0);\">!</span> <span style=\"background-color:rgba(135,206,250,1.25);\">great</span> <span style=\"background-color:rgba(135,206,250,0.0);\">for</span> <span style=\"background-color:rgba(135,206,250,0.0);\">a</span> <span style=\"background-color:rgba(135,206,250,0.014880952658131719);\">sunday</span> <span style=\"background-color:rgba(135,206,250,0.0);\">of</span> <span style=\"background-color:rgba(135,206,250,0.029761905316263437);\">chill</span> <span style=\"background-color:rgba(135,206,250,0.0);\">and</span> <span style=\"background-color:rgba(135,206,250,0.252976194024086);\">drink</span> <span style=\"background-color:rgba(135,206,250,0.0);\">!</span> <span style=\"background-color:rgba(135,206,250,0.0);\">the</span> <span style=\"background-color:rgba(135,206,250,0.282738097012043);\">wait</span> <span style=\"background-color:rgba(135,206,250,0.252976194024086);\">staff</span> <span style=\"background-color:rgba(135,206,250,0.0);\">be</span> <span style=\"background-color:rgba(135,206,250,1.25);\">great</span> <span style=\"background-color:rgba(135,206,250,0.0);\">and</span> <span style=\"background-color:rgba(135,206,250,0.416666679084301);\">friendly</span> <span style=\"background-color:rgba(135,206,250,0.0);\">and</span> <span style=\"background-color:rgba(135,206,250,0.0);\">really</span> <span style=\"background-color:rgba(135,206,250,0.0);\">on</span> <span style=\"background-color:rgba(135,206,250,0.0);\">top</span> <span style=\"background-color:rgba(135,206,250,0.0);\">of</span> <span style=\"background-color:rgba(135,206,250,0.252976194024086);\">drink</span> <span style=\"background-color:rgba(135,206,250,0.0);\">.</span> <span style=\"background-color:rgba(135,206,250,0.0);\">the</span> <span style=\"background-color:rgba(135,206,250,1.205357164144516);\">food</span> <span style=\"background-color:rgba(135,206,250,0.0);\">be</span> <span style=\"background-color:rgba(135,206,250,0.059523810632526875);\">serve</span> <span style=\"background-color:rgba(135,206,250,0.029761905316263437);\">fairly</span> <span style=\"background-color:rgba(135,206,250,0.044642859138548374);\">quickly</span> <span style=\"background-color:rgba(135,206,250,0.0);\">with</span> <span style=\"background-color:rgba(135,206,250,0.014880952658131719);\">local</span> <span style=\"background-color:rgba(135,206,250,0.1785714365541935);\">fresh</span> <span style=\"background-color:rgba(135,206,250,0.014880952658131719);\">ingredient</span> <span style=\"background-color:rgba(135,206,250,0.0);\">.</span> <span style=\"background-color:rgba(135,206,250,0.0);\">we</span> <span style=\"background-color:rgba(135,206,250,0.0);\">will</span> <span style=\"background-color:rgba(135,206,250,0.0);\">be</span> <span style=\"background-color:rgba(135,206,250,0.0);\">go</span> <span style=\"background-color:rgba(135,206,250,0.0);\">back</span> <span style=\"background-color:rgba(135,206,250,0.0);\">in</span> <span style=\"background-color:rgba(135,206,250,0.0);\">the</span> <span style=\"background-color:rgba(135,206,250,0.029761905316263437);\">future</span> <span style=\"background-color:rgba(135,206,250,0.0);\">to</span> <span style=\"background-color:rgba(135,206,250,0.2380952425301075);\">taste</span> <span style=\"background-color:rgba(135,206,250,0.0);\">more</span> <span style=\"background-color:rgba(135,206,250,0.0);\">of</span> <span style=\"background-color:rgba(135,206,250,0.0);\">the</span> <span style=\"background-color:rgba(135,206,250,0.07440476212650537);\">menu</span> "
      ],
      "text/plain": [
       "<IPython.core.display.HTML object>"
      ]
     },
     "metadata": {},
     "output_type": "display_data"
    }
   ],
   "source": [
    "from data.yelp_hat.spacy_pretok_dataset import SpacyPretokenizeYelpHat\n",
    "import spacy\n",
    "from spacy.tokens import Doc\n",
    "from modules.utils import hightlight\n",
    "import torch\n",
    "\n",
    "\n",
    "# Load dataset\n",
    "dataset = SpacyPretokenizeYelpHat(root=dataset_path, split='yelp50')\n",
    "tokens = dataset.data['text_tokens'].tolist()\n",
    "rationale = dataset.data['ham'].tolist()\n",
    "\n",
    "flatten_token = [tk for sent in tokens for tk in sent]\n",
    "flatten_rationale = [r for sent in rationale for r in sent]\n",
    "\n",
    "nlp = spacy.load('en_core_web_sm')\n",
    "\n",
    "docs = [Doc(nlp.vocab, words=sent) for sent in tokens]\n",
    "tokenized_docs = list(nlp.pipe(docs))\n",
    "pos_filter = [[tk.pos_ in [''] for tk in d] for d in tokenized_docs]\n",
    "stop_filter = [[not tk.is_stop for tk in d] for d in tokenized_docs]\n",
    "mask = [pos_ and stop_ for pos_, stop_ in zip(pos_filter, stop_filter)]\n",
    "\n",
    "\n",
    "token_freq = dict()\n",
    "flatten_token = [tk for sent in tokens for tk in sent]\n",
    "flatten_rationale = [r for sent in rationale for r in sent]\n",
    "\n",
    "for t, r in zip(flatten_token, flatten_rationale):\n",
    "    if r: token_freq[t] = token_freq.get(t, 0) + 1\n",
    "\n",
    "total_freq = sum(token_freq.values())\n",
    "token_freq = {k: v/total_freq for k, v in token_freq.items()}\n",
    "\n",
    "heuristics = []\n",
    "for sent_tokens, sent_mask in zip(tokens, mask):\n",
    "    heuris_map = [token_freq.get(tk, 0) for tk in sent_tokens]\n",
    "    heuris_map = [h * float(m) for h, m in zip(heuris_map, sent_mask)]\n",
    "    heuristics.append(heuris_map)\n",
    "\n",
    "tensor_heuristics = [torch.tensor(h) for h in heuristics]\n",
    "for i in range(20):\n",
    "    display(HTML(hightlight(tokens[i], tensor_heuristics[i])))"
   ]
  },
  {
   "cell_type": "markdown",
   "id": "ed7d1614-b72e-4a8c-800a-46a409c17d1c",
   "metadata": {
    "pycharm": {
     "name": "#%% md\n"
    }
   },
   "source": [
    "## Statistics on annotation"
   ]
  },
  {
   "cell_type": "code",
   "execution_count": 26,
   "id": "2217e0d3-b5a6-43a1-affe-21c862789422",
   "metadata": {
    "pycharm": {
     "name": "#%%\n"
    }
   },
   "outputs": [
    {
     "data": {
      "application/vnd.jupyter.widget-view+json": {
       "model_id": "e030d17ad8d04c148078109da0ff71ae",
       "version_major": 2,
       "version_minor": 0
      },
      "text/plain": [
       "train:   0%|          | 0/177113 [00:00<?, ?it/s]"
      ]
     },
     "metadata": {},
     "output_type": "display_data"
    },
    {
     "data": {
      "application/vnd.jupyter.widget-view+json": {
       "model_id": "ff661493a81f464f81e814658fc2a7cc",
       "version_major": 2,
       "version_minor": 0
      },
      "text/plain": [
       "val:   0%|          | 0/76039 [00:00<?, ?it/s]"
      ]
     },
     "metadata": {},
     "output_type": "display_data"
    },
    {
     "data": {
      "application/vnd.jupyter.widget-view+json": {
       "model_id": "ec028d645f9b4879b5913cb425005290",
       "version_major": 2,
       "version_minor": 0
      },
      "text/plain": [
       "yelp50:   0%|          | 0/17702 [00:00<?, ?it/s]"
      ]
     },
     "metadata": {},
     "output_type": "display_data"
    },
    {
     "data": {
      "application/vnd.jupyter.widget-view+json": {
       "model_id": "d799c5c2a4c9471287edc23407b1d753",
       "version_major": 2,
       "version_minor": 0
      },
      "text/plain": [
       "yelp100:   0%|          | 0/50788 [00:00<?, ?it/s]"
      ]
     },
     "metadata": {},
     "output_type": "display_data"
    },
    {
     "data": {
      "application/vnd.jupyter.widget-view+json": {
       "model_id": "eac1c64f3f044197bb0ce6eb7d1f6885",
       "version_major": 2,
       "version_minor": 0
      },
      "text/plain": [
       "yelp200:   0%|          | 0/41352 [00:00<?, ?it/s]"
      ]
     },
     "metadata": {},
     "output_type": "display_data"
    },
    {
     "name": "stdout",
     "output_type": "stream",
     "text": [
      "=== Most frequent pos in train ===\n"
     ]
    },
    {
     "data": {
      "text/plain": [
       "{'ADJ': 0.25449385052034057,\n",
       " 'ADJ+NOUN': 0.5081117067872034,\n",
       " 'ADJ+NOUN+VERB': 0.628473317215039,\n",
       " 'ADJ+NOUN+VERB+ADV': 0.7342934230351448,\n",
       " 'ADJ+NOUN+VERB+ADV+AUX': 0.794772066295245}"
      ]
     },
     "metadata": {},
     "output_type": "display_data"
    },
    {
     "name": "stdout",
     "output_type": "stream",
     "text": [
      "\n",
      "=== Most frequent pos in val ===\n"
     ]
    },
    {
     "data": {
      "text/plain": [
       "{'ADJ': 0.2583930266678174,\n",
       " 'ADJ+NOUN': 0.5107448002071286,\n",
       " 'ADJ+NOUN+VERB': 0.6309657374643998,\n",
       " 'ADJ+NOUN+VERB+ADV': 0.7397082937775092,\n",
       " 'ADJ+NOUN+VERB+ADV+AUX': 0.7998619142142055}"
      ]
     },
     "metadata": {},
     "output_type": "display_data"
    },
    {
     "name": "stdout",
     "output_type": "stream",
     "text": [
      "\n",
      "=== Most frequent pos in yelp50 ===\n"
     ]
    },
    {
     "data": {
      "text/plain": [
       "{'ADJ': 0.28684290489213005,\n",
       " 'ADJ+NOUN': 0.558189000303859,\n",
       " 'ADJ+NOUN+VERB': 0.6949255545426922,\n",
       " 'ADJ+NOUN+VERB+ADV': 0.7988453357642055}"
      ]
     },
     "metadata": {},
     "output_type": "display_data"
    },
    {
     "name": "stdout",
     "output_type": "stream",
     "text": [
      "\n",
      "=== Most frequent pos in yelp100 ===\n"
     ]
    },
    {
     "data": {
      "text/plain": [
       "{'ADJ': 0.26185636856368566,\n",
       " 'ADJ+NOUN': 0.5210027100271003,\n",
       " 'ADJ+NOUN+VERB': 0.6409214092140921,\n",
       " 'ADJ+NOUN+VERB+ADV': 0.7501693766937669}"
      ]
     },
     "metadata": {},
     "output_type": "display_data"
    },
    {
     "name": "stdout",
     "output_type": "stream",
     "text": [
      "\n",
      "=== Most frequent pos in yelp200 ===\n"
     ]
    },
    {
     "data": {
      "text/plain": [
       "{'ADJ': 0.24665856622114216,\n",
       " 'ADJ+NOUN': 0.49119076549210205,\n",
       " 'ADJ+NOUN+VERB': 0.6202916160388822,\n",
       " 'ADJ+NOUN+VERB+ADV': 0.7308626974483596,\n",
       " 'ADJ+NOUN+VERB+ADV+AUX': 0.7876670716889429}"
      ]
     },
     "metadata": {},
     "output_type": "display_data"
    },
    {
     "name": "stdout",
     "output_type": "stream",
     "text": [
      "\n",
      "=== Most 10 frequent highlighted tokens in train ===\n"
     ]
    },
    {
     "data": {
      "text/plain": [
       "[('be', 0.04877536003363818),\n",
       " ('not', 0.02915308875573776),\n",
       " ('food', 0.02337152668278496),\n",
       " ('great', 0.023301447142506745),\n",
       " ('good', 0.021128981393882057),\n",
       " ('service', 0.020112828059847928),\n",
       " ('the', 0.014786782998703528),\n",
       " ('very', 0.0137706296646694),\n",
       " ('and', 0.012649357020217947),\n",
       " ('place', 0.012018641157714005)]"
      ]
     },
     "metadata": {},
     "output_type": "display_data"
    },
    {
     "name": "stdout",
     "output_type": "stream",
     "text": [
      "\n",
      "=== Most 10 frequent highlighted tokens in val ===\n"
     ]
    },
    {
     "data": {
      "text/plain": [
       "[('be', 0.04574091654440321),\n",
       " ('not', 0.03029256925865194),\n",
       " ('great', 0.024941745059117976),\n",
       " ('food', 0.023043065504444637),\n",
       " ('good', 0.02261154742383706),\n",
       " ('service', 0.018037455769396738),\n",
       " ('very', 0.014499007508414603),\n",
       " ('the', 0.013635971347199448),\n",
       " ('place', 0.012945542418227323),\n",
       " ('well', 0.011909899024769138)]"
      ]
     },
     "metadata": {},
     "output_type": "display_data"
    },
    {
     "name": "stdout",
     "output_type": "stream",
     "text": [
      "\n",
      "=== Most 10 frequent highlighted tokens in yelp50 ===\n"
     ]
    },
    {
     "data": {
      "text/plain": [
       "[('not', 0.03372835004557885),\n",
       " ('great', 0.02552415679124886),\n",
       " ('good', 0.025220297781829232),\n",
       " ('food', 0.024612579762989972),\n",
       " ('service', 0.02127013065937405),\n",
       " ('be', 0.019750835612275905),\n",
       " ('love', 0.013369796414463689),\n",
       " ('very', 0.012154360376785172),\n",
       " ('place', 0.011850501367365542),\n",
       " ('well', 0.011546642357945914)]"
      ]
     },
     "metadata": {},
     "output_type": "display_data"
    },
    {
     "name": "stdout",
     "output_type": "stream",
     "text": [
      "\n",
      "=== Most 10 frequent highlighted tokens in yelp100 ===\n"
     ]
    },
    {
     "data": {
      "text/plain": [
       "[('be', 0.04217479674796748),\n",
       " ('not', 0.029132791327913278),\n",
       " ('good', 0.022357723577235773),\n",
       " ('great', 0.02100271002710027),\n",
       " ('food', 0.017953929539295393),\n",
       " ('the', 0.014566395663956639),\n",
       " ('service', 0.014397018970189702),\n",
       " ('well', 0.0130420054200542),\n",
       " ('very', 0.012703252032520325),\n",
       " ('and', 0.011348238482384823)]"
      ]
     },
     "metadata": {},
     "output_type": "display_data"
    },
    {
     "name": "stdout",
     "output_type": "stream",
     "text": [
      "\n",
      "=== Most 10 frequent highlighted tokens in yelp200 ===\n"
     ]
    },
    {
     "data": {
      "text/plain": [
       "[('be', 0.04343863912515188),\n",
       " ('not', 0.028250303766707167),\n",
       " ('the', 0.018529769137302553),\n",
       " ('good', 0.015492102065613609),\n",
       " ('great', 0.01488456865127582),\n",
       " ('i', 0.01488456865127582),\n",
       " ('service', 0.013061968408262455),\n",
       " ('to', 0.011239368165249088),\n",
       " ('very', 0.010935601458080195),\n",
       " ('well', 0.0106318347509113)]"
      ]
     },
     "metadata": {},
     "output_type": "display_data"
    },
    {
     "name": "stdout",
     "output_type": "stream",
     "text": [
      "\n"
     ]
    }
   ],
   "source": [
    "from data.yelp_hat.spacy_pretok_dataset import SpacyPretokenizeYelpHat\n",
    "from tqdm.notebook import tqdm\n",
    "\n",
    "cnt = dict()\n",
    "\n",
    "for split in ['train', 'val', 'yelp50', 'yelp100', 'yelp200']:\n",
    "    \n",
    "    # Load dataset\n",
    "    dataset = SpacyPretokenizeYelpHat(root=dataset_path, split=split)\n",
    "    tokens = dataset.data['text_tokens']\n",
    "    rationale = dataset.data['ham']\n",
    "\n",
    "    # Add punctuation to separate sentences\n",
    "    for i in range(len(tokens)):\n",
    "        tokens[i].append('.')\n",
    "        rationale[i].append(0)\n",
    "\n",
    "    flatten_token = [tk for sent in tokens for tk in sent]\n",
    "    flatten_rationale = [r for sent in rationale for r in sent]\n",
    "\n",
    "    nlp = spacy.load('en_core_web_sm')\n",
    "    doc = Doc(nlp.vocab, words=flatten_token)\n",
    "    pos = [tk.pos_ for tk in nlp(doc)]\n",
    "    \n",
    "    # Start counting\n",
    "    cnt_pos = dict()\n",
    "    cnt_tok = dict()\n",
    "    cnt_pos_total = dict()\n",
    "    cnt_tok_total = dict()\n",
    "    \n",
    "    for p, r, t in tqdm(zip(pos, flatten_rationale, flatten_token), total=len(flatten_rationale), desc=split):\n",
    "    \n",
    "        cnt_pos_total[p] = cnt_pos_total.get(p, 0) +1\n",
    "        cnt_tok_total[t] = cnt_tok_total.get(t, 0) +1\n",
    "\n",
    "        if r > 0:\n",
    "            cnt_pos[p] = cnt_pos.get(p, 0) + 1\n",
    "            cnt_tok[t] = cnt_tok.get(t, 0) + 1\n",
    "            \n",
    "    cnt[split] = {\n",
    "        'pos' : cnt_pos,\n",
    "        'tok' : cnt_tok,\n",
    "        'pos_total': cnt_pos_total,\n",
    "        'tok_total': cnt_tok_total\n",
    "    }    \n",
    "    \n",
    "for split in cnt:\n",
    "    print('=== Most frequent pos in', split,\"===\")\n",
    "    _count = cnt[split]['pos']\n",
    "    total = sum(_count.values())\n",
    "    percentage = {k: c/total for k, c in _count.items()}\n",
    "    sorted_percentage = sorted(percentage.items(), key=lambda item: -item[1])\n",
    "    sorted_key = [p[0] for p in sorted_percentage]\n",
    "    sorted_values = [p[1] for p in sorted_percentage]\n",
    "    cumulated_percentage = {'+'.join(sorted_key[:i]): sum(sorted_values[:i]) for i in range(1, len(sorted_percentage)) }\n",
    "    cumulated_percentage = {k: v for k, v in cumulated_percentage.items() if v < 0.8}\n",
    "    display(cumulated_percentage)\n",
    "    print()\n",
    "\n",
    "for split in cnt:\n",
    "    print('=== Most 10 frequent highlighted tokens in', split,\"===\")\n",
    "    _count = cnt[split]['tok']\n",
    "    total = sum(_count.values())\n",
    "    percentage = {k: c/total for k, c in _count.items()}\n",
    "    sorted_percentage = sorted(percentage.items(), key=lambda item: -item[1])\n",
    "    display(sorted_percentage[:10])\n",
    "    print()"
   ]
  },
  {
   "cell_type": "markdown",
   "id": "e6c3ccbd-dd4e-463d-8914-f0cc81f8b829",
   "metadata": {
    "pycharm": {
     "name": "#%% md\n"
    }
   },
   "source": [
    "## Making of heuristic"
   ]
  },
  {
   "cell_type": "code",
   "execution_count": 4,
   "id": "116983c3-87b9-4e99-a6e3-3761359936be",
   "metadata": {
    "pycharm": {
     "name": "#%%\n"
    }
   },
   "outputs": [
    {
     "data": {
      "text/plain": [
       "0.8265129896457086"
      ]
     },
     "execution_count": 4,
     "metadata": {},
     "output_type": "execute_result"
    }
   ],
   "source": [
    "from data.yelp_hat.spacy_pretok_dataset import SpacyPretokenizeYelpHat\n",
    "from sklearn.metrics import roc_auc_score\n",
    "\n",
    "yelp50 = SpacyPretokenizeYelpHat(root=path.join(cache_path, 'dataset'), split='yelp50')\n",
    "\n",
    "heuristic = yelp50.data['heuristic']\n",
    "rationale = yelp50.data['ham']\n",
    "\n",
    "heuristic = [h_value for h_vector in heuristic for h_value in h_vector]\n",
    "rationale = [r_value for r_vector in rationale for r_value in r_vector]\n",
    "\n",
    "\n",
    "roc_score = roc_auc_score(rationale, heuristic)\n",
    "roc_score"
   ]
  },
  {
   "cell_type": "code",
   "execution_count": 5,
   "id": "3679a666-310b-42d0-a6ad-957f1fccf047",
   "metadata": {
    "pycharm": {
     "name": "#%%\n"
    }
   },
   "outputs": [
    {
     "name": "stdout",
     "output_type": "stream",
     "text": [
      "train : 0.7541391231043293\n",
      "val : 0.5661874525553442\n",
      "yelp50 : 0.8265129896457086\n"
     ]
    },
    {
     "name": "stderr",
     "output_type": "stream",
     "text": [
      "WARNING:console_:Drop 1 samples because HAMs are not compatibles\n"
     ]
    },
    {
     "name": "stdout",
     "output_type": "stream",
     "text": [
      "yelp100 : 0.7344016876803974\n"
     ]
    },
    {
     "name": "stderr",
     "output_type": "stream",
     "text": [
      "WARNING:console_:Drop 2 samples because HAMs are not compatibles\n"
     ]
    },
    {
     "name": "stdout",
     "output_type": "stream",
     "text": [
      "yelp200 : 0.7240816255407233\n"
     ]
    }
   ],
   "source": [
    "for split in ['train', 'val', 'yelp50', 'yelp100', 'yelp200']:\n",
    "    dataset = SpacyPretokenizeYelpHat(root=path.join(cache_path, 'dataset'), split=split)\n",
    "    heuristic = [h_value for h_vector in dataset.data['heuristic'] for h_value in h_vector]\n",
    "    rationale = [r_value for r_vector in dataset.data['ham'] for r_value in r_vector]\n",
    "    roc_score = roc_auc_score(rationale, heuristic)\n",
    "    print(split, ':', roc_score)"
   ]
  },
  {
   "cell_type": "code",
   "execution_count": 48,
   "id": "931b5f69-7a62-4add-bd91-eb6a5952e9da",
   "metadata": {
    "pycharm": {
     "name": "#%%\n"
    }
   },
   "outputs": [
    {
     "name": "stdout",
     "output_type": "stream",
     "text": [
      "train : 0.4562269398738891\n",
      "val : 0.17548856110022187\n",
      "yelp50 : 0.6546419989436125\n",
      "yelp100 : 0.35043071747460613\n",
      "yelp200 : 0.24948444005921566\n"
     ]
    }
   ],
   "source": [
    "from sklearn.metrics import average_precision_score\n",
    "import numpy as np\n",
    "\n",
    "for split in ['train', 'val', 'yelp50', 'yelp100', 'yelp200']:\n",
    "    dataset = SpacyPretokenizeYelpHat(root=path.join(cache_path, 'dataset'), split=split)\n",
    "    dataset.data = dataset.data[dataset.data['label'] > 0].reset_index()\n",
    "    \n",
    "    h_vectors = [np.array(h_vector)/sum(h_vector) for h_vector in dataset.data['heuristic']]\n",
    "    h_vectors = [(h-h.min())/(h.max()-h.min()) for h in h_vectors]\n",
    "    heuristic = np.concatenate(h_vectors)\n",
    "    \n",
    "    rationale = np.array([r_value for r_vector in dataset.data['ham'] for r_value in r_vector])\n",
    "    auprc = average_precision_score(rationale, heuristic)\n",
    "    \n",
    "    print(split, ':', auprc)"
   ]
  },
  {
   "cell_type": "code",
   "execution_count": 41,
   "id": "5d395bb3-7da4-464a-839a-7256b93b40eb",
   "metadata": {
    "pycharm": {
     "name": "#%%\n"
    }
   },
   "outputs": [
    {
     "data": {
      "text/plain": [
       "0.0"
      ]
     },
     "execution_count": 41,
     "metadata": {},
     "output_type": "execute_result"
    }
   ],
   "source": [
    "heuristic.min()"
   ]
  },
  {
   "cell_type": "code",
   "execution_count": 13,
   "id": "77a893c4-6587-4e4c-998d-f78ceea846d0",
   "metadata": {
    "pycharm": {
     "name": "#%%\n"
    }
   },
   "outputs": [
    {
     "data": {
      "text/plain": [
       "0.1376063183475091"
      ]
     },
     "execution_count": 13,
     "metadata": {},
     "output_type": "execute_result"
    }
   ],
   "source": [
    "sum(dataset.data['heuristic'][0])"
   ]
  },
  {
   "cell_type": "code",
   "execution_count": 14,
   "id": "a3773551-219a-4408-83fa-9223d8d5e435",
   "metadata": {
    "pycharm": {
     "name": "#%%\n"
    }
   },
   "outputs": [
    {
     "data": {
      "text/plain": [
       "0      [0.0, 0.0015188335358444715, 0.0, 0.0, 0.0, 0....\n",
       "1      [0.00212636695018226, 0.00030376670716889426, ...\n",
       "2      [0.0, 0.0, 0.0, 0.0, 0.0, 0.000303766707168894...\n",
       "3      [0.0, 0.0, 0.0, 0.00030376670716889426, 0.0, 0...\n",
       "4      [0.0, 0.0, 0.00637910085054678, 0.0, 0.0148845...\n",
       "                             ...                        \n",
       "174    [0.0, 0.0, 0.0, 0.0, 0.0, 0.0, 0.0006075334143...\n",
       "175    [0.0, 0.0, 0.0, 0.0, 0.0, 0.0, 0.0, 0.0, 0.0, ...\n",
       "176    [0.0, 0.002430133657351154, 0.0, 0.0, 0.0, 0.0...\n",
       "177    [0.00030376670716889426, 0.0, 0.0, 0.0, 0.0, 0...\n",
       "178    [0.0, 0.0, 0.0, 0.0, 0.0, 0.0, 0.0, 0.0, 0.000...\n",
       "Name: heuristic, Length: 179, dtype: object"
      ]
     },
     "execution_count": 14,
     "metadata": {},
     "output_type": "execute_result"
    }
   ],
   "source": [
    "dataset.data['heuristic']"
   ]
  },
  {
   "cell_type": "code",
   "execution_count": null,
   "id": "edbcded4-d7b6-433e-a08a-8c3db17627a9",
   "metadata": {
    "pycharm": {
     "name": "#%%\n"
    }
   },
   "outputs": [],
   "source": []
  }
 ],
 "metadata": {
  "kernelspec": {
   "display_name": "Python 3 (ipykernel)",
   "language": "python",
   "name": "python3"
  },
  "language_info": {
   "codemirror_mode": {
    "name": "ipython",
    "version": 3
   },
   "file_extension": ".py",
   "mimetype": "text/x-python",
   "name": "python",
   "nbconvert_exporter": "python",
   "pygments_lexer": "ipython3",
   "version": "3.8.5"
  }
 },
 "nbformat": 4,
 "nbformat_minor": 5
}
